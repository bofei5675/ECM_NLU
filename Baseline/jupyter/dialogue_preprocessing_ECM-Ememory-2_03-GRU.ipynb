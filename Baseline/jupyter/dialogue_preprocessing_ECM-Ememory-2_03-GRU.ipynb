{
 "cells": [
  {
   "cell_type": "code",
   "execution_count": 123,
   "metadata": {
    "ExecuteTime": {
     "end_time": "2019-04-03T00:20:14.079320Z",
     "start_time": "2019-04-03T00:20:12.231583Z"
    },
    "collapsed": true
   },
   "outputs": [],
   "source": [
    "from __future__ import absolute_import\n",
    "from __future__ import division\n",
    "from __future__ import print_function\n",
    "from __future__ import unicode_literals\n",
    "\n",
    "import torch\n",
    "from torch.jit import script, trace\n",
    "import torch.nn as nn\n",
    "from torch import optim\n",
    "import torch.nn.functional as F\n",
    "import numpy as np\n",
    "\n",
    "import pandas as pd\n",
    "import csv\n",
    "import random\n",
    "import re\n",
    "import os\n",
    "import unicodedata\n",
    "import codecs\n",
    "from io import open\n",
    "import itertools\n",
    "import math\n",
    "import time\n",
    "import json\n",
    "from preprocessing_dailydialogue import *\n",
    "import pickle\n",
    "from queue import PriorityQueue"
   ]
  },
  {
   "cell_type": "code",
   "execution_count": 124,
   "metadata": {
    "ExecuteTime": {
     "end_time": "2019-04-03T00:20:14.085039Z",
     "start_time": "2019-04-03T00:20:14.081116Z"
    },
    "collapsed": true
   },
   "outputs": [],
   "source": [
    "# Define constant\n",
    "# Default word tokens\n",
    "#\n",
    "torch.autograd.set_detect_anomaly(True)\n",
    "os.environ['CUDA_LAUNCH_BLOCKING'] = '1'\n",
    "USE_CUDA = torch.cuda.is_available()\n",
    "device = torch.device(\"cuda\" if USE_CUDA else \"cpu\")\n",
    "PAD_token = 0  # Used for padding short sentences\n",
    "SOS_token = 1  # Start-of-sentence token\n",
    "EOS_token = 2  # End-of-sentence token\n",
    "MAX_LENGTH = 10  # Maximum sentence length to consider\n",
    "MIN_COUNT = 3    # Minimum word count threshold for trimming\n",
    "save_dir = os.path.join(\"data\", \"save\")\n",
    "emo_dict = { 0: 'neutral', 1: 'joy', 2: 'anger', \n",
    "            3: 'sadness',4:'fear'}\n",
    "emo2idx = {value:key for key,value in emo_dict.items()}\n"
   ]
  },
  {
   "cell_type": "markdown",
   "metadata": {},
   "source": [
    "# Run this block if using daily dialogue"
   ]
  },
  {
   "cell_type": "code",
   "execution_count": 125,
   "metadata": {},
   "outputs": [
    {
     "data": {
      "text/plain": [
       "True"
      ]
     },
     "execution_count": 125,
     "metadata": {},
     "output_type": "execute_result"
    }
   ],
   "source": [
    "USE_CUDA"
   ]
  },
  {
   "cell_type": "markdown",
   "metadata": {},
   "source": [
    "# get data from pickle (No preprocessing required)"
   ]
  },
  {
   "cell_type": "code",
   "execution_count": 126,
   "metadata": {
    "collapsed": true
   },
   "outputs": [],
   "source": [
    "with open('processed_train.pickle','rb') as f:\n",
    "    pairs = pickle.load(f)\n",
    "    pairs_emotion = pickle.load(f)\n",
    "    voc = pickle.load(f)\n",
    "#with open('processed_test.pickle','rb') as f:\n",
    "#    pairs_t = pickle.load(f)\n",
    "#    pairs_emotion_t = pickle.load(f)"
   ]
  },
  {
   "cell_type": "code",
   "execution_count": 127,
   "metadata": {
    "collapsed": true
   },
   "outputs": [],
   "source": [
    "test_batch = batch2TrainData(voc,list(range(1000)),pairs[-1000:],pairs_emotion[-1000:])\n",
    "pairs = pairs[:-1000]\n",
    "pairs_emotion = pairs_emotion[:-1000]\n",
    "test_pairs = pairs[-1000:]\n",
    "test_pairs_emotion = pairs_emotion[-1000:]\n"
   ]
  },
  {
   "cell_type": "code",
   "execution_count": 128,
   "metadata": {},
   "outputs": [
    {
     "data": {
      "text/plain": [
       "(14923, 14923)"
      ]
     },
     "execution_count": 128,
     "metadata": {},
     "output_type": "execute_result"
    }
   ],
   "source": [
    "len(pairs),len(pairs_emotion)\n",
    "\n"
   ]
  },
  {
   "cell_type": "markdown",
   "metadata": {},
   "source": [
    "# Convert data to tensor"
   ]
  },
  {
   "cell_type": "code",
   "execution_count": 129,
   "metadata": {
    "ExecuteTime": {
     "end_time": "2019-04-03T00:20:22.371122Z",
     "start_time": "2019-04-03T00:20:22.361048Z"
    }
   },
   "outputs": [
    {
     "name": "stdout",
     "output_type": "stream",
     "text": [
      "input_variable: tensor([[  54,   25,   27,   10,   14],\n",
      "        [ 190,   30,   55,   55,  158],\n",
      "        [ 445, 1346,   77,   77,    8],\n",
      "        [  45,   13,  227,  203,    2],\n",
      "        [ 105,   92,   66,   15,    0],\n",
      "        [ 291,  296,   36,    2,    0],\n",
      "        [ 223,    8,    8,    0,    0],\n",
      "        [  12,    2,    2,    0,    0],\n",
      "        [   8,    0,    0,    0,    0],\n",
      "        [   2,    0,    0,    0,    0]])\n",
      "Input_emotion: tensor([0, 0, 0, 0, 0])\n",
      "lengths: tensor([10,  8,  8,  6,  4])\n",
      "target_variable: tensor([[  52,   33, 1011,   52,   67],\n",
      "        [  27,   34,   14,   27,    5],\n",
      "        [ 201,  984,   56,  105,   92],\n",
      "        [ 171,   12,  189,    8,  694],\n",
      "        [   8,    8,  437,    2, 3213],\n",
      "        [   2,    2,   66,    0,   15],\n",
      "        [   0,    0, 3191,    0,    2],\n",
      "        [   0,    0,    8,    0,    0],\n",
      "        [   0,    0,    2,    0,    0]])\n",
      "target_emotion: tensor([0, 0, 0, 0, 0])\n",
      "mask: tensor([[1, 1, 1, 1, 1],\n",
      "        [1, 1, 1, 1, 1],\n",
      "        [1, 1, 1, 1, 1],\n",
      "        [1, 1, 1, 1, 1],\n",
      "        [1, 1, 1, 1, 1],\n",
      "        [1, 1, 1, 0, 1],\n",
      "        [0, 0, 1, 0, 1],\n",
      "        [0, 0, 1, 0, 0],\n",
      "        [0, 0, 1, 0, 0]], dtype=torch.uint8)\n",
      "max_target_len: 9\n"
     ]
    }
   ],
   "source": [
    "# Example for validation\n",
    "small_batch_size = 5\n",
    "batches = batch2TrainData(voc, [random.choice(list(range(len(test_pairs)))) for _ in range(small_batch_size)],test_pairs,test_pairs_emotion)\n",
    "input_variable,input_emotion, lengths, target_variable,target_emotion, mask, max_target_len = batches\n",
    "#loss = evaluate_performance(input_variable,lengths,target_variable,target_emotion,mask,max_target_len,encoder,decoder)\n",
    "print(\"input_variable:\", input_variable)\n",
    "print('Input_emotion:',input_emotion)\n",
    "print(\"lengths:\", lengths)\n",
    "print(\"target_variable:\", target_variable)\n",
    "print('target_emotion:',target_emotion)\n",
    "print(\"mask:\", mask)\n",
    "print(\"max_target_len:\", max_target_len)\n",
    "#print('Loss:',loss)"
   ]
  },
  {
   "cell_type": "markdown",
   "metadata": {},
   "source": [
    "# Encoder + Attention"
   ]
  },
  {
   "cell_type": "code",
   "execution_count": 130,
   "metadata": {
    "ExecuteTime": {
     "end_time": "2019-04-03T00:20:22.384721Z",
     "start_time": "2019-04-03T00:20:22.372826Z"
    }
   },
   "outputs": [
    {
     "name": "stdout",
     "output_type": "stream",
     "text": [
      "Implement attention inside ECM\n"
     ]
    }
   ],
   "source": [
    "class EncoderRNN(nn.Module):\n",
    "    def __init__(self, hidden_size, embedding, n_layers=1, dropout=0):\n",
    "        super(EncoderRNN, self).__init__()\n",
    "        self.n_layers = n_layers\n",
    "        self.hidden_size = hidden_size\n",
    "        self.embedding = embedding\n",
    "\n",
    "        # Initialize GRU; the input_size and hidden_size params are both set to 'hidden_size'\n",
    "        #   because our input size is a word embedding with number of features == hidden_size\n",
    "        self.gru = nn.GRU(hidden_size, hidden_size, n_layers,\n",
    "                          dropout=(0 if n_layers == 1 else dropout), bidirectional=True)\n",
    "\n",
    "    def forward(self, input_seq, input_lengths, hidden=None):\n",
    "        # Convert word indexes to embeddings\n",
    "        embedded = self.embedding(input_seq)\n",
    "        # Pack padded batch of sequences for RNN module\n",
    "        packed = torch.nn.utils.rnn.pack_padded_sequence(embedded, input_lengths)\n",
    "        # Forward pass through GRU\n",
    "        outputs, hidden = self.gru(packed, hidden)\n",
    "        # Unpack padding\n",
    "        outputs, _ = torch.nn.utils.rnn.pad_packed_sequence(outputs)\n",
    "        # Sum bidirectional GRU outputs\n",
    "        outputs = outputs[:, :, :self.hidden_size] + outputs[:, : ,self.hidden_size:]\n",
    "        # Return output and final hidden state\n",
    "        return outputs, hidden\n",
    "\n",
    "print('Implement attention inside ECM')"
   ]
  },
  {
   "cell_type": "markdown",
   "metadata": {},
   "source": [
    "# ECM: Internal memory + Attention"
   ]
  },
  {
   "cell_type": "code",
   "execution_count": 131,
   "metadata": {
    "ExecuteTime": {
     "end_time": "2019-04-03T00:20:22.394866Z",
     "start_time": "2019-04-03T00:20:22.386874Z"
    },
    "collapsed": true
   },
   "outputs": [],
   "source": [
    "class ECMWrapper(nn.Module):\n",
    "    '''\n",
    "    Internal memory module\n",
    "    '''\n",
    "    def __init__(self,hidden_size,state_size,emo_size,num_emotion,embedding,emotion_embedding,gru,device):\n",
    "        '''\n",
    "        hidden_size: hidden input dimension\n",
    "        state_size: state vector size (input a word so hidden size)\n",
    "        emo_size: emotional embedding size (usually similar to hidden_size)\n",
    "        num_emotion: number of emotion categories\n",
    "        '''\n",
    "        super(ECMWrapper,self).__init__()\n",
    "        self.hidden_size = hidden_size\n",
    "        self.state_size = state_size\n",
    "        self.emo_size = emo_size\n",
    "        self.num_emotion = num_emotion\n",
    "        self.device = device\n",
    "        # read gate dimensions (word_embedding + hidden_input + context_input)\n",
    "        self.read_g = nn.Linear(self.hidden_size + self.hidden_size + self.hidden_size,self.emo_size)\n",
    "        # write gate\n",
    "        self.write_g = nn.Linear(self.state_size, self.emo_size)\n",
    "        # GRU output input dimensions = state_last + context + emotion emb + internal memory\n",
    "        self.gru = gru\n",
    "        self.emotion_embedding = emotion_embedding\n",
    "        self.embedding = embedding\n",
    "        # attention layer\n",
    "        self.attn1 = nn.Linear(self.hidden_size,self.hidden_size)\n",
    "        self.attn2 = nn.Linear(self.hidden_size,self.hidden_size)\n",
    "        self.concat = nn.Linear(self.hidden_size, 1)\n",
    "    def forward(self,word_input,decoder_output,static_emotion_input,emotion_input,context_input,last_hidden,memory):\n",
    "        '''\n",
    "        Last hidden == prev_cell_state\n",
    "        last word embedding = word_input\n",
    "        last hidden input = h\n",
    "        last_rnn_output = logits before softmax\n",
    "        memory = encoder_outputs\n",
    "        emotion_input = internal memory\n",
    "        static_emotion_input = emotion embedding value\n",
    "        '''\n",
    "        # get embedding of input word and emotion\n",
    "        if decoder_output is None:\n",
    "            decoder_output = torch.zeros(word_input.shape[1],self.hidden_size,dtype=torch.float,device = self.device)\n",
    "            decoder_output = decoder_output.unsqueeze(0)\n",
    "            context_input = self._compute_context(decoder_output,memory)\n",
    "        last_word_embedding = self.embedding(word_input)\n",
    "        read_inputs = torch.cat((last_word_embedding,decoder_output,context_input), dim = -1)\n",
    "        # compute read input\n",
    "        # write to emotion embedding\n",
    "        emotion_input = self._read_internal_memory(read_inputs,emotion_input)\n",
    "        # pass everything to GRU\n",
    "        # decoder_output: logits from last rnn unit\n",
    "        X = torch.cat([context_input, last_word_embedding, emotion_input], dim = -1)\n",
    "        rnn_output, hidden = self.gru(X,last_hidden,static_emotion_input,emotion_input)\n",
    "        # write input\n",
    "        # update states\n",
    "        # write to emotion embedding\n",
    "        new_M_emo = self._write_internal_memory(emotion_input,rnn_output) # new emotion_input\n",
    "        new_context = self._compute_context(rnn_output,memory)\n",
    "        return rnn_output, hidden, new_M_emo, new_context\n",
    "    def _compute_context(self,rnn_output,memory):\n",
    "        '''\n",
    "        Compute context\n",
    "        '''\n",
    "        rnn_output = rnn_output.unsqueeze(dim=-2).squeeze(0) # make shape (batch,1,hidden_size)\n",
    "        memory = memory.permute(1,0,2)\n",
    "        Wq = self.attn1(rnn_output)\n",
    "        Wm = self.attn2(memory)\n",
    "        concat = (Wq + Wm).tanh()\n",
    "        e = self.concat(concat).squeeze(2)\n",
    "        attn_score = torch.softmax(e,dim = 1).unsqueeze(1)\n",
    "        context = torch.bmm(attn_score,memory).squeeze(1)\n",
    "        return context.unsqueeze(0)\n",
    "    def _read_internal_memory(self,read_inputs,emotion_input):\n",
    "        \"\"\"\n",
    "        Read the internal memory\n",
    "            emotion_input: [batch_size, emo_hidden_size]\n",
    "            read_inputs: [batch_size, d] d= [last_word_embedding;decoder_output;context_input]\n",
    "        Returns:\n",
    "            output: [batch_size, emo__hidden_size]\n",
    "        \"\"\"\n",
    "        read_inputs = self.read_g(read_inputs)\n",
    "        M_read = torch.sigmoid(read_inputs)\n",
    "        return emotion_input * M_read\n",
    "    def _write_internal_memory(self,emotion_input,rnn_output):\n",
    "        \"\"\"\n",
    "        Write the internal memory\n",
    "            emotion_input: [batch_size, emo_hidden_size]\n",
    "            rnn_output: [batch_size, hidden_size]\n",
    "        Returns:\n",
    "            output: [batch_size, emo_hidden_size]\n",
    "        \"\"\"\n",
    "        M_write = torch.sigmoid(self.write_g(rnn_output))\n",
    "        return emotion_input * M_write\n",
    "    \n",
    "    "
   ]
  },
  {
   "cell_type": "markdown",
   "metadata": {},
   "source": [
    "# GRU"
   ]
  },
  {
   "cell_type": "code",
   "execution_count": 132,
   "metadata": {
    "collapsed": true
   },
   "outputs": [],
   "source": [
    "class ECMGRU(nn.Module):\n",
    "    def __init__(self,hidden_size,static_emo_size,emo_size ):\n",
    "        '''\n",
    "        Single layer GRU.\n",
    "        '''\n",
    "        super(ECMGRU,self).__init__()\n",
    "        self.hidden_size = hidden_size\n",
    "        # these three linear layer compute output from emotion/internal memory \n",
    "        self.emotion_u = nn.Linear(static_emo_size + emo_size, hidden_size)\n",
    "        self.emotion_r = nn.Linear(static_emo_size + emo_size, hidden_size)\n",
    "        self.emotion_c = nn.Linear(static_emo_size + emo_size, hidden_size)\n",
    "        # these two are generic GRU output that takes [step_input, last_hidden]\n",
    "        self.generic_u = nn.Linear(hidden_size + hidden_size + hidden_size + emo_size, hidden_size)\n",
    "        self.generic_r = nn.Linear(hidden_size + hidden_size + hidden_size + emo_size, hidden_size)\n",
    "        \n",
    "        # gate value computation\n",
    "        self.generic_c = nn.Linear(hidden_size + hidden_size + hidden_size + emo_size, hidden_size)\n",
    "    def forward(self,step_input,last_hidden,emotion,internal_memory):\n",
    "        '''\n",
    "        step_input: X\n",
    "        last_hidden: Hidden value from GRU\n",
    "        emotion: static emotion embedding vector\n",
    "        internal_memory: decayed emotion embedding vector\n",
    "        '''\n",
    "        internal_memory = internal_memory.squeeze(dim = 0)\n",
    "        emotion_input = torch.cat([emotion,internal_memory],dim=-1)\n",
    "        # compute emotion gate value\n",
    "        _u = self.emotion_u(emotion_input) # update gate\n",
    "        _r = self.emotion_r(emotion_input) # reset gate\n",
    "        _c = self.emotion_c(emotion_input) # reset gate vector\n",
    "        \n",
    "        # generic GRU gate value\n",
    "        X = torch.cat([step_input,last_hidden],dim = -1)\n",
    "        u = self.generic_u(X)\n",
    "        r = self.generic_r(X)\n",
    "        \n",
    "        # gate for this time stamp\n",
    "        rt = torch.sigmoid(r + _r)\n",
    "        ut = torch.sigmoid(u + _u)\n",
    "        \n",
    "        # gate vector\n",
    "        Xc = torch.cat([step_input, last_hidden * rt],dim = -1)\n",
    "        ct = _c + self.generic_c(Xc)\n",
    "        ct = torch.tanh(ct)\n",
    "        \n",
    "        hidden = ut * last_hidden + (1 - ut) * ct\n",
    "        \n",
    "        return hidden,hidden\n",
    "        \n",
    "        \n",
    "        \n",
    "        \n",
    "        \n",
    "        "
   ]
  },
  {
   "cell_type": "markdown",
   "metadata": {},
   "source": [
    "# Decoder part"
   ]
  },
  {
   "cell_type": "code",
   "execution_count": 133,
   "metadata": {
    "ExecuteTime": {
     "end_time": "2019-04-03T00:20:22.410809Z",
     "start_time": "2019-04-03T00:20:22.396793Z"
    },
    "collapsed": true
   },
   "outputs": [],
   "source": [
    "class LuongAttnDecoderRNN(nn.Module):\n",
    "    def __init__(self,embedding,static_emotion_embedding,emotion_embedding, hidden_size, output_size,device,ememory=None, n_layers=1, dropout=0.1,num_emotions = 7,batch_size = 64):\n",
    "        super(LuongAttnDecoderRNN, self).__init__()\n",
    "        # Keep for reference\n",
    "        self.attn_model = attn_model\n",
    "        self.hidden_size = hidden_size\n",
    "        self.output_size = output_size\n",
    "        self.n_layers = n_layers\n",
    "        self.batch_size = batch_size\n",
    "        self.dropout = dropout\n",
    "        self.num_emotions = num_emotions\n",
    "        self.device = device\n",
    "        # Define layers\n",
    "        self.embedding = embedding\n",
    "        # define emotion embedding\n",
    "        self.emotion_cat_embedding = static_emotion_embedding\n",
    "        self.emotion_embedding = emotion_embedding # for internal memory\n",
    "        self.embedding_dropout = nn.Dropout(dropout)\n",
    "        #self.emotion_embedding_dropout = nn.Dropout(dropout)\n",
    "        # dimension\n",
    "        #self.gru = nn.GRU(hidden_size + hidden_size + hidden_size, hidden_size, n_layers, dropout=(0 if n_layers == 1 else dropout))\n",
    "        self.gru = ECMGRU(emo_size=hidden_size,hidden_size=hidden_size,static_emo_size=hidden_size)\n",
    "        # using in Luong et al. attention mechanism.\n",
    "        self.internal_memory = ECMWrapper(hidden_size,hidden_size,\n",
    "                                          hidden_size,self.num_emotions,\n",
    "                                          self.embedding,self.emotion_embedding,self.gru,device)\n",
    "        # read external from outside\n",
    "        self.external_memory = ememory\n",
    "        # generic output linear layer\n",
    "        self.generic_word_output_layer = nn.Linear(self.hidden_size,output_size)\n",
    "        # emotional output linear layer \n",
    "        self.emotion_word_output_layer = nn.Linear(self.hidden_size,output_size)\n",
    "        # emotional gate/ choice layer\n",
    "        self.alpha_layer = nn.Linear(hidden_size,1)\n",
    "        # Luong eq 5 layer\n",
    "        self.concat = nn.Linear(hidden_size * 2, hidden_size)\n",
    "    def forward(self, input_step, input_static_emotion, input_step_emotion, last_hidden\n",
    "                ,input_context, encoder_outputs,last_rnn_output = None):\n",
    "        '''\n",
    "        Decoder with external memory.\n",
    "        \n",
    "        '''\n",
    "        if not torch.is_floating_point(input_step_emotion):\n",
    "            input_step_emotion = self.emotion_embedding(input_step_emotion) # float number for internal memory\n",
    "        input_static_emotion = self.emotion_cat_embedding(input_static_emotion)\n",
    "        rnn_output, hidden, new_M_emo,context = self.internal_memory(input_step,last_rnn_output,\n",
    "                                                                     input_static_emotion,\n",
    "                                                                     input_step_emotion,\n",
    "                                                                     input_context,last_hidden,\n",
    "                                                                     encoder_outputs)\n",
    "        # Concatenate weighted context vector and GRU output using Luong eq. 5\n",
    "        concat_input = torch.cat((rnn_output, context), -1)\n",
    "        concat_output = self.concat(concat_input)\n",
    "        # concat_output = rnn_output\n",
    "        # this part is not using inside ECM (?)\n",
    "        if self.external_memory is not None:\n",
    "            # Project hidden output to distribution.\n",
    "            generic_output = self.generic_word_output_layer(concat_output)\n",
    "            emotion_output = self.emotion_word_output_layer(concat_output)\n",
    "            generic_output = generic_output.squeeze(0)\n",
    "            emotion_output = emotion_output.squeeze(0)\n",
    "            # external memory gate\n",
    "            g = torch.sigmoid(self.alpha_layer(concat_output))\n",
    "            output_g = torch.softmax(generic_output,dim = 1) * (1 - g)\n",
    "            output_e = torch.softmax(emotion_output,dim = 1) * g\n",
    "            output = output_g + output_e # output distribution\n",
    "            output = output.squeeze(0)\n",
    "            g = torch.cat([(1 - g),g],dim = -1) # gate distribution\n",
    "            g = g.squeeze(0)\n",
    "        else:\n",
    "            # Predict next word using Luong eq. 6\n",
    "            output = self.out(concat_output).squeeze(0)\n",
    "            # generic output\n",
    "            output = F.softmax(output, dim=1)\n",
    "            output = output.squeeze(0)\n",
    "            g = None\n",
    "        # Return output and final hidden state\n",
    "        return output, hidden, new_M_emo, context,concat_output,g"
   ]
  },
  {
   "cell_type": "code",
   "execution_count": 134,
   "metadata": {
    "collapsed": true
   },
   "outputs": [],
   "source": [
    "gru = ECMGRU(emo_size=500,hidden_size=500,static_emo_size=500)"
   ]
  },
  {
   "cell_type": "code",
   "execution_count": 135,
   "metadata": {
    "collapsed": true
   },
   "outputs": [],
   "source": [
    "inp = torch.zeros((1,64,1500))\n",
    "last_hidden = torch.ones((1,64,500))\n",
    "static_emo = torch.randn((64,500))\n",
    "internal_memory = torch.randn((1,64,500))"
   ]
  },
  {
   "cell_type": "code",
   "execution_count": 136,
   "metadata": {
    "collapsed": true
   },
   "outputs": [],
   "source": [
    "rnn_output, hidden = gru(inp,last_hidden,static_emo,internal_memory)"
   ]
  },
  {
   "cell_type": "code",
   "execution_count": 137,
   "metadata": {},
   "outputs": [
    {
     "data": {
      "text/plain": [
       "(torch.Size([1, 64, 500]), torch.Size([1, 64, 500]))"
      ]
     },
     "execution_count": 137,
     "metadata": {},
     "output_type": "execute_result"
    }
   ],
   "source": [
    "rnn_output.shape,hidden.shape"
   ]
  },
  {
   "cell_type": "markdown",
   "metadata": {},
   "source": [
    "# NLL Loss + Internal Memory Loss"
   ]
  },
  {
   "cell_type": "code",
   "execution_count": 153,
   "metadata": {
    "ExecuteTime": {
     "end_time": "2019-04-03T00:20:22.417398Z",
     "start_time": "2019-04-03T00:20:22.413116Z"
    },
    "collapsed": true
   },
   "outputs": [],
   "source": [
    "def maskNLLLoss_IMemory(inp, target, mask,M_emo,external_memory,alpha):\n",
    "    '''\n",
    "    When external memory input will be a tuple with 4 elements\n",
    "    '''\n",
    "    nTotal = mask.sum()\n",
    "    \n",
    "    # cross entropy loss\n",
    "    crossEntropy = -torch.log(torch.gather(inp, 1, target.view(-1, 1)).squeeze(1) + 1e-12)\n",
    "    # internal emotional loss\n",
    "    eos_mask = (target == 2) # 2 is EOS token\n",
    "    eos_mask = eos_mask.type_as(M_emo)\n",
    "    internal_memory_loss = torch.norm(M_emo,dim = 2) * eos_mask\n",
    "    internal_memory_loss = internal_memory_loss.squeeze(0)\n",
    "    # external\n",
    "    # find 1,0\n",
    "    if external_memory is not None:\n",
    "        qt = torch.gather(external_memory.view(-1,1),0,target.view(-1,1)).type(torch.LongTensor)\n",
    "        qt = qt.to(device)\n",
    "        alpha_prob = torch.gather(alpha,1,qt) # if it select emotion word or generic word\n",
    "        external_memory_loss = (-torch.log(alpha_prob + 1e-12)).reshape(-1) \n",
    "    else:\n",
    "        external_memory_loss = torch.zeros(crossEntropy.shape,dtype=torch.float,device=device)\n",
    "    #print(crossEntropy.masked_select(mask).mean(),internal_memory_loss.masked_select(mask).mean())\n",
    "    loss = crossEntropy.masked_select(mask).mean() + external_memory_loss.mean() + internal_memory_loss.mean()\n",
    "    loss = loss.to(device)\n",
    "    return loss, nTotal.item(),crossEntropy.masked_select(mask).mean().item()\n",
    "\n"
   ]
  },
  {
   "cell_type": "markdown",
   "metadata": {},
   "source": [
    "# Single Train"
   ]
  },
  {
   "cell_type": "code",
   "execution_count": 139,
   "metadata": {
    "ExecuteTime": {
     "end_time": "2019-04-03T00:20:22.432980Z",
     "start_time": "2019-04-03T00:20:22.419994Z"
    },
    "collapsed": true
   },
   "outputs": [],
   "source": [
    "def compute_perplexity(loss):\n",
    "    return np.exp(loss)\n",
    "def train(input_variable, lengths, target_variable,target_variable_emotion,\n",
    "          mask, max_target_len, encoder, decoder, embedding,emotion_embedding,\n",
    "          encoder_optimizer, decoder_optimizer, batch_size, clip, max_length=MAX_LENGTH):\n",
    "    # Zero gradients\n",
    "    encoder_optimizer.zero_grad()\n",
    "    decoder_optimizer.zero_grad()\n",
    "    # num_samples in this batch\n",
    "    num_samples = input_variable.shape[1]\n",
    "    # Set device options\n",
    "    input_variable = input_variable.to(device)\n",
    "    lengths = lengths.to(device)\n",
    "    target_variable = target_variable.to(device)\n",
    "    mask = mask.to(device)\n",
    "    target_variable_emotion = target_variable_emotion.to(device)\n",
    "    # Initialize variables\n",
    "    loss = 0\n",
    "    print_losses = []\n",
    "    n_totals = 0\n",
    "    totalCrossEntropy = 0\n",
    "\n",
    "    # Forward pass through encoder\n",
    "    encoder_outputs, encoder_hidden = encoder(input_variable, lengths)\n",
    "\n",
    "    # Create initial decoder input (start with SOS tokens for each sentence)\n",
    "    decoder_input = torch.LongTensor([[SOS_token for _ in range(num_samples)]])\n",
    "    decoder_input = decoder_input.to(device)\n",
    "    \n",
    "    # Set initial decoder hidden state to the encoder's final hidden state\n",
    "    decoder_hidden = encoder_hidden[:decoder.n_layers]\n",
    "    \n",
    "    # Set initial context value,last_rnn_output, internal_memory\n",
    "    context_input = torch.zeros(num_samples,hidden_size,dtype=torch.float,device=device) #torch.FloatTensor(batch_size,hidden_size)\n",
    "    # Determine if we are using teacher forcing this iteration\n",
    "    if random.random() < teacher_forcing_ratio:\n",
    "        use_teacher_forcing = True  \n",
    "    else:\n",
    "        use_teacher_forcing = False\n",
    "    use_teacher_forcing = False\n",
    "    # initialize value for rnn_output\n",
    "    rnn_output = None\n",
    "    # keep a copy of emotional category for static emotion embedding\n",
    "    static_emotion = target_variable_emotion\n",
    "    static_emotion = static_emotion.to(device)\n",
    "    # Forward batch of sequences through decoder one time step at a time\n",
    "    if use_teacher_forcing:\n",
    "        for t in range(max_target_len):\n",
    "            decoder_output, decoder_hidden,target_variable_emotion,context_input,rnn_output,g = decoder(\n",
    "                decoder_input,static_emotion,target_variable_emotion, decoder_hidden,\n",
    "                context_input, encoder_outputs,rnn_output\n",
    "            )\n",
    "            # Teacher forcing: next input is current target\n",
    "            decoder_input = target_variable[t].view(1, -1)\n",
    "            # Calculate and accumulate loss\n",
    "            mask_loss, nTotal,crossEntropy = maskNLLLoss_IMemory(decoder_output, target_variable[t], mask[t],target_variable_emotion,decoder.external_memory,g)\n",
    "            loss += mask_loss\n",
    "            totalCrossEntropy += crossEntropy * nTotal\n",
    "            print_losses.append(mask_loss.item() * nTotal) # print average loss\n",
    "            n_totals += nTotal\n",
    "    else:\n",
    "        for t in range(max_target_len):\n",
    "            decoder_output, decoder_hidden,target_variable_emotion,context_input,rnn_output,g = decoder(\n",
    "                decoder_input,static_emotion,target_variable_emotion, decoder_hidden,\n",
    "                context_input,encoder_outputs,rnn_output\n",
    "            )\n",
    "            # No teacher forcing: next input is decoder's own current output\n",
    "            _, topi = decoder_output.topk(1)\n",
    "            topi = topi.squeeze(0)\n",
    "            decoder_input = torch.LongTensor([[topi[i][0] for i in range(num_samples)]])\n",
    "            decoder_input = decoder_input.to(device)\n",
    "            # Calculate and accumulate loss\n",
    "            mask_loss, nTotal,crossEntropy = maskNLLLoss_IMemory(decoder_output, target_variable[t], mask[t],target_variable_emotion,decoder.external_memory,g)\n",
    "            loss += mask_loss\n",
    "            totalCrossEntropy += crossEntropy * nTotal\n",
    "            print_losses.append(mask_loss.item() * nTotal) # print average loss\n",
    "            n_totals += nTotal\n",
    "\n",
    "    # Perform backpropatation\n",
    "    try:\n",
    "        loss.backward()\n",
    "    except Exception:\n",
    "        print(input_variable)\n",
    "        print(target_variable)\n",
    "\n",
    "    # Clip gradients: gradients are modified in place\n",
    "    _ = torch.nn.utils.clip_grad_norm_(encoder.parameters(), clip)\n",
    "    _ = torch.nn.utils.clip_grad_norm_(decoder.parameters(), clip)\n",
    "\n",
    "    # Adjust model weights\n",
    "    encoder_optimizer.step()\n",
    "    decoder_optimizer.step()\n",
    "    #print('Total Loss {}; Cross Entropy: {}'.format(sum(print_losses) / n_totals, totalCrossEntropy / n_totals))\n",
    "    return sum(print_losses) / n_totals,totalCrossEntropy / n_totals\n",
    "def evaluate_performance(input_variable, lengths, target_variable,target_variable_emotion,\n",
    "          mask, max_target_len, encoder, decoder):\n",
    "    # test mode\n",
    "    \n",
    "    encoder.eval()\n",
    "    decoder.eval()\n",
    "    # num_samples in this batch\n",
    "    num_samples = input_variable.shape[1]\n",
    "    # Set device options\n",
    "    input_variable = input_variable.to(device)\n",
    "    lengths = lengths.to(device)\n",
    "    target_variable = target_variable.to(device)\n",
    "    mask = mask.to(device)\n",
    "    target_variable_emotion = target_variable_emotion.to(device)\n",
    "    # Initialize variables\n",
    "    loss = 0\n",
    "    print_losses = []\n",
    "    n_totals = 0\n",
    "    totalCrossEntropy = 0\n",
    "    # Forward pass through encoder\n",
    "    encoder_outputs, encoder_hidden = encoder(input_variable, lengths)\n",
    "\n",
    "    # Create initial decoder input (start with SOS tokens for each sentence)\n",
    "    decoder_input = torch.LongTensor([[SOS_token for _ in range(num_samples)]])\n",
    "    decoder_input = decoder_input.to(device)\n",
    "    \n",
    "    # Set initial decoder hidden state to the encoder's final hidden state\n",
    "    decoder_hidden = encoder_hidden[:decoder.n_layers]\n",
    "    # Set initial context value,last_rnn_output, internal_memory\n",
    "    context_input = torch.zeros(num_samples,hidden_size,dtype=torch.float,device=device) #torch.FloatTensor(batch_size,hidden_size)\n",
    "    # initial value for rnn output\n",
    "    rnn_output = None\n",
    "    # keep a copy of emotional category for static emotion embedding\n",
    "    static_emotion = target_variable_emotion\n",
    "    static_emotion = static_emotion.to(device)\n",
    "    # forward pass to generate all sentences\n",
    "    for t in range(max_target_len):\n",
    "        decoder_output, decoder_hidden,target_variable_emotion,context_input,rnn_output,g = decoder(\n",
    "            decoder_input,static_emotion,target_variable_emotion, decoder_hidden,\n",
    "            context_input,encoder_outputs,rnn_output\n",
    "        )\n",
    "        # No teacher forcing: next input is decoder's own current output\n",
    "        _, topi = decoder_output.topk(1)\n",
    "        topi = topi.squeeze(0)\n",
    "        decoder_input = torch.LongTensor([[topi[i][0] for i in range(num_samples)]])\n",
    "        decoder_input = decoder_input.to(device)\n",
    "        # Calculate and accumulate loss\n",
    "        mask_loss, nTotal,crossEntropy = maskNLLLoss_IMemory(decoder_output, target_variable[t], mask[t],target_variable_emotion,decoder.external_memory,g)\n",
    "        loss += mask_loss\n",
    "        totalCrossEntropy += (crossEntropy * nTotal)\n",
    "        print_losses.append(mask_loss.item() * nTotal) # print average loss\n",
    "        n_totals += nTotal\n",
    "    # back to train mode\n",
    "    encoder.train()\n",
    "    decoder.train()\n",
    "    return sum(print_losses) / n_totals, totalCrossEntropy / n_totals"
   ]
  },
  {
   "cell_type": "markdown",
   "metadata": {},
   "source": [
    "# Train Iteration"
   ]
  },
  {
   "cell_type": "code",
   "execution_count": 140,
   "metadata": {
    "ExecuteTime": {
     "end_time": "2019-04-03T00:20:22.448790Z",
     "start_time": "2019-04-03T00:20:22.435338Z"
    },
    "collapsed": true
   },
   "outputs": [],
   "source": [
    "def trainIters(model_name, voc, pairs,pairs_emotion, \n",
    "               encoder, decoder, encoder_optimizer,\n",
    "               decoder_optimizer, embedding,emotion_embedding, \n",
    "               encoder_n_layers, decoder_n_layers, save_dir, \n",
    "               n_iteration, batch_size, print_every, save_every, \n",
    "               clip,corpus_name,external_memory,test_pairs,test_pairs_emotion):\n",
    "    loadFilename=None\n",
    "    # Load batches for each iteration\n",
    "    #training_batches = [batch2TrainData(voc, [random.choice(pairs) for _ in range(batch_size)])\n",
    "                      #for _ in range(n_iteration)]\n",
    "    print('Loading Training data ...')\n",
    "    length_pairs = len(pairs)\n",
    "    #training_batches = [batch2TrainData(voc, [random.choice(range(length_pairs)) for _ in range(batch_size)],\n",
    "    #                                   pairs,pairs_emotion) for _ in range(n_iteration)]\n",
    "    # Initializations\n",
    "    print('Initializing ...')\n",
    "    start_iteration = 1\n",
    "    print_loss = 0\n",
    "    totalCrossEntropy = 0\n",
    "    if loadFilename:\n",
    "        start_iteration = checkpoint['iteration'] + 1\n",
    "    min_test_loss = 1000\n",
    "    # Training loop\n",
    "    print(\"Training...\")\n",
    "    for iteration in range(start_iteration, n_iteration + 1):\n",
    "        training_batch = batch2TrainData(voc, [random.choice(range(length_pairs)) for _ in range(batch_size)],\n",
    "                                       pairs,pairs_emotion)\n",
    "        # to save the data that causes error\n",
    "        #with open('wrong_data.pickle','rb') as f:\n",
    "        #    training_batch = pickle.load(f)\n",
    "        \n",
    "        # Extract fields from batch\n",
    "        input_variable,input_variable_emotion, lengths, target_variable,target_variable_emotion, mask, max_target_len = training_batch\n",
    "\n",
    "        # Run a training iteration with batch\n",
    "        loss,crossEntropy = train(input_variable, lengths, target_variable,target_variable_emotion,\n",
    "                     mask, max_target_len, encoder,\n",
    "                     decoder, embedding,emotion_embedding,\n",
    "                     encoder_optimizer, decoder_optimizer, \n",
    "                     batch_size, clip)\n",
    "        \n",
    "        print_loss += loss\n",
    "        totalCrossEntropy += crossEntropy\n",
    "        # Print progress\n",
    "        if iteration % print_every == 0 or iteration == 1:\n",
    "            directory = os.path.join(save_dir, model_name, corpus_name, '{}-{}_{}'.format(encoder_n_layers, decoder_n_layers, hidden_size))\n",
    "            if not os.path.exists(directory):\n",
    "                os.makedirs(directory)\n",
    "            if iteration == 1:\n",
    "                print_loss_avg = print_loss / 1\n",
    "                print_cross_entropy = totalCrossEntropy / 1\n",
    "            else:\n",
    "                print_loss_avg = print_loss / print_every\n",
    "                print_cross_entropy = totalCrossEntropy / print_every\n",
    "            if print_cross_entropy > 300:\n",
    "                perplexity = compute_perplexity(300)\n",
    "            else:\n",
    "                perplexity = compute_perplexity(print_cross_entropy)\n",
    "            output1 = \"Iteration: {}; Percent complete: {:.1f}%; Average loss: {:.4f}; Perplexity: {:.2f}\".format(iteration, iteration / n_iteration * 100, print_loss_avg,perplexity)\n",
    "            print(output1)\n",
    "            test_length_pairs = len(test_pairs) \n",
    "            test_batch = batch2TrainData(voc, [random.choice(range(test_length_pairs)) for _ in range(batch_size)],\n",
    "                                       test_pairs,test_pairs_emotion)\n",
    "            input_variable,input_emotion, lengths, target_variable,target_emotion, mask, max_target_len = test_batch\n",
    "            test_loss,testCrossEntropy = evaluate_performance(input_variable,lengths, target_variable,target_emotion,mask,max_target_len,encoder,decoder)\n",
    "            \n",
    "            if testCrossEntropy > 300:\n",
    "                perplexity = compute_perplexity(300)\n",
    "            else:\n",
    "                perplexity = compute_perplexity(testCrossEntropy)\n",
    "            output2 = 'Loss on validation set {:.4f}; Perplexity:{:.2f}'.format(test_loss,perplexity)\n",
    "            print(output2)\n",
    "            with open(os.path.join(directory,'log.txt'),'a+') as f:\n",
    "                f.write(output1 + '\\n')\n",
    "                f.write(output2 + '\\n')\n",
    "            print_loss = 0\n",
    "            totalCrossEntropy = 0\n",
    "\n",
    "        # Save checkpoint and only save the better perform one,\n",
    "        if (iteration % save_every == 0) and (testCrossEntropy < min_test_loss):\n",
    "            min_test_loss = testCrossEntropy\n",
    "            print('Save the model at checkpoint {}, and test loss is {}'.format(iteration,min_test_loss))\n",
    "            directory = os.path.join(save_dir, model_name, corpus_name, '{}-{}_{}'.format(encoder_n_layers, decoder_n_layers, hidden_size))\n",
    "            if not os.path.exists(directory):\n",
    "                os.makedirs(directory)\n",
    "            torch.save({\n",
    "                'iteration': iteration,\n",
    "                'en': encoder.state_dict(),\n",
    "                'de': decoder.state_dict(),\n",
    "                'en_opt': encoder_optimizer.state_dict(),\n",
    "                'de_opt': decoder_optimizer.state_dict(),\n",
    "                'loss': loss,\n",
    "                'voc_dict': voc.__dict__,\n",
    "                'embedding': embedding.state_dict(),\n",
    "                'external_memory':external_memory\n",
    "            }, os.path.join(directory, '{}_{}.tar'.format(iteration, 'checkpoint')))\n",
    "            \n",
    "            "
   ]
  },
  {
   "cell_type": "markdown",
   "metadata": {},
   "source": [
    "# Greedy Search"
   ]
  },
  {
   "cell_type": "code",
   "execution_count": 141,
   "metadata": {
    "collapsed": true
   },
   "outputs": [],
   "source": [
    "def print_param(model):\n",
    "    for name,param in model.named_parameters():\n",
    "        print(param)\n",
    "        print(name,param.grad)"
   ]
  },
  {
   "cell_type": "code",
   "execution_count": 142,
   "metadata": {
    "ExecuteTime": {
     "end_time": "2019-04-03T00:20:22.459565Z",
     "start_time": "2019-04-03T00:20:22.451396Z"
    },
    "collapsed": true
   },
   "outputs": [],
   "source": [
    "class GreedySearchDecoder(nn.Module):\n",
    "    def __init__(self, encoder, decoder,num_word = None):\n",
    "        super(GreedySearchDecoder, self).__init__()\n",
    "        self.encoder = encoder\n",
    "        self.decoder = decoder\n",
    "\n",
    "    def forward(self, input_seq,target_emotions,input_length, max_length):\n",
    "        # Forward input through encoder model\n",
    "        encoder_outputs, encoder_hidden = self.encoder(input_seq, input_length)\n",
    "        # Prepare encoder's final hidden layer to be first hidden input to the decoder\n",
    "        decoder_hidden = encoder_hidden[:decoder.n_layers]\n",
    "        # Initialize decoder input with SOS_token\n",
    "        decoder_input = torch.ones(1, 1, device=device, dtype=torch.long) * SOS_token\n",
    "        # Initialize tensors to append decoded words to\n",
    "        all_tokens = torch.zeros([0], device=device, dtype=torch.long)\n",
    "        all_scores = torch.zeros([0], device=device)\n",
    "        # Set initial context value,last_rnn_output, internal_memory\n",
    "        context_input = torch.zeros((1,hidden_size),dtype=torch.float,device=self.decoder.device)\n",
    "        context_input = context_input.to(device)\n",
    "        rnn_output = None\n",
    "        # keep a copy of emotional category for static emotion embedding\n",
    "        static_emotion = target_emotions\n",
    "        static_emotion = static_emotion.to(device)\n",
    "        # Iteratively decode one word token at a time\n",
    "        for _ in range(max_length):\n",
    "            # Forward pass through decoder\n",
    "            decoder_output, decoder_hidden,target_emotions,context_input,rnn_output,g = decoder(\n",
    "                decoder_input,static_emotion,target_emotions, decoder_hidden,\n",
    "                context_input, encoder_outputs,rnn_output\n",
    "            )\n",
    "            # Obtain most likely word token and its softmax score\n",
    "            decoder_scores, decoder_input = torch.max(decoder_output, dim=1)\n",
    "            # Record token and score\n",
    "            all_tokens = torch.cat((all_tokens, decoder_input), dim=0)\n",
    "            all_scores = torch.cat((all_scores, decoder_scores), dim=0)\n",
    "            # Prepare current token to be next decoder input (add a dimension)\n",
    "            decoder_input = torch.unsqueeze(decoder_input, 0)\n",
    "        # Return collections of word tokens and scores\n",
    "        return all_tokens, all_scores"
   ]
  },
  {
   "cell_type": "markdown",
   "metadata": {},
   "source": [
    "# Beam Search"
   ]
  },
  {
   "cell_type": "code",
   "execution_count": 143,
   "metadata": {
    "ExecuteTime": {
     "end_time": "2019-04-03T00:20:22.474049Z",
     "start_time": "2019-04-03T00:20:22.461944Z"
    },
    "collapsed": true
   },
   "outputs": [],
   "source": [
    "class BeamSearchDecoder(nn.Module):\n",
    "    def __init__(self, encoder, decoder,num_word):\n",
    "        super(BeamSearchDecoder, self).__init__()\n",
    "        self.encoder = encoder\n",
    "        self.decoder = decoder\n",
    "        self.num_word = num_word\n",
    "\n",
    "    def forward(self, input_seq,target_emotions,input_length, max_length):\n",
    "        # Forward input through encoder model\n",
    "        encoder_outputs, encoder_hidden = self.encoder(input_seq, input_length)\n",
    "        # Prepare encoder's final hidden layer to be first hidden input to the decoder\n",
    "        decoder_hidden = encoder_hidden[:decoder.n_layers]\n",
    "        # Initialize decoder input with SOS_token\n",
    "        decoder_input = torch.ones(1, 1, device=device, dtype=torch.long) * SOS_token\n",
    "        # Initialize tensors to append decoded words to\n",
    "        all_tokens = torch.zeros([0], device=device, dtype=torch.long)\n",
    "        all_words_order = torch.zeros((1,self.num_word),device=decoder.device,dtype=torch.long)\n",
    "        all_scores = torch.zeros([0], device=device)\n",
    "        all_scores_array = torch.zeros((1,self.num_word),device=decoder.device,dtype=torch.float)\n",
    "        # Set initial context value,last_rnn_output, internal_memory\n",
    "        context_input = torch.zeros(1,hidden_size,dtype=torch.float)\n",
    "        context_input = context_input.to(decoder.device)\n",
    "        rnn_output = None\n",
    "        # keep a copy of emotional category for static emotion embedding\n",
    "        static_emotion = target_emotion\n",
    "        static_emotion = static_emotion.to(device)\n",
    "        # Iteratively decode one word token at a time\n",
    "        for _ in range(max_length):\n",
    "            # Forward pass through decoder\n",
    "            decoder_output, decoder_hidden,target_emotions,context_input,rnn_output,g = decoder(\n",
    "                decoder_input,static_emotion,target_emotions, decoder_hidden,\n",
    "                context_input, encoder_outputs,rnn_output\n",
    "            )\n",
    "            # Obtain most likely word token and its softmax score\n",
    "            decoder_scores, decoder_input = torch.max(decoder_output, dim=1)\n",
    "            decoder_input_order = torch.argsort(decoder_output,dim=1,descending=True)\n",
    "            # Record token and score\n",
    "            all_tokens = torch.cat((all_tokens, decoder_input), dim=0)\n",
    "            all_scores = torch.cat((all_scores, decoder_scores), dim=0)\n",
    "            all_scores_array = torch.cat((all_scores_array,decoder_output),dim = 0)\n",
    "            all_words_order = torch.cat((all_words_order,decoder_input_order), dim=0)\n",
    "            # Prepare current token to be next decoder input (add a dimension)\n",
    "            decoder_input = torch.unsqueeze(decoder_input, 0)\n",
    "        # Return collections of word tokens and scores\n",
    "        sequences = self.beam_search(all_scores_array,3)\n",
    "        return sequences\n",
    "    def beam_search(self,array,k):\n",
    "        array = array.tolist()\n",
    "        sequences = [[list(), 1.0]]\n",
    "        # walk over each step in sequence\n",
    "        for row in array:\n",
    "            all_candidates = list()\n",
    "            # expand each current candidate\n",
    "            for i in range(len(sequences)):\n",
    "                seq, score = sequences[i]\n",
    "                for j in range(len(row)):\n",
    "                    candidate = [seq + [j], score - np.log(row[j] + 1e-8)]\n",
    "                    all_candidates.append(candidate)\n",
    "            # order all candidates by score\n",
    "            ordered = sorted(all_candidates, key=lambda tup:tup[1])\n",
    "            # select k best\n",
    "            sequences = ordered[:k]\n",
    "        return sequences"
   ]
  },
  {
   "cell_type": "markdown",
   "metadata": {},
   "source": [
    "# Build Model"
   ]
  },
  {
   "cell_type": "code",
   "execution_count": 144,
   "metadata": {
    "ExecuteTime": {
     "end_time": "2019-04-03T00:20:22.688663Z",
     "start_time": "2019-04-03T00:20:22.476414Z"
    }
   },
   "outputs": [
    {
     "name": "stdout",
     "output_type": "stream",
     "text": [
      "Emotion word counts: 611\n",
      "Building encoder and decoder ...\n",
      "Models built and ready to go!\n"
     ]
    }
   ],
   "source": [
    "try:\n",
    "    voc\n",
    "except NameError:\n",
    "    voc = Voc('a',max_length=MAX_LENGTH,min_count=MIN_COUNT)\n",
    "# Configure models\n",
    "model_name = 'emotion_model'\n",
    "corpus_name = 'ECM10_words_Ememory_concat_large_dataset'\n",
    "attn_model = 'concat'\n",
    "#attn_model = 'general'\n",
    "#attn_model = 'concat'\n",
    "hidden_size = 500\n",
    "encoder_n_layers = 1\n",
    "decoder_n_layers = 1\n",
    "dropout = 0.2\n",
    "batch_size = 64\n",
    "# number of emotion\n",
    "num_emotions = 5\n",
    "# load external memory based vocab.\n",
    "emotion_words = get_ememory('ememory2.txt',voc)\n",
    "# Set checkpoint to load from; set to None if starting from scratch\n",
    "loadFilename = None #'data/save/emotion_model/ECM10_words_Ememory_concat_large_dataset/2-2_500/4100_checkpoint.tar'\n",
    "checkpoint_iter = 120\n",
    "training = True\n",
    "if loadFilename:\n",
    "    training = False\n",
    "#loadFilename = os.path.join(save_dir, model_name, corpus_name,\n",
    "#                            '{}-{}_{}'.format(encoder_n_layers, decoder_n_layers, hidden_size),\n",
    "#                            '{}_checkpoint.tar'.format(checkpoint_iter))\n",
    "\n",
    "\n",
    "# Load model if a loadFilename is provided\n",
    "if loadFilename:\n",
    "    # If loading on same machine the model was trained on\n",
    "    checkpoint = torch.load(loadFilename)\n",
    "    # If loading a model trained on GPU to CPU\n",
    "    #checkpoint = torch.load(loadFilename, map_location=torch.device('cpu'))\n",
    "    encoder_sd = checkpoint['en']\n",
    "    decoder_sd = checkpoint['de']\n",
    "    encoder_optimizer_sd = checkpoint['en_opt']\n",
    "    decoder_optimizer_sd = checkpoint['de_opt']\n",
    "    embedding_sd = checkpoint['embedding']\n",
    "    voc.__dict__ = checkpoint['voc_dict']\n",
    "    emotion_words = checkpoint['external_memory']\n",
    "    \n",
    "\n",
    "\n",
    "print('Building encoder and decoder ...')\n",
    "# Initialize word embeddings\n",
    "if emotion_words is not None:\n",
    "    emotion_words = emotion_words.to(device)\n",
    "\n",
    "embedding = nn.Embedding(voc.num_words, hidden_size)\n",
    "emotion_embedding = nn.Embedding(num_emotions, hidden_size)\n",
    "emotion_embedding_static = nn.Embedding(num_emotions,hidden_size)\n",
    "\n",
    "if loadFilename:\n",
    "    embedding.load_state_dict(embedding_sd)\n",
    "# Initialize encoder & decoder models\n",
    "encoder = EncoderRNN(hidden_size, embedding, encoder_n_layers, dropout)\n",
    "decoder = LuongAttnDecoderRNN(embedding,emotion_embedding_static,emotion_embedding, hidden_size, \n",
    "                              voc.num_words,device, emotion_words,decoder_n_layers, dropout,num_emotions=num_emotions,batch_size = batch_size)\n",
    "if loadFilename:\n",
    "    encoder.load_state_dict(encoder_sd)\n",
    "    decoder.load_state_dict(decoder_sd)\n",
    "    \n",
    "# Use appropriate device\n",
    "encoder = encoder.to(device)\n",
    "decoder = decoder.to(device)\n",
    "print('Models built and ready to go!')"
   ]
  },
  {
   "cell_type": "code",
   "execution_count": 145,
   "metadata": {},
   "outputs": [
    {
     "data": {
      "text/plain": [
       "3216"
      ]
     },
     "execution_count": 145,
     "metadata": {},
     "output_type": "execute_result"
    }
   ],
   "source": [
    "voc.num_words"
   ]
  },
  {
   "cell_type": "code",
   "execution_count": 146,
   "metadata": {},
   "outputs": [
    {
     "data": {
      "text/plain": [
       "tensor(536, device='cuda:0')"
      ]
     },
     "execution_count": 146,
     "metadata": {},
     "output_type": "execute_result"
    }
   ],
   "source": [
    "emotion_words.sum()"
   ]
  },
  {
   "cell_type": "markdown",
   "metadata": {},
   "source": [
    "# Run training"
   ]
  },
  {
   "cell_type": "code",
   "execution_count": null,
   "metadata": {
    "ExecuteTime": {
     "end_time": "2019-04-03T00:20:45.601591Z",
     "start_time": "2019-04-03T00:20:22.690677Z"
    },
    "scrolled": true
   },
   "outputs": [
    {
     "name": "stdout",
     "output_type": "stream",
     "text": [
      "Building optimizers ...\n",
      "Starting Training!\n",
      "Loading Training data ...\n",
      "Initializing ...\n",
      "Training...\n",
      "Iteration: 1; Percent complete: 0.0%; Average loss: 3.2490; Perplexity: 21.45\n",
      "Loss on validation set 3.9950; Perplexity:46.06\n",
      "Iteration: 20; Percent complete: 0.0%; Average loss: 3.2504; Perplexity: 21.38\n",
      "Loss on validation set 3.3974; Perplexity:25.44\n",
      "Iteration: 40; Percent complete: 0.0%; Average loss: 3.3024; Perplexity: 22.19\n",
      "Loss on validation set 3.0315; Perplexity:17.30\n",
      "Iteration: 60; Percent complete: 0.0%; Average loss: 3.2677; Perplexity: 21.71\n",
      "Loss on validation set 3.1467; Perplexity:19.22\n",
      "Iteration: 80; Percent complete: 0.0%; Average loss: 3.1583; Perplexity: 19.69\n",
      "Loss on validation set 2.9072; Perplexity:15.06\n",
      "Iteration: 100; Percent complete: 0.0%; Average loss: 3.1173; Perplexity: 18.51\n",
      "Loss on validation set 3.2234; Perplexity:20.61\n",
      "Save the model at checkpoint 100, and test loss is 3.02581705820056\n",
      "Iteration: 120; Percent complete: 0.0%; Average loss: 3.1238; Perplexity: 18.84\n",
      "Loss on validation set 3.3846; Perplexity:23.67\n",
      "Iteration: 140; Percent complete: 0.0%; Average loss: 3.0705; Perplexity: 17.79\n",
      "Loss on validation set 2.8927; Perplexity:14.65\n",
      "Iteration: 160; Percent complete: 0.0%; Average loss: 3.1352; Perplexity: 18.99\n",
      "Loss on validation set 3.6435; Perplexity:31.82\n",
      "Iteration: 180; Percent complete: 0.0%; Average loss: 3.0877; Perplexity: 18.22\n",
      "Loss on validation set 3.5609; Perplexity:30.05\n",
      "Iteration: 200; Percent complete: 0.0%; Average loss: 3.1526; Perplexity: 19.29\n",
      "Loss on validation set 3.5265; Perplexity:27.83\n",
      "Iteration: 220; Percent complete: 0.0%; Average loss: 3.0732; Perplexity: 18.12\n",
      "Loss on validation set 3.4222; Perplexity:26.42\n",
      "Iteration: 240; Percent complete: 0.0%; Average loss: 3.1472; Perplexity: 19.09\n",
      "Loss on validation set 3.0466; Perplexity:17.97\n",
      "Iteration: 260; Percent complete: 0.0%; Average loss: 3.0615; Perplexity: 17.86\n",
      "Loss on validation set 3.0195; Perplexity:17.13\n",
      "Iteration: 280; Percent complete: 0.0%; Average loss: 3.1622; Perplexity: 19.57\n",
      "Loss on validation set 3.2530; Perplexity:21.84\n",
      "Iteration: 300; Percent complete: 0.0%; Average loss: 3.1282; Perplexity: 18.80\n",
      "Loss on validation set 2.7146; Perplexity:12.37\n",
      "Save the model at checkpoint 300, and test loss is 2.515026368316935\n",
      "Iteration: 320; Percent complete: 0.0%; Average loss: 3.1504; Perplexity: 19.35\n",
      "Loss on validation set 3.0623; Perplexity:17.72\n",
      "Iteration: 340; Percent complete: 0.0%; Average loss: 3.0863; Perplexity: 18.05\n",
      "Loss on validation set 3.2185; Perplexity:19.84\n",
      "Iteration: 360; Percent complete: 0.0%; Average loss: 3.1995; Perplexity: 20.06\n",
      "Loss on validation set 2.8215; Perplexity:14.22\n",
      "Iteration: 380; Percent complete: 0.0%; Average loss: 3.1319; Perplexity: 18.84\n",
      "Loss on validation set 3.1274; Perplexity:18.85\n",
      "Iteration: 400; Percent complete: 0.0%; Average loss: 3.1077; Perplexity: 18.40\n",
      "Loss on validation set 3.2561; Perplexity:21.26\n",
      "Iteration: 420; Percent complete: 0.0%; Average loss: 3.0101; Perplexity: 16.90\n",
      "Loss on validation set 2.7886; Perplexity:13.51\n",
      "Iteration: 440; Percent complete: 0.0%; Average loss: 3.1182; Perplexity: 18.64\n",
      "Loss on validation set 3.2558; Perplexity:22.21\n",
      "Iteration: 460; Percent complete: 0.0%; Average loss: 2.9985; Perplexity: 16.66\n",
      "Loss on validation set 3.2623; Perplexity:21.52\n",
      "Iteration: 480; Percent complete: 0.0%; Average loss: 3.0265; Perplexity: 17.15\n",
      "Loss on validation set 3.0594; Perplexity:18.29\n",
      "Iteration: 500; Percent complete: 0.0%; Average loss: 3.1075; Perplexity: 18.54\n",
      "Loss on validation set 2.8314; Perplexity:14.39\n",
      "Iteration: 520; Percent complete: 0.0%; Average loss: 3.1198; Perplexity: 18.74\n",
      "Loss on validation set 3.3078; Perplexity:22.95\n",
      "Iteration: 540; Percent complete: 0.0%; Average loss: 3.1310; Perplexity: 18.93\n",
      "Loss on validation set 3.4730; Perplexity:25.94\n",
      "Iteration: 560; Percent complete: 0.0%; Average loss: 3.0737; Perplexity: 17.82\n",
      "Loss on validation set 2.9980; Perplexity:17.23\n",
      "Iteration: 580; Percent complete: 0.0%; Average loss: 3.1696; Perplexity: 19.65\n",
      "Loss on validation set 2.8973; Perplexity:15.85\n",
      "Iteration: 600; Percent complete: 0.0%; Average loss: 3.1158; Perplexity: 18.73\n",
      "Loss on validation set 3.0157; Perplexity:17.23\n",
      "Iteration: 620; Percent complete: 0.0%; Average loss: 3.0504; Perplexity: 17.59\n",
      "Loss on validation set 3.5715; Perplexity:29.80\n",
      "Iteration: 640; Percent complete: 0.0%; Average loss: 3.0122; Perplexity: 17.05\n",
      "Loss on validation set 2.8164; Perplexity:14.02\n",
      "Iteration: 660; Percent complete: 0.0%; Average loss: 3.0730; Perplexity: 17.72\n",
      "Loss on validation set 3.4059; Perplexity:24.65\n",
      "Iteration: 680; Percent complete: 0.0%; Average loss: 3.0693; Perplexity: 17.93\n",
      "Loss on validation set 3.3647; Perplexity:23.14\n",
      "Iteration: 700; Percent complete: 0.0%; Average loss: 3.0307; Perplexity: 17.04\n",
      "Loss on validation set 3.2877; Perplexity:21.40\n",
      "Iteration: 720; Percent complete: 0.0%; Average loss: 3.0347; Perplexity: 17.18\n",
      "Loss on validation set 3.0307; Perplexity:17.46\n",
      "Iteration: 740; Percent complete: 0.0%; Average loss: 3.0447; Perplexity: 17.16\n",
      "Loss on validation set 3.0304; Perplexity:16.08\n",
      "Iteration: 760; Percent complete: 0.0%; Average loss: 3.1076; Perplexity: 18.29\n",
      "Loss on validation set 2.9924; Perplexity:16.36\n",
      "Iteration: 780; Percent complete: 0.0%; Average loss: 3.1033; Perplexity: 18.28\n",
      "Loss on validation set 3.0310; Perplexity:16.57\n",
      "Iteration: 800; Percent complete: 0.0%; Average loss: 3.1619; Perplexity: 19.14\n",
      "Loss on validation set 3.4771; Perplexity:26.85\n",
      "Iteration: 820; Percent complete: 0.0%; Average loss: 3.1622; Perplexity: 19.43\n",
      "Loss on validation set 3.2535; Perplexity:21.91\n",
      "Iteration: 840; Percent complete: 0.0%; Average loss: 3.1156; Perplexity: 18.55\n",
      "Loss on validation set 2.8979; Perplexity:14.90\n",
      "Iteration: 860; Percent complete: 0.0%; Average loss: 3.0792; Perplexity: 18.16\n",
      "Loss on validation set 2.9172; Perplexity:15.65\n",
      "Iteration: 880; Percent complete: 0.0%; Average loss: 3.1294; Perplexity: 19.07\n",
      "Loss on validation set 3.2335; Perplexity:21.27\n",
      "Iteration: 900; Percent complete: 0.0%; Average loss: 3.2095; Perplexity: 20.36\n",
      "Loss on validation set 3.2532; Perplexity:20.95\n",
      "Iteration: 920; Percent complete: 0.0%; Average loss: 3.1018; Perplexity: 18.38\n",
      "Loss on validation set 3.2811; Perplexity:22.78\n",
      "Iteration: 940; Percent complete: 0.0%; Average loss: 3.1672; Perplexity: 19.79\n",
      "Loss on validation set 3.2532; Perplexity:20.75\n",
      "Iteration: 960; Percent complete: 0.0%; Average loss: 3.1300; Perplexity: 18.88\n",
      "Loss on validation set 3.0527; Perplexity:18.01\n",
      "Iteration: 980; Percent complete: 0.0%; Average loss: 3.0648; Perplexity: 17.65\n",
      "Loss on validation set 3.3246; Perplexity:23.77\n",
      "Iteration: 1000; Percent complete: 0.1%; Average loss: 3.0240; Perplexity: 16.92\n",
      "Loss on validation set 3.4604; Perplexity:25.67\n",
      "Iteration: 1020; Percent complete: 0.1%; Average loss: 3.1480; Perplexity: 19.36\n",
      "Loss on validation set 3.0346; Perplexity:16.83\n",
      "Iteration: 1040; Percent complete: 0.1%; Average loss: 3.4483; Perplexity: 25.96\n",
      "Loss on validation set 3.2188; Perplexity:20.52\n",
      "Iteration: 1060; Percent complete: 0.1%; Average loss: 3.4305; Perplexity: 25.34\n",
      "Loss on validation set 3.6333; Perplexity:30.59\n",
      "Iteration: 1080; Percent complete: 0.1%; Average loss: 3.3650; Perplexity: 23.69\n",
      "Loss on validation set 3.7736; Perplexity:35.12\n",
      "Iteration: 1100; Percent complete: 0.1%; Average loss: 3.2893; Perplexity: 21.89\n",
      "Loss on validation set 3.5209; Perplexity:28.42\n",
      "Iteration: 1120; Percent complete: 0.1%; Average loss: 3.2586; Perplexity: 21.19\n",
      "Loss on validation set 3.5671; Perplexity:29.00\n",
      "Iteration: 1140; Percent complete: 0.1%; Average loss: 3.1963; Perplexity: 20.04\n",
      "Loss on validation set 3.2068; Perplexity:19.44\n",
      "Iteration: 1160; Percent complete: 0.1%; Average loss: 3.1931; Perplexity: 19.91\n",
      "Loss on validation set 3.3436; Perplexity:22.50\n",
      "Iteration: 1180; Percent complete: 0.1%; Average loss: 3.1526; Perplexity: 19.32\n",
      "Loss on validation set 3.3881; Perplexity:25.81\n",
      "Iteration: 1200; Percent complete: 0.1%; Average loss: 3.2038; Perplexity: 20.37\n",
      "Loss on validation set 3.1510; Perplexity:19.32\n",
      "Iteration: 1220; Percent complete: 0.1%; Average loss: 3.1932; Perplexity: 20.18\n",
      "Loss on validation set 3.3240; Perplexity:22.29\n",
      "Iteration: 1240; Percent complete: 0.1%; Average loss: 3.0606; Perplexity: 17.69\n"
     ]
    },
    {
     "name": "stdout",
     "output_type": "stream",
     "text": [
      "Loss on validation set 3.2005; Perplexity:20.96\n",
      "Iteration: 1260; Percent complete: 0.1%; Average loss: 3.1067; Perplexity: 18.47\n",
      "Loss on validation set 3.2677; Perplexity:21.12\n",
      "Iteration: 1280; Percent complete: 0.1%; Average loss: 3.1692; Perplexity: 19.66\n",
      "Loss on validation set 3.0809; Perplexity:18.35\n",
      "Iteration: 1300; Percent complete: 0.1%; Average loss: 3.1632; Perplexity: 19.52\n",
      "Loss on validation set 2.8631; Perplexity:14.71\n",
      "Iteration: 1320; Percent complete: 0.1%; Average loss: 3.0889; Perplexity: 18.15\n",
      "Loss on validation set 3.2074; Perplexity:20.35\n",
      "Iteration: 1340; Percent complete: 0.1%; Average loss: 3.1423; Perplexity: 19.26\n",
      "Loss on validation set 3.2910; Perplexity:22.02\n",
      "Iteration: 1360; Percent complete: 0.1%; Average loss: 3.1473; Perplexity: 19.01\n",
      "Loss on validation set 3.1705; Perplexity:19.77\n",
      "Iteration: 1380; Percent complete: 0.1%; Average loss: 3.1109; Perplexity: 18.56\n",
      "Loss on validation set 3.4003; Perplexity:25.21\n",
      "Iteration: 1400; Percent complete: 0.1%; Average loss: 3.0245; Perplexity: 17.12\n",
      "Loss on validation set 2.6040; Perplexity:11.91\n",
      "Save the model at checkpoint 1400, and test loss is 2.4777932221362695\n",
      "Iteration: 1420; Percent complete: 0.1%; Average loss: 3.1036; Perplexity: 18.47\n",
      "Loss on validation set 3.4614; Perplexity:26.65\n",
      "Iteration: 1440; Percent complete: 0.1%; Average loss: 3.0345; Perplexity: 17.23\n",
      "Loss on validation set 2.9952; Perplexity:16.92\n",
      "Iteration: 1460; Percent complete: 0.1%; Average loss: 2.9986; Perplexity: 16.85\n",
      "Loss on validation set 2.9664; Perplexity:15.91\n",
      "Iteration: 1480; Percent complete: 0.1%; Average loss: 3.0461; Perplexity: 17.56\n",
      "Loss on validation set 2.8854; Perplexity:15.09\n",
      "Iteration: 1500; Percent complete: 0.1%; Average loss: 3.0583; Perplexity: 17.78\n",
      "Loss on validation set 2.7293; Perplexity:12.43\n",
      "Iteration: 1520; Percent complete: 0.1%; Average loss: 3.0049; Perplexity: 16.67\n",
      "Loss on validation set 2.6666; Perplexity:11.96\n"
     ]
    }
   ],
   "source": [
    "# Configure training/optimization\n",
    "clip = 50\n",
    "teacher_forcing_ratio = 0.1\n",
    "learning_rate = 0.001\n",
    "decoder_learning_ratio = 5.0\n",
    "n_iteration = 2000000\n",
    "print_every = 20\n",
    "save_every = 100\n",
    "\n",
    "\n",
    "# Ensure dropout layers are in train mode\n",
    "encoder.train()\n",
    "decoder.train()\n",
    "\n",
    "# Initialize optimizers\n",
    "print('Building optimizers ...')\n",
    "encoder_optimizer = optim.Adam(encoder.parameters(), lr=learning_rate)\n",
    "decoder_optimizer = optim.Adam(decoder.parameters(), lr=learning_rate * decoder_learning_ratio)\n",
    "if loadFilename:\n",
    "    encoder_optimizer.load_state_dict(encoder_optimizer_sd)\n",
    "    decoder_optimizer.load_state_dict(decoder_optimizer_sd)\n",
    "\n",
    "# Run training iterations\n",
    "\n",
    "\n",
    "print(\"Starting Training!\")\n",
    "trainIters(model_name, voc, pairs,pairs_emotion, encoder, decoder, encoder_optimizer, decoder_optimizer,\n",
    "           embedding,emotion_embedding, encoder_n_layers, decoder_n_layers, save_dir, n_iteration, batch_size,\n",
    "           print_every, save_every, clip,corpus_name,emotion_words,test_pairs,test_pairs_emotion)\n",
    "    \n",
    "    "
   ]
  },
  {
   "cell_type": "code",
   "execution_count": 155,
   "metadata": {
    "ExecuteTime": {
     "end_time": "2019-04-03T00:20:45.602651Z",
     "start_time": "2019-04-03T00:20:12.272Z"
    },
    "collapsed": true
   },
   "outputs": [],
   "source": [
    "def evaluate(encoder, decoder, searcher, voc, sentence, emotions,max_length=MAX_LENGTH,beam_search = False):\n",
    "    emotions = int(emotions)\n",
    "    emotions = torch.LongTensor([emotions])\n",
    "    ### Format input sentence as a batch\n",
    "    # words -> indexes\n",
    "    indexes_batch = [indexesFromSentence(voc, sentence)]\n",
    "    # Create lengths tensor\n",
    "    lengths = torch.tensor([len(indexes) for indexes in indexes_batch])\n",
    "    # Transpose dimensions of batch to match models' expectations\n",
    "    input_batch = torch.LongTensor(indexes_batch).transpose(0, 1)\n",
    "    # Use appropriate device\n",
    "    input_batch = input_batch.to(device)\n",
    "    lengths = lengths.to(device)\n",
    "    emotions = emotions.to(device)\n",
    "\n",
    "    # indexes -> words\n",
    "    if beam_search:\n",
    "        sequences = searcher(input_batch, emotions, lengths, max_length)\n",
    "        decoded_words = beam_decode(sequences,voc)\n",
    "    else:\n",
    "        # Decode sentence with searcher\n",
    "        tokens, scores = searcher(input_batch, emotions, lengths, max_length)\n",
    "        decoded_words = [voc.index2word[token.item()] for token in tokens]\n",
    "    return decoded_words\n",
    "\n",
    "def beam_decode(sequences,voc):\n",
    "    for each in sequences:\n",
    "        for idxs in each:\n",
    "            return [voc.index2word[idx] for idx in idxs[:-1]]\n",
    "    \n",
    "def evaluateInput(encoder, decoder, searcher, voc,emotion_dict,beam_search):\n",
    "    input_sentence = ''\n",
    "    while(1):\n",
    "        try:\n",
    "            # Get input sentence\n",
    "            input_sentence = input('> ')\n",
    "            for emotion in range(len(emotion_dict)):\n",
    "                # Check if it is quit case\n",
    "                if input_sentence == 'q' or input_sentence == 'quit': break\n",
    "                # Normalize sentence\n",
    "                input_sentence = normalizeString(input_sentence)\n",
    "                # Evaluate sentence\n",
    "                output_words = evaluate(encoder, decoder, searcher, voc, input_sentence,emotion,beam_search=beam_search)\n",
    "                # Format and print response sentence\n",
    "                output=[]\n",
    "                for word in output_words:\n",
    "                    if word == 'PAD':\n",
    "                        continue\n",
    "                    elif word == 'EOS':\n",
    "                        break\n",
    "                    else:\n",
    "                        output.append(word)\n",
    "                print('Bot({}):'.format(emotion_dict[emotion]), ' '.join(output))\n",
    "\n",
    "        except KeyError:\n",
    "            print(\"Error: Encountered unknown word.\")\n",
    "            "
   ]
  },
  {
   "cell_type": "markdown",
   "metadata": {},
   "source": [
    "# Beam Search Decode"
   ]
  },
  {
   "cell_type": "code",
   "execution_count": 63,
   "metadata": {
    "collapsed": true
   },
   "outputs": [],
   "source": [
    "def sentenceFromIdx(idx,voc):\n",
    "    return ' '.join([voc.index2word[i] for i in idx])\n",
    "\n",
    "class BeamSearchNode(object):\n",
    "    def __init__(self, hiddenstate, previousNode, decoder_input, logProb, length,emotions_emb,last_rnn_output,context_input,g):\n",
    "        '''\n",
    "        :param hiddenstate:\n",
    "        :param previousNode:\n",
    "        :param wordId:\n",
    "        :param logProb:\n",
    "        :param length:\n",
    "        '''\n",
    "        \n",
    "        self.hidden_state = hiddenstate\n",
    "        self.prevNode = previousNode\n",
    "        self.decoder_input = decoder_input\n",
    "        self.logp = logProb\n",
    "        self.leng = length\n",
    "        self.emotions = emotions_emb\n",
    "        self.rnn_output = last_rnn_output\n",
    "        self.context_input = context_input\n",
    "        self.alpha = g\n",
    "\n",
    "    def eval(self, alpha=1.0):\n",
    "        reward = 0\n",
    "        # Add here a function for shaping a reward\n",
    "        return self.logp #/ float(self.leng - 1 + 1e-6) + alpha * reward\n"
   ]
  },
  {
   "cell_type": "code",
   "execution_count": 23,
   "metadata": {
    "scrolled": false
   },
   "outputs": [
    {
     "name": "stdout",
     "output_type": "stream",
     "text": [
      "Post(neutral):do you love me ?\n",
      "i m very fond . . EOS EOS . EOS 0.5199801587838341\n",
      "um i very fond . . . EOS EOS EOS 0.6289922654290091\n",
      "of m very fond . . . EOS EOS EOS 0.739783952457153\n",
      "white i very fond . . . . EOS EOS 0.7880449854260818\n",
      "well m very fond . . . EOS EOS EOS 0.8689691237681969\n",
      "no i very fond . . . EOS EOS EOS 0.8996419630606066\n",
      "it m very fond . . . EOS EOS EOS 0.9434149604798718\n",
      "not m very fond . . EOS . EOS EOS 0.9878413164564832\n",
      "you m very fond . . EOS EOS . EOS 0.9893056094561788\n",
      "yes i very fond . . EOS EOS EOS EOS 1.0545211459764026\n",
      "Post(joy):do you love me ?\n",
      "i m m fond . . . . EOS EOS 0.4968151707540859\n",
      "white m m fond . . . . EOS EOS 0.7820619646121155\n",
      "um m m fond . . . EOS EOS EOS 0.7849319606003436\n",
      "of m m fond . . . . EOS EOS 0.8199764371595599\n",
      "no m very fond . . . EOS EOS EOS 0.8366477005183697\n",
      "not m very fond . . . . EOS EOS 0.9044842691245404\n",
      "it m m fond . . . . EOS EOS 0.9359825540503318\n",
      "yes m very fond . . . . EOS EOS 1.0696777736937457\n",
      "you m m fond . . . . EOS EOS 1.0738465064628557\n",
      "very m m fond . . . EOS EOS EOS 1.0834434746171941\n",
      "Post(anger):do you love me ?\n",
      "i m very fond . . EOS . EOS EOS 0.6036284049994058\n",
      "um . very fond . . EOS EOS EOS EOS 0.7325654432008212\n",
      "white . very fond . . EOS EOS EOS EOS 0.8415023042735729\n",
      "no . very fond . . . EOS EOS EOS 0.8483389513249594\n",
      "of m very fond . . . EOS EOS EOS 0.8845741230867464\n",
      "her . very fond . . EOS EOS EOS EOS 1.0065868376669558\n",
      "you m very fond . . . EOS EOS EOS 1.0088849485089832\n",
      "it m very fond . . EOS . EOS EOS 1.0203996357211673\n",
      "yeah . very fond . . . EOS EOS EOS 1.077355761123313\n",
      "not m very fond . . EOS EOS EOS EOS 1.094574000686407\n",
      "Post(sadness):do you love me ?\n",
      "i m very fond . . EOS EOS EOS EOS 0.45107485459778796\n",
      "um m very fond . . EOS . EOS EOS 0.61438509081067\n",
      "white i very fond . . . EOS EOS EOS 0.7471263543067669\n",
      "of m very fond . . . EOS EOS EOS 0.7738826404621993\n",
      "no i very fond . . . EOS EOS EOS 0.8996979320760478\n",
      "not m very fond . . . EOS EOS EOS 0.9040250092406165\n",
      "well m very fond . . . EOS EOS EOS 0.9141276952683587\n",
      "very m very fond . . . EOS EOS EOS 0.937265724028376\n",
      "it m very fond . . EOS EOS EOS EOS 0.9653981823728166\n",
      "yes i very fond . . . EOS EOS EOS 1.0004676276902584\n",
      "Post(fear):do you love me ?\n",
      "i m very fond . . . EOS EOS EOS 0.4607889163731174\n",
      "um i very fond . . . . EOS EOS 0.657235713866116\n",
      "white i very fond . . . EOS EOS EOS 0.7238328257914294\n",
      "of m very fond . . . EOS EOS EOS 0.7746886475519701\n",
      "not m very fond . . . . EOS EOS 0.7998218701792542\n",
      "no m very fond . . . . EOS EOS 0.8247749076902189\n",
      "well m very fond . . . EOS EOS EOS 0.9214961346746846\n",
      "yes i very fond . . . EOS EOS EOS 0.9231001076881181\n",
      "it m very fond . . . EOS EOS EOS 0.9680651542307301\n",
      "very m very fond . . . . EOS EOS 0.9916972262911837\n"
     ]
    }
   ],
   "source": [
    "for emotions in [0,1,2,3,4]:\n",
    "    diversity_penality = True\n",
    "    emotions = emotions\n",
    "    sentence = 'do you love me ?'\n",
    "    print('Post({}):{}'.format(emo_dict[emotions],sentence))\n",
    "    emotions = int(emotions)\n",
    "    emotions = torch.LongTensor([emotions])\n",
    "    ### Format input sentence as a batch\n",
    "    # words -> indexes\n",
    "    indexes_batch = [indexesFromSentence(voc, sentence)]\n",
    "    # Create lengths tensor\n",
    "    lengths = torch.tensor([len(indexes) for indexes in indexes_batch])\n",
    "    # Transpose dimensions of batch to match models' expectations\n",
    "    input_batch = torch.LongTensor(indexes_batch).transpose(0, 1)\n",
    "    # Use appropriate device\n",
    "    input_batch = input_batch.to(device)\n",
    "    lengths = lengths.to(device)\n",
    "    emotions = emotions.to(device)\n",
    "    # Forward input through encoder model\n",
    "    encoder_outputs, encoder_hidden = encoder(input_batch, lengths)\n",
    "    # Prepare encoder's final hidden layer to be first hidden input to the decoder\n",
    "    decoder_hidden = encoder_hidden[:decoder.n_layers]\n",
    "    # Initialize decoder input with SOS_token\n",
    "    decoder_input = torch.ones((1,1), device=device, dtype=torch.long) * SOS_token\n",
    "    # Set initial context value,last_rnn_output, internal_memory\n",
    "    context_input = torch.zeros(1,hidden_size,dtype=torch.float)\n",
    "    context_input = context_input.to(decoder.device)\n",
    "    rnn_output = None\n",
    "\n",
    "    node = BeamSearchNode(hiddenstate=decoder_hidden,decoder_input=decoder_input,\n",
    "                           context_input=context_input,emotions_emb=emotions,\n",
    "                           length=1,logProb=0,last_rnn_output = rnn_output,\n",
    "                           previousNode=None,g = 0\n",
    "                          )\n",
    "    sent_leng = 0\n",
    "    # beam search\n",
    "    K = 10\n",
    "    # Iteratively decode one word token at a time\n",
    "    # Forward pass through decoder\n",
    "    nodes = PriorityQueue(maxsize=K)\n",
    "    nodes.put((0,node))\n",
    "    # diversity rate\n",
    "    gamma = 10\n",
    "    # choice\n",
    "    g_losses = []\n",
    "    for i in range(10):\n",
    "        #print('Decoder {} word'.format(i + 1))\n",
    "        choices = []\n",
    "        while not nodes.empty():\n",
    "            score,node = nodes.get()\n",
    "            #print('Last word at position {}'.format(node.leng))\n",
    "            decoder_output, decoder_hidden,emotions,context_input,rnn_output,g = decoder(\n",
    "                node.decoder_input,node.emotions, node.hidden_state,\n",
    "                node.context_input,encoder_outputs,node.rnn_output\n",
    "            )\n",
    "            #print(g)\n",
    "            # Obtain most likely word token and its softmax score\n",
    "            # decoder_output = decoder_output.unsqueeze(0)\n",
    "            decoder_scores, decoder_input = torch.topk(decoder_output,k= K, dim=1)\n",
    "            decoder_scores = torch.log(decoder_scores)\n",
    "            if diversity_penality and i >= 1:\n",
    "                # apply based on rank\n",
    "                penalties = torch.pow(torch.arange(0,K,dtype=torch.float,device=device),3) * gamma\n",
    "                # apply penalties on the output\n",
    "                decoder_scores = decoder_scores - penalties\n",
    "            token_choices = [decoder_input[0,i].item() for i in range(K)] \n",
    "            token_scores = [decoder_scores[0,i].item() for i in range(K)] \n",
    "            #print(voc.index2word[token_choices[0]])\n",
    "            # for each candidate token, compute loss\n",
    "            for token,decoder_score in zip(token_choices,token_scores):\n",
    "                next_decoder_input = torch.ones((1,1),dtype=torch.long,device=device) * token\n",
    "                #current_score = score + decoder_score\n",
    "                next_node = BeamSearchNode(decoder_hidden,node,next_decoder_input,\n",
    "                                      decoder_score,node.leng + 1,emotions,rnn_output,context_input,g)\n",
    "                #print('This is {} words'.format(next_node.leng))\n",
    "                current_score = (score * node.leng - next_node.eval()) / next_node.leng\n",
    "                choices.append((current_score,next_node))\n",
    "        choices = sorted(choices,key=lambda x:x[0])\n",
    "        # choices = choices[:K]\n",
    "        for choice in choices:\n",
    "            if not nodes.full():\n",
    "                nodes.put(choice)\n",
    "\n",
    "    #print(nodes.qsize())\n",
    "    #print('Decode')        \n",
    "    # decoder    \n",
    "    sentences = []\n",
    "    i = 0\n",
    "    while not nodes.empty():\n",
    "        #print('Decode {}:'.format(i))\n",
    "        i += 1 \n",
    "        sentence = []\n",
    "        score,node = nodes.get()\n",
    "        while(node.prevNode is not None):\n",
    "            sentence.append(node.decoder_input.item())\n",
    "            node = node.prevNode\n",
    "        sentence = sentence[::-1]\n",
    "        #print(sentence,score)\n",
    "        sentences.append((score,sentence))\n",
    "    #print(sentences)\n",
    "    for sent in sentences[:40]:\n",
    "        print(sentenceFromIdx(sent[1],voc),sent[0])  \n",
    "    \n"
   ]
  },
  {
   "cell_type": "code",
   "execution_count": 64,
   "metadata": {},
   "outputs": [
    {
     "name": "stdout",
     "output_type": "stream",
     "text": [
      "Post(joy):a promise is what a liar says to a guy .\n"
     ]
    }
   ],
   "source": [
    "diversity_penality = True\n",
    "emotions = 1\n",
    "sentence = 'a promise is what a liar says to a guy .'\n",
    "print('Post({}):{}'.format(emo_dict[emotions],sentence))\n",
    "emotions = int(emotions)\n",
    "emotions = torch.LongTensor([emotions])\n",
    "### Format input sentence as a batch\n",
    "# words -> indexes\n",
    "indexes_batch = [indexesFromSentence(voc, sentence)]\n",
    "# Create lengths tensor\n",
    "lengths = torch.tensor([len(indexes) for indexes in indexes_batch])\n",
    "# Transpose dimensions of batch to match models' expectations\n",
    "input_batch = torch.LongTensor(indexes_batch).transpose(0, 1)\n",
    "# Use appropriate device\n",
    "input_batch = input_batch.to(device)\n",
    "lengths = lengths.to(device)\n",
    "emotions = emotions.to(device)\n",
    "# Forward input through encoder model\n",
    "encoder_outputs, encoder_hidden = encoder(input_batch, lengths)\n",
    "# Prepare encoder's final hidden layer to be first hidden input to the decoder\n",
    "decoder_hidden = encoder_hidden[:decoder.n_layers]\n",
    "# Initialize decoder input with SOS_token\n",
    "decoder_input = torch.ones((1,1), device=device, dtype=torch.long) * SOS_token\n",
    "# Set initial context value,last_rnn_output, internal_memory\n",
    "context_input = torch.zeros(1,hidden_size,dtype=torch.float)\n",
    "context_input = context_input.to(decoder.device)\n",
    "rnn_output = None\n",
    "\n",
    "node = BeamSearchNode(hiddenstate=decoder_hidden,decoder_input=decoder_input,\n",
    "                       context_input=context_input,emotions_emb=emotions,\n",
    "                       length=1,logProb=0,last_rnn_output = rnn_output,\n",
    "                       previousNode=None,g=g\n",
    "                      )\n",
    "sent_leng = 0\n",
    "# beam search\n",
    "K = 100\n",
    "# Iteratively decode one word token at a time\n",
    "# Forward pass through decoder\n",
    "nodes = PriorityQueue(maxsize=K)\n",
    "nodes.put((0,node))\n",
    "# diversity rate\n",
    "gamma = 2\n",
    "\n",
    "choices = []"
   ]
  },
  {
   "cell_type": "code",
   "execution_count": 65,
   "metadata": {},
   "outputs": [
    {
     "name": "stdout",
     "output_type": "stream",
     "text": [
      "torch.Size([1, 1, 1500]) torch.Size([2, 1, 500])\n",
      "torch.Size([1, 1, 500]) torch.Size([2, 1, 500])\n"
     ]
    }
   ],
   "source": [
    "diversity_penality = False\n",
    "score,node = nodes.get()\n",
    "#print('Last word at position {}'.format(node.leng))\n",
    "decoder_output, decoder_hidden,emotions,context_input,rnn_output,g = decoder(\n",
    "    node.decoder_input,node.emotions, node.hidden_state,\n",
    "    node.context_input,encoder_outputs,node.rnn_output\n",
    ")\n",
    "# Obtain most likely word token and its softmax score\n",
    "#decoder_output = decoder_output.unsqueeze(0)\n",
    "decoder_scores, decoder_input = torch.topk(decoder_output,k= K, dim=1)\n",
    "decoder_scores = torch.log(decoder_scores)\n",
    "if diversity_penality:\n",
    "    # apply based on rank\n",
    "    penalties = torch.arange(0,K,dtype=torch.float,device=device) * gamma\n",
    "    # apply penalties on the output\n",
    "    decoder_scores = decoder_scores - penalties\n",
    "token_choices = [decoder_input[0,i].item() for i in range(K)] \n",
    "token_scores = [decoder_scores[0,i].item() for i in range(K)] \n",
    "# for each candidate token, compute loss\n",
    "choices=[]\n",
    "for token,decoder_score in zip(token_choices,token_scores):\n",
    "    next_decoder_input = torch.ones((1,1),dtype=torch.long,device=device) * token\n",
    "    next_node = BeamSearchNode(decoder_hidden,node,next_decoder_input,\n",
    "                          decoder_score,node.leng + 1,emotions,rnn_output,context_input,g)\n",
    "    #print('This is {} words'.format(next_node.leng))\n",
    "    current_score = score - next_node.eval()\n",
    "    choices.append((current_score,next_node))\n",
    "\n",
    "choices = sorted(choices,key=lambda x:x[0])\n"
   ]
  },
  {
   "cell_type": "code",
   "execution_count": 69,
   "metadata": {},
   "outputs": [
    {
     "data": {
      "text/plain": [
       "torch.Size([1, 3216])"
      ]
     },
     "execution_count": 69,
     "metadata": {},
     "output_type": "execute_result"
    }
   ],
   "source": [
    "decoder_output.shape"
   ]
  },
  {
   "cell_type": "code",
   "execution_count": 68,
   "metadata": {},
   "outputs": [
    {
     "data": {
      "text/plain": [
       "torch.Size([2, 1, 500])"
      ]
     },
     "execution_count": 68,
     "metadata": {},
     "output_type": "execute_result"
    }
   ],
   "source": [
    "decoder_hidden.shape"
   ]
  },
  {
   "cell_type": "code",
   "execution_count": null,
   "metadata": {
    "collapsed": true
   },
   "outputs": [],
   "source": [
    "nodes.put(choices[0])"
   ]
  },
  {
   "cell_type": "code",
   "execution_count": null,
   "metadata": {
    "collapsed": true
   },
   "outputs": [],
   "source": [
    "scroe,node = nodes.get()"
   ]
  },
  {
   "cell_type": "code",
   "execution_count": null,
   "metadata": {
    "collapsed": true
   },
   "outputs": [],
   "source": [
    "for each in choices:\n",
    "    print(voc.index2word[each[1].decoder_input.item()],each[0])"
   ]
  },
  {
   "cell_type": "markdown",
   "metadata": {},
   "source": [
    "# Chat with bot"
   ]
  },
  {
   "cell_type": "code",
   "execution_count": 156,
   "metadata": {
    "ExecuteTime": {
     "end_time": "2019-04-03T00:20:45.603674Z",
     "start_time": "2019-04-03T00:20:12.276Z"
    }
   },
   "outputs": [
    {
     "name": "stdout",
     "output_type": "stream",
     "text": [
      "> how are you doing ?\n",
      "Bot(neutral): i m . . .\n",
      "Bot(joy): i m . . . . . .\n",
      "Bot(anger): i m t . . . . .\n",
      "Bot(sadness): i m . . . . . .\n",
      "Bot(fear): i m m . m .\n",
      "> where are you from ?\n",
      "Bot(neutral): i m for .\n",
      "Bot(joy): i m i i .\n",
      "Bot(anger): i m for . .\n",
      "Bot(sadness): i m here . .\n",
      "Bot(fear): i m .\n",
      "> do you love me ?\n",
      "Bot(neutral): i m fun be .\n",
      "Bot(joy): i m be to .\n",
      "Bot(anger): i m be fond . . .\n",
      "Bot(sadness): i m m be .\n",
      "Bot(fear): i m m m m\n"
     ]
    },
    {
     "ename": "KeyboardInterrupt",
     "evalue": "",
     "output_type": "error",
     "traceback": [
      "\u001b[0;31m---------------------------------------------------------------------------\u001b[0m",
      "\u001b[0;31mKeyboardInterrupt\u001b[0m                         Traceback (most recent call last)",
      "\u001b[0;32m~/anaconda3/lib/python3.6/site-packages/ipykernel/kernelbase.py\u001b[0m in \u001b[0;36m_input_request\u001b[0;34m(self, prompt, ident, parent, password)\u001b[0m\n\u001b[1;32m    729\u001b[0m             \u001b[0;32mtry\u001b[0m\u001b[0;34m:\u001b[0m\u001b[0;34m\u001b[0m\u001b[0m\n\u001b[0;32m--> 730\u001b[0;31m                 \u001b[0mident\u001b[0m\u001b[0;34m,\u001b[0m \u001b[0mreply\u001b[0m \u001b[0;34m=\u001b[0m \u001b[0mself\u001b[0m\u001b[0;34m.\u001b[0m\u001b[0msession\u001b[0m\u001b[0;34m.\u001b[0m\u001b[0mrecv\u001b[0m\u001b[0;34m(\u001b[0m\u001b[0mself\u001b[0m\u001b[0;34m.\u001b[0m\u001b[0mstdin_socket\u001b[0m\u001b[0;34m,\u001b[0m \u001b[0;36m0\u001b[0m\u001b[0;34m)\u001b[0m\u001b[0;34m\u001b[0m\u001b[0m\n\u001b[0m\u001b[1;32m    731\u001b[0m             \u001b[0;32mexcept\u001b[0m \u001b[0mException\u001b[0m\u001b[0;34m:\u001b[0m\u001b[0;34m\u001b[0m\u001b[0m\n",
      "\u001b[0;32m~/anaconda3/lib/python3.6/site-packages/jupyter_client/session.py\u001b[0m in \u001b[0;36mrecv\u001b[0;34m(self, socket, mode, content, copy)\u001b[0m\n\u001b[1;32m    795\u001b[0m         \u001b[0;32mtry\u001b[0m\u001b[0;34m:\u001b[0m\u001b[0;34m\u001b[0m\u001b[0m\n\u001b[0;32m--> 796\u001b[0;31m             \u001b[0mmsg_list\u001b[0m \u001b[0;34m=\u001b[0m \u001b[0msocket\u001b[0m\u001b[0;34m.\u001b[0m\u001b[0mrecv_multipart\u001b[0m\u001b[0;34m(\u001b[0m\u001b[0mmode\u001b[0m\u001b[0;34m,\u001b[0m \u001b[0mcopy\u001b[0m\u001b[0;34m=\u001b[0m\u001b[0mcopy\u001b[0m\u001b[0;34m)\u001b[0m\u001b[0;34m\u001b[0m\u001b[0m\n\u001b[0m\u001b[1;32m    797\u001b[0m         \u001b[0;32mexcept\u001b[0m \u001b[0mzmq\u001b[0m\u001b[0;34m.\u001b[0m\u001b[0mZMQError\u001b[0m \u001b[0;32mas\u001b[0m \u001b[0me\u001b[0m\u001b[0;34m:\u001b[0m\u001b[0;34m\u001b[0m\u001b[0m\n",
      "\u001b[0;32m~/anaconda3/lib/python3.6/site-packages/zmq/sugar/socket.py\u001b[0m in \u001b[0;36mrecv_multipart\u001b[0;34m(self, flags, copy, track)\u001b[0m\n\u001b[1;32m    394\u001b[0m         \"\"\"\n\u001b[0;32m--> 395\u001b[0;31m         \u001b[0mparts\u001b[0m \u001b[0;34m=\u001b[0m \u001b[0;34m[\u001b[0m\u001b[0mself\u001b[0m\u001b[0;34m.\u001b[0m\u001b[0mrecv\u001b[0m\u001b[0;34m(\u001b[0m\u001b[0mflags\u001b[0m\u001b[0;34m,\u001b[0m \u001b[0mcopy\u001b[0m\u001b[0;34m=\u001b[0m\u001b[0mcopy\u001b[0m\u001b[0;34m,\u001b[0m \u001b[0mtrack\u001b[0m\u001b[0;34m=\u001b[0m\u001b[0mtrack\u001b[0m\u001b[0;34m)\u001b[0m\u001b[0;34m]\u001b[0m\u001b[0;34m\u001b[0m\u001b[0m\n\u001b[0m\u001b[1;32m    396\u001b[0m         \u001b[0;31m# have first part already, only loop while more to receive\u001b[0m\u001b[0;34m\u001b[0m\u001b[0;34m\u001b[0m\u001b[0m\n",
      "\u001b[0;32mzmq/backend/cython/socket.pyx\u001b[0m in \u001b[0;36mzmq.backend.cython.socket.Socket.recv (zmq/backend/cython/socket.c:7683)\u001b[0;34m()\u001b[0m\n",
      "\u001b[0;32mzmq/backend/cython/socket.pyx\u001b[0m in \u001b[0;36mzmq.backend.cython.socket.Socket.recv (zmq/backend/cython/socket.c:7460)\u001b[0;34m()\u001b[0m\n",
      "\u001b[0;32mzmq/backend/cython/socket.pyx\u001b[0m in \u001b[0;36mzmq.backend.cython.socket._recv_copy (zmq/backend/cython/socket.c:2344)\u001b[0;34m()\u001b[0m\n",
      "\u001b[0;32m~/anaconda3/lib/python3.6/site-packages/zmq/backend/cython/checkrc.pxd\u001b[0m in \u001b[0;36mzmq.backend.cython.checkrc._check_rc (zmq/backend/cython/socket.c:9621)\u001b[0;34m()\u001b[0m\n",
      "\u001b[0;31mKeyboardInterrupt\u001b[0m: ",
      "\nDuring handling of the above exception, another exception occurred:\n",
      "\u001b[0;31mKeyboardInterrupt\u001b[0m                         Traceback (most recent call last)",
      "\u001b[0;32m<ipython-input-156-6f88e3d882fe>\u001b[0m in \u001b[0;36m<module>\u001b[0;34m()\u001b[0m\n\u001b[1;32m      8\u001b[0m \u001b[0msearcher2\u001b[0m \u001b[0;34m=\u001b[0m \u001b[0mBeamSearchDecoder\u001b[0m\u001b[0;34m(\u001b[0m\u001b[0mencoder\u001b[0m\u001b[0;34m,\u001b[0m\u001b[0mdecoder\u001b[0m\u001b[0;34m,\u001b[0m\u001b[0mvoc\u001b[0m\u001b[0;34m.\u001b[0m\u001b[0mnum_words\u001b[0m\u001b[0;34m)\u001b[0m\u001b[0;34m\u001b[0m\u001b[0m\n\u001b[1;32m      9\u001b[0m \u001b[0;31m# Begin chatting (uncomment and run the following line to begin)\u001b[0m\u001b[0;34m\u001b[0m\u001b[0;34m\u001b[0m\u001b[0m\n\u001b[0;32m---> 10\u001b[0;31m \u001b[0mevaluateInput\u001b[0m\u001b[0;34m(\u001b[0m\u001b[0mencoder\u001b[0m\u001b[0;34m,\u001b[0m \u001b[0mdecoder\u001b[0m\u001b[0;34m,\u001b[0m \u001b[0msearcher\u001b[0m\u001b[0;34m,\u001b[0m \u001b[0mvoc\u001b[0m\u001b[0;34m,\u001b[0m\u001b[0memo_dict\u001b[0m\u001b[0;34m,\u001b[0m\u001b[0;32mFalse\u001b[0m\u001b[0;34m)\u001b[0m\u001b[0;34m\u001b[0m\u001b[0m\n\u001b[0m",
      "\u001b[0;32m<ipython-input-155-d7e14d615d46>\u001b[0m in \u001b[0;36mevaluateInput\u001b[0;34m(encoder, decoder, searcher, voc, emotion_dict, beam_search)\u001b[0m\n\u001b[1;32m     34\u001b[0m         \u001b[0;32mtry\u001b[0m\u001b[0;34m:\u001b[0m\u001b[0;34m\u001b[0m\u001b[0m\n\u001b[1;32m     35\u001b[0m             \u001b[0;31m# Get input sentence\u001b[0m\u001b[0;34m\u001b[0m\u001b[0;34m\u001b[0m\u001b[0m\n\u001b[0;32m---> 36\u001b[0;31m             \u001b[0minput_sentence\u001b[0m \u001b[0;34m=\u001b[0m \u001b[0minput\u001b[0m\u001b[0;34m(\u001b[0m\u001b[0;34m'> '\u001b[0m\u001b[0;34m)\u001b[0m\u001b[0;34m\u001b[0m\u001b[0m\n\u001b[0m\u001b[1;32m     37\u001b[0m             \u001b[0;32mfor\u001b[0m \u001b[0memotion\u001b[0m \u001b[0;32min\u001b[0m \u001b[0mrange\u001b[0m\u001b[0;34m(\u001b[0m\u001b[0mlen\u001b[0m\u001b[0;34m(\u001b[0m\u001b[0memotion_dict\u001b[0m\u001b[0;34m)\u001b[0m\u001b[0;34m)\u001b[0m\u001b[0;34m:\u001b[0m\u001b[0;34m\u001b[0m\u001b[0m\n\u001b[1;32m     38\u001b[0m                 \u001b[0;31m# Check if it is quit case\u001b[0m\u001b[0;34m\u001b[0m\u001b[0;34m\u001b[0m\u001b[0m\n",
      "\u001b[0;32m~/anaconda3/lib/python3.6/site-packages/ipykernel/kernelbase.py\u001b[0m in \u001b[0;36mraw_input\u001b[0;34m(self, prompt)\u001b[0m\n\u001b[1;32m    703\u001b[0m             \u001b[0mself\u001b[0m\u001b[0;34m.\u001b[0m\u001b[0m_parent_ident\u001b[0m\u001b[0;34m,\u001b[0m\u001b[0;34m\u001b[0m\u001b[0m\n\u001b[1;32m    704\u001b[0m             \u001b[0mself\u001b[0m\u001b[0;34m.\u001b[0m\u001b[0m_parent_header\u001b[0m\u001b[0;34m,\u001b[0m\u001b[0;34m\u001b[0m\u001b[0m\n\u001b[0;32m--> 705\u001b[0;31m             \u001b[0mpassword\u001b[0m\u001b[0;34m=\u001b[0m\u001b[0;32mFalse\u001b[0m\u001b[0;34m,\u001b[0m\u001b[0;34m\u001b[0m\u001b[0m\n\u001b[0m\u001b[1;32m    706\u001b[0m         )\n\u001b[1;32m    707\u001b[0m \u001b[0;34m\u001b[0m\u001b[0m\n",
      "\u001b[0;32m~/anaconda3/lib/python3.6/site-packages/ipykernel/kernelbase.py\u001b[0m in \u001b[0;36m_input_request\u001b[0;34m(self, prompt, ident, parent, password)\u001b[0m\n\u001b[1;32m    733\u001b[0m             \u001b[0;32mexcept\u001b[0m \u001b[0mKeyboardInterrupt\u001b[0m\u001b[0;34m:\u001b[0m\u001b[0;34m\u001b[0m\u001b[0m\n\u001b[1;32m    734\u001b[0m                 \u001b[0;31m# re-raise KeyboardInterrupt, to truncate traceback\u001b[0m\u001b[0;34m\u001b[0m\u001b[0;34m\u001b[0m\u001b[0m\n\u001b[0;32m--> 735\u001b[0;31m                 \u001b[0;32mraise\u001b[0m \u001b[0mKeyboardInterrupt\u001b[0m\u001b[0;34m\u001b[0m\u001b[0m\n\u001b[0m\u001b[1;32m    736\u001b[0m             \u001b[0;32melse\u001b[0m\u001b[0;34m:\u001b[0m\u001b[0;34m\u001b[0m\u001b[0m\n\u001b[1;32m    737\u001b[0m                 \u001b[0;32mbreak\u001b[0m\u001b[0;34m\u001b[0m\u001b[0m\n",
      "\u001b[0;31mKeyboardInterrupt\u001b[0m: "
     ]
    }
   ],
   "source": [
    "# Set dropout layers to eval mode\n",
    "\n",
    "encoder.eval()\n",
    "decoder.eval()\n",
    "\n",
    "# Initialize search module\n",
    "searcher = GreedySearchDecoder(encoder, decoder)\n",
    "searcher2 = BeamSearchDecoder(encoder,decoder,voc.num_words)\n",
    "# Begin chatting (uncomment and run the following line to begin)\n",
    "evaluateInput(encoder, decoder, searcher, voc,emo_dict,False)"
   ]
  }
 ],
 "metadata": {
  "kernelspec": {
   "display_name": "Python 3",
   "language": "python",
   "name": "python3"
  },
  "toc": {
   "base_numbering": 1,
   "nav_menu": {},
   "number_sections": true,
   "sideBar": true,
   "skip_h1_title": false,
   "title_cell": "Table of Contents",
   "title_sidebar": "Contents",
   "toc_cell": false,
   "toc_position": {
    "height": "calc(100% - 180px)",
    "left": "10px",
    "top": "150px",
    "width": "165px"
   },
   "toc_section_display": true,
   "toc_window_display": true
  },
  "varInspector": {
   "cols": {
    "lenName": 16,
    "lenType": 16,
    "lenVar": 40
   },
   "kernels_config": {
    "python": {
     "delete_cmd_postfix": "",
     "delete_cmd_prefix": "del ",
     "library": "var_list.py",
     "varRefreshCmd": "print(var_dic_list())"
    },
    "r": {
     "delete_cmd_postfix": ") ",
     "delete_cmd_prefix": "rm(",
     "library": "var_list.r",
     "varRefreshCmd": "cat(var_dic_list()) "
    }
   },
   "types_to_exclude": [
    "module",
    "function",
    "builtin_function_or_method",
    "instance",
    "_Feature"
   ],
   "window_display": false
  }
 },
 "nbformat": 4,
 "nbformat_minor": 2
}
