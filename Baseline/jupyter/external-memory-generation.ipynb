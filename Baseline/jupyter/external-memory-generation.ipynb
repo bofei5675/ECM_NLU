{
 "cells": [
  {
   "cell_type": "code",
   "execution_count": 1,
   "metadata": {
    "ExecuteTime": {
     "end_time": "2019-04-02T02:38:34.806247Z",
     "start_time": "2019-04-02T02:38:34.647930Z"
    }
   },
   "outputs": [],
   "source": [
    "from __future__ import absolute_import\n",
    "from __future__ import division\n",
    "from __future__ import print_function\n",
    "from __future__ import unicode_literals\n",
    "\n",
    "import torch\n",
    "from torch.jit import script, trace\n",
    "import torch.nn as nn\n",
    "from torch import optim\n",
    "import torch.nn.functional as F\n",
    "import numpy as np\n",
    "\n",
    "\n",
    "import csv\n",
    "import random\n",
    "import re\n",
    "import os\n",
    "import unicodedata\n",
    "import codecs\n",
    "from io import open\n",
    "import itertools\n",
    "import math\n",
    "import time\n",
    "import json\n",
    "\n",
    "from preprocessing_dailydialogue import *"
   ]
  },
  {
   "cell_type": "code",
   "execution_count": 2,
   "metadata": {
    "ExecuteTime": {
     "end_time": "2019-04-02T02:38:35.702709Z",
     "start_time": "2019-04-02T02:38:35.698640Z"
    }
   },
   "outputs": [],
   "source": [
    "# Define constant\n",
    "# Default word tokens\n",
    "#\n",
    "USE_CUDA = torch.cuda.is_available()\n",
    "device = torch.device(\"cuda\" if USE_CUDA else \"cpu\")\n",
    "PAD_token = 0  # Used for padding short sentences\n",
    "SOS_token = 1  # Start-of-sentence token\n",
    "EOS_token = 2  # End-of-sentence token\n",
    "MAX_LENGTH = 50  # Maximum sentence length to consider\n",
    "MIN_COUNT = 1    # Minimum word count threshold for trimming\n",
    "save_dir = os.path.join(\"data\", \"save\")\n"
   ]
  },
  {
   "cell_type": "code",
   "execution_count": 3,
   "metadata": {
    "ExecuteTime": {
     "end_time": "2019-04-02T02:38:46.930361Z",
     "start_time": "2019-04-02T02:38:38.151383Z"
    }
   },
   "outputs": [
    {
     "name": "stdout",
     "output_type": "stream",
     "text": [
      "Start preparing training data ...\n",
      "Reading lines...\n",
      "Read 89862 sentence pairs\n",
      "Trimmed to 61642 sentence pairs\n",
      "Counting words...\n",
      "Counted words: 12548\n"
     ]
    }
   ],
   "source": [
    "DATA_PATH = '../data/ijcnlp_dailydialog'\n",
    "corpus_name = 'dialogues_text.txt'\n",
    "emotions_file = 'dialogues_emotion.txt'\n",
    "corpus = os.path.join(DATA_PATH, corpus_name)\n",
    "emotions = os.path.join(DATA_PATH, emotions_file)\n",
    "\n",
    "voc, pairs, pairs_emotion = loadPrepareData(corpus, emotions)"
   ]
  },
  {
   "cell_type": "code",
   "execution_count": 4,
   "metadata": {
    "ExecuteTime": {
     "end_time": "2019-04-02T02:38:50.166561Z",
     "start_time": "2019-04-02T02:38:49.995706Z"
    }
   },
   "outputs": [
    {
     "name": "stdout",
     "output_type": "stream",
     "text": [
      "No emotion output 98044\n",
      "Emotion output 25240\n"
     ]
    }
   ],
   "source": [
    "emotion_count = {}\n",
    "non_emotion = 0\n",
    "have_emotion = 0\n",
    "for conversation,emotions in zip(pairs,pairs_emotion):\n",
    "    post,response = conversation\n",
    "    post_e,response_e = emotions\n",
    "    \n",
    "    if post_e != 0:\n",
    "        have_emotion += 1\n",
    "        for word in post.split(' '):\n",
    "            emotion_count[word] = emotion_count.get(word,0) + 1\n",
    "    else:\n",
    "        non_emotion += 1\n",
    "    if response_e != 0:\n",
    "        have_emotion += 1\n",
    "        for word in response.split(' '):\n",
    "            emotion_count[word] = emotion_count.get(word,0) + 1\n",
    "    else:\n",
    "        non_emotion += 1\n",
    "\n",
    "print('No emotion output {}'.format(non_emotion))\n",
    "print('Emotion output {}'.format(have_emotion))\n"
   ]
  },
  {
   "cell_type": "code",
   "execution_count": 6,
   "metadata": {
    "ExecuteTime": {
     "end_time": "2019-04-02T02:39:25.550740Z",
     "start_time": "2019-04-02T02:39:25.543057Z"
    }
   },
   "outputs": [],
   "source": [
    "for each in emotion_count:\n",
    "    try:\n",
    "        emotion_count[each] = emotion_count[each] / voc.word2count[each]\n",
    "    except KeyError:\n",
    "        continue"
   ]
  },
  {
   "cell_type": "code",
   "execution_count": 9,
   "metadata": {
    "ExecuteTime": {
     "end_time": "2019-04-02T02:39:46.783436Z",
     "start_time": "2019-04-02T02:39:46.780112Z"
    }
   },
   "outputs": [],
   "source": [
    "ememory = []\n",
    "threshold = 0.25\n",
    "min_count_emotion = 3"
   ]
  },
  {
   "cell_type": "code",
   "execution_count": 10,
   "metadata": {
    "ExecuteTime": {
     "end_time": "2019-04-02T02:39:47.524926Z",
     "start_time": "2019-04-02T02:39:47.514744Z"
    }
   },
   "outputs": [
    {
     "name": "stdout",
     "output_type": "stream",
     "text": [
      "Total 2136 words\n"
     ]
    }
   ],
   "source": [
    "for each in emotion_count:\n",
    "    try:\n",
    "        if voc.word2count[each] > min_count_emotion and emotion_count[each] > threshold:\n",
    "            ememory.append(each)\n",
    "    except KeyError:\n",
    "        continue\n",
    "print('Total {} words'.format(len(ememory)))\n",
    "        "
   ]
  },
  {
   "cell_type": "code",
   "execution_count": 15,
   "metadata": {
    "ExecuteTime": {
     "end_time": "2019-04-02T13:46:17.795993Z",
     "start_time": "2019-04-02T13:46:17.791682Z"
    }
   },
   "outputs": [
    {
     "data": {
      "text/plain": [
       "2136"
      ]
     },
     "execution_count": 15,
     "metadata": {},
     "output_type": "execute_result"
    }
   ],
   "source": [
    "len(ememory)"
   ]
  },
  {
   "cell_type": "code",
   "execution_count": 16,
   "metadata": {
    "ExecuteTime": {
     "end_time": "2019-04-02T13:46:18.988585Z",
     "start_time": "2019-04-02T13:46:18.982344Z"
    }
   },
   "outputs": [],
   "source": [
    "with open('ememory.txt','w') as f:\n",
    "    for each in ememory:\n",
    "        f.write(each +'\\n')\n",
    "    "
   ]
  }
 ],
 "metadata": {
  "kernelspec": {
   "display_name": "Python 3",
   "language": "python",
   "name": "python3"
  },
  "language_info": {
   "codemirror_mode": {
    "name": "ipython",
    "version": 3
   },
   "file_extension": ".py",
   "mimetype": "text/x-python",
   "name": "python",
   "nbconvert_exporter": "python",
   "pygments_lexer": "ipython3",
   "version": "3.5.6"
  },
  "toc": {
   "base_numbering": 1,
   "nav_menu": {},
   "number_sections": true,
   "sideBar": true,
   "skip_h1_title": false,
   "title_cell": "Table of Contents",
   "title_sidebar": "Contents",
   "toc_cell": false,
   "toc_position": {},
   "toc_section_display": true,
   "toc_window_display": false
  },
  "varInspector": {
   "cols": {
    "lenName": 16,
    "lenType": 16,
    "lenVar": 40
   },
   "kernels_config": {
    "python": {
     "delete_cmd_postfix": "",
     "delete_cmd_prefix": "del ",
     "library": "var_list.py",
     "varRefreshCmd": "print(var_dic_list())"
    },
    "r": {
     "delete_cmd_postfix": ") ",
     "delete_cmd_prefix": "rm(",
     "library": "var_list.r",
     "varRefreshCmd": "cat(var_dic_list()) "
    }
   },
   "types_to_exclude": [
    "module",
    "function",
    "builtin_function_or_method",
    "instance",
    "_Feature"
   ],
   "window_display": false
  }
 },
 "nbformat": 4,
 "nbformat_minor": 2
}
