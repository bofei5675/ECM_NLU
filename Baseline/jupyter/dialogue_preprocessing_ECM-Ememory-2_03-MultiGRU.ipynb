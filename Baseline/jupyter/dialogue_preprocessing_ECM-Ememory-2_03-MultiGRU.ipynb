{
 "cells": [
  {
   "cell_type": "code",
   "execution_count": 1,
   "metadata": {
    "ExecuteTime": {
     "end_time": "2019-04-03T00:20:14.079320Z",
     "start_time": "2019-04-03T00:20:12.231583Z"
    },
    "collapsed": true
   },
   "outputs": [],
   "source": [
    "from __future__ import absolute_import\n",
    "from __future__ import division\n",
    "from __future__ import print_function\n",
    "from __future__ import unicode_literals\n",
    "\n",
    "import torch\n",
    "from torch.jit import script, trace\n",
    "import torch.nn as nn\n",
    "from torch import optim\n",
    "import torch.nn.functional as F\n",
    "import numpy as np\n",
    "\n",
    "import pandas as pd\n",
    "import csv\n",
    "import random\n",
    "import re\n",
    "import os\n",
    "import unicodedata\n",
    "import codecs\n",
    "from io import open\n",
    "import itertools\n",
    "import math\n",
    "import time\n",
    "import json\n",
    "from preprocessing_dailydialogue import *\n",
    "import pickle\n",
    "from queue import PriorityQueue"
   ]
  },
  {
   "cell_type": "code",
   "execution_count": 2,
   "metadata": {
    "ExecuteTime": {
     "end_time": "2019-04-03T00:20:14.085039Z",
     "start_time": "2019-04-03T00:20:14.081116Z"
    },
    "collapsed": true
   },
   "outputs": [],
   "source": [
    "# Define constant\n",
    "# Default word tokens\n",
    "#\n",
    "torch.autograd.set_detect_anomaly(True)\n",
    "os.environ['CUDA_LAUNCH_BLOCKING'] = '1'\n",
    "USE_CUDA = torch.cuda.is_available()\n",
    "device = torch.device(\"cuda\" if USE_CUDA else \"cpu\")\n",
    "PAD_token = 0  # Used for padding short sentences\n",
    "SOS_token = 1  # Start-of-sentence token\n",
    "EOS_token = 2  # End-of-sentence token\n",
    "MAX_LENGTH = 10  # Maximum sentence length to consider\n",
    "MIN_COUNT = 3    # Minimum word count threshold for trimming\n",
    "save_dir = os.path.join(\"data\", \"save\")\n",
    "emo_dict = { 0: 'neutral', 1: 'joy', 2: 'anger', \n",
    "            3: 'sadness',4:'fear'}\n",
    "emo2idx = {value:key for key,value in emo_dict.items()}\n"
   ]
  },
  {
   "cell_type": "markdown",
   "metadata": {},
   "source": [
    "# Run this block if using daily dialogue"
   ]
  },
  {
   "cell_type": "code",
   "execution_count": 3,
   "metadata": {},
   "outputs": [
    {
     "data": {
      "text/plain": [
       "True"
      ]
     },
     "execution_count": 3,
     "metadata": {},
     "output_type": "execute_result"
    }
   ],
   "source": [
    "USE_CUDA"
   ]
  },
  {
   "cell_type": "markdown",
   "metadata": {},
   "source": [
    "# get data from pickle (No preprocessing required)"
   ]
  },
  {
   "cell_type": "code",
   "execution_count": 4,
   "metadata": {
    "collapsed": true
   },
   "outputs": [],
   "source": [
    "with open('processed_train.pickle','rb') as f:\n",
    "    pairs = pickle.load(f)\n",
    "    pairs_emotion = pickle.load(f)\n",
    "    voc = pickle.load(f)\n",
    "#with open('processed_test.pickle','rb') as f:\n",
    "#    pairs_t = pickle.load(f)\n",
    "#    pairs_emotion_t = pickle.load(f)"
   ]
  },
  {
   "cell_type": "code",
   "execution_count": 5,
   "metadata": {
    "collapsed": true
   },
   "outputs": [],
   "source": [
    "test_batch = batch2TrainData(voc,list(range(1000)),pairs[-1000:],pairs_emotion[-1000:])\n",
    "pairs = pairs[:-1000]\n",
    "pairs_emotion = pairs_emotion[:-1000]\n",
    "test_pairs = pairs[-1000:]\n",
    "test_pairs_emotion = pairs_emotion[-1000:]\n"
   ]
  },
  {
   "cell_type": "code",
   "execution_count": 6,
   "metadata": {},
   "outputs": [
    {
     "data": {
      "text/plain": [
       "(14923, 14923)"
      ]
     },
     "execution_count": 6,
     "metadata": {},
     "output_type": "execute_result"
    }
   ],
   "source": [
    "len(pairs),len(pairs_emotion)\n",
    "\n"
   ]
  },
  {
   "cell_type": "markdown",
   "metadata": {},
   "source": [
    "# Convert data to tensor"
   ]
  },
  {
   "cell_type": "code",
   "execution_count": 7,
   "metadata": {
    "ExecuteTime": {
     "end_time": "2019-04-03T00:20:22.371122Z",
     "start_time": "2019-04-03T00:20:22.361048Z"
    }
   },
   "outputs": [
    {
     "name": "stdout",
     "output_type": "stream",
     "text": [
      "input_variable: tensor([[ 237,   92,  394,  356,   25],\n",
      "        [ 132, 2118,   86,  223,   27],\n",
      "        [ 116, 2119,  386,   49,   95],\n",
      "        [  42,   56,   85,   15,    8],\n",
      "        [  27, 2120, 1645,    2,    2],\n",
      "        [ 296, 1780,    8,    0,    0],\n",
      "        [  10,    8,    2,    0,    0],\n",
      "        [  15,    2,    0,    0,    0],\n",
      "        [   2,    0,    0,    0,    0]])\n",
      "Input_emotion: tensor([0, 0, 0, 0, 0])\n",
      "lengths: tensor([9, 8, 7, 5, 5])\n",
      "target_variable: tensor([[  81,  160, 2331,   27,  139],\n",
      "        [  27,   27,   14,  302,   10],\n",
      "        [  68,    8,    8, 1492,  836],\n",
      "        [  51,    8,    2,    8,   22],\n",
      "        [  45,    8,    0,    2,   13],\n",
      "        [ 113,    2,    0,    0,   14],\n",
      "        [ 148,    0,    0,    0,   15],\n",
      "        [2395,    0,    0,    0,    2],\n",
      "        [   8,    0,    0,    0,    0],\n",
      "        [   2,    0,    0,    0,    0]])\n",
      "target_emotion: tensor([0, 0, 0, 0, 0])\n",
      "mask: tensor([[1, 1, 1, 1, 1],\n",
      "        [1, 1, 1, 1, 1],\n",
      "        [1, 1, 1, 1, 1],\n",
      "        [1, 1, 1, 1, 1],\n",
      "        [1, 1, 0, 1, 1],\n",
      "        [1, 1, 0, 0, 1],\n",
      "        [1, 0, 0, 0, 1],\n",
      "        [1, 0, 0, 0, 1],\n",
      "        [1, 0, 0, 0, 0],\n",
      "        [1, 0, 0, 0, 0]], dtype=torch.uint8)\n",
      "max_target_len: 10\n"
     ]
    }
   ],
   "source": [
    "# Example for validation\n",
    "small_batch_size = 5\n",
    "batches = batch2TrainData(voc, [random.choice(list(range(len(test_pairs)))) for _ in range(small_batch_size)],test_pairs,test_pairs_emotion)\n",
    "input_variable,input_emotion, lengths, target_variable,target_emotion, mask, max_target_len = batches\n",
    "#loss = evaluate_performance(input_variable,lengths,target_variable,target_emotion,mask,max_target_len,encoder,decoder)\n",
    "print(\"input_variable:\", input_variable)\n",
    "print('Input_emotion:',input_emotion)\n",
    "print(\"lengths:\", lengths)\n",
    "print(\"target_variable:\", target_variable)\n",
    "print('target_emotion:',target_emotion)\n",
    "print(\"mask:\", mask)\n",
    "print(\"max_target_len:\", max_target_len)\n",
    "#print('Loss:',loss)"
   ]
  },
  {
   "cell_type": "markdown",
   "metadata": {},
   "source": [
    "# Encoder + Attention"
   ]
  },
  {
   "cell_type": "code",
   "execution_count": 8,
   "metadata": {
    "ExecuteTime": {
     "end_time": "2019-04-03T00:20:22.384721Z",
     "start_time": "2019-04-03T00:20:22.372826Z"
    }
   },
   "outputs": [
    {
     "name": "stdout",
     "output_type": "stream",
     "text": [
      "Implement attention inside ECM\n"
     ]
    }
   ],
   "source": [
    "class EncoderRNN(nn.Module):\n",
    "    def __init__(self, hidden_size, embedding, n_layers=1, dropout=0):\n",
    "        super(EncoderRNN, self).__init__()\n",
    "        self.n_layers = n_layers\n",
    "        self.hidden_size = hidden_size\n",
    "        self.embedding = embedding\n",
    "\n",
    "        # Initialize GRU; the input_size and hidden_size params are both set to 'hidden_size'\n",
    "        #   because our input size is a word embedding with number of features == hidden_size\n",
    "        self.gru = nn.GRU(hidden_size, hidden_size, n_layers,\n",
    "                          dropout=(0 if n_layers == 1 else dropout), bidirectional=True)\n",
    "\n",
    "    def forward(self, input_seq, input_lengths, hidden=None):\n",
    "        # Convert word indexes to embeddings\n",
    "        embedded = self.embedding(input_seq)\n",
    "        # Pack padded batch of sequences for RNN module\n",
    "        packed = torch.nn.utils.rnn.pack_padded_sequence(embedded, input_lengths)\n",
    "        # Forward pass through GRU\n",
    "        outputs, hidden = self.gru(packed, hidden)\n",
    "        # Unpack padding\n",
    "        outputs, _ = torch.nn.utils.rnn.pad_packed_sequence(outputs)\n",
    "        # Sum bidirectional GRU outputs\n",
    "        outputs = outputs[:, :, :self.hidden_size] + outputs[:, : ,self.hidden_size:]\n",
    "        # Return output and final hidden state\n",
    "        return outputs, hidden\n",
    "\n",
    "print('Implement attention inside ECM')"
   ]
  },
  {
   "cell_type": "markdown",
   "metadata": {},
   "source": [
    "# ECM: Internal memory + Attention"
   ]
  },
  {
   "cell_type": "code",
   "execution_count": 9,
   "metadata": {
    "ExecuteTime": {
     "end_time": "2019-04-03T00:20:22.394866Z",
     "start_time": "2019-04-03T00:20:22.386874Z"
    },
    "collapsed": true
   },
   "outputs": [],
   "source": [
    "class ECMWrapper(nn.Module):\n",
    "    '''\n",
    "    Internal memory module\n",
    "    '''\n",
    "    def __init__(self,hidden_size,state_size,emo_size,num_emotion,embedding,emotion_embedding,gru,device):\n",
    "        '''\n",
    "        hidden_size: hidden input dimension\n",
    "        state_size: state vector size (input a word so hidden size)\n",
    "        emo_size: emotional embedding size (usually similar to hidden_size)\n",
    "        num_emotion: number of emotion categories\n",
    "        '''\n",
    "        super(ECMWrapper,self).__init__()\n",
    "        self.hidden_size = hidden_size\n",
    "        self.state_size = state_size\n",
    "        self.emo_size = emo_size\n",
    "        self.num_emotion = num_emotion\n",
    "        self.device = device\n",
    "        # read gate dimensions (word_embedding + hidden_input + context_input)\n",
    "        self.read_g = nn.Linear(self.hidden_size + self.hidden_size + self.hidden_size,self.emo_size)\n",
    "        # write gate\n",
    "        self.write_g = nn.Linear(self.state_size, self.emo_size)\n",
    "        # GRU output input dimensions = state_last + context + emotion emb + internal memory\n",
    "        self.gru = gru\n",
    "        self.emotion_embedding = emotion_embedding\n",
    "        self.embedding = embedding\n",
    "        # attention layer\n",
    "        self.attn1 = nn.Linear(self.hidden_size,self.hidden_size)\n",
    "        self.attn2 = nn.Linear(self.hidden_size,self.hidden_size)\n",
    "        self.concat = nn.Linear(self.hidden_size, 1)\n",
    "    def forward(self,word_input,decoder_output,static_emotion_input,emotion_input,context_input,last_hidden,memory):\n",
    "        '''\n",
    "        Last hidden == prev_cell_state\n",
    "        last word embedding = word_input\n",
    "        last hidden input = h\n",
    "        last_rnn_output = logits before softmax\n",
    "        memory = encoder_outputs\n",
    "        emotion_input = internal memory\n",
    "        static_emotion_input = emotion embedding value\n",
    "        '''\n",
    "        # get embedding of input word and emotion\n",
    "        if decoder_output is None:\n",
    "            decoder_output = torch.zeros(word_input.shape[1],self.hidden_size,dtype=torch.float,device = self.device)\n",
    "            decoder_output = decoder_output.unsqueeze(0)\n",
    "            context_input = self._compute_context(decoder_output,memory)\n",
    "        last_word_embedding = self.embedding(word_input)\n",
    "        read_inputs = torch.cat((last_word_embedding,decoder_output,context_input), dim = -1)\n",
    "        # compute read input\n",
    "        # write to emotion embedding\n",
    "        emotion_input = self._read_internal_memory(read_inputs,emotion_input)\n",
    "        # pass everything to GRU\n",
    "        # decoder_output: logits from last rnn unit\n",
    "        X = torch.cat([context_input, last_word_embedding, emotion_input], dim = -1)\n",
    "        rnn_output, hidden = self.gru(X,last_hidden,static_emotion_input,emotion_input)\n",
    "        # write input\n",
    "        # update states\n",
    "        # write to emotion embedding\n",
    "        new_M_emo = self._write_internal_memory(emotion_input,rnn_output) # new emotion_input\n",
    "        new_context = self._compute_context(rnn_output,memory)\n",
    "        return rnn_output, hidden, new_M_emo, new_context\n",
    "    def _compute_context(self,rnn_output,memory):\n",
    "        '''\n",
    "        Compute context\n",
    "        '''\n",
    "        rnn_output = rnn_output.unsqueeze(dim=-2).squeeze(0) # make shape (batch,1,hidden_size)\n",
    "        memory = memory.permute(1,0,2)\n",
    "        Wq = self.attn1(rnn_output)\n",
    "        Wm = self.attn2(memory)\n",
    "        concat = (Wq + Wm).tanh()\n",
    "        e = self.concat(concat).squeeze(2)\n",
    "        attn_score = torch.softmax(e,dim = 1).unsqueeze(1)\n",
    "        context = torch.bmm(attn_score,memory).squeeze(1)\n",
    "        return context.unsqueeze(0)\n",
    "    def _read_internal_memory(self,read_inputs,emotion_input):\n",
    "        \"\"\"\n",
    "        Read the internal memory\n",
    "            emotion_input: [batch_size, emo_hidden_size]\n",
    "            read_inputs: [batch_size, d] d= [last_word_embedding;decoder_output;context_input]\n",
    "        Returns:\n",
    "            output: [batch_size, emo__hidden_size]\n",
    "        \"\"\"\n",
    "        read_inputs = self.read_g(read_inputs)\n",
    "        M_read = torch.sigmoid(read_inputs)\n",
    "        return emotion_input * M_read\n",
    "    def _write_internal_memory(self,emotion_input,rnn_output):\n",
    "        \"\"\"\n",
    "        Write the internal memory\n",
    "            emotion_input: [batch_size, emo_hidden_size]\n",
    "            rnn_output: [batch_size, hidden_size]\n",
    "        Returns:\n",
    "            output: [batch_size, emo_hidden_size]\n",
    "        \"\"\"\n",
    "        M_write = torch.sigmoid(self.write_g(rnn_output))\n",
    "        return emotion_input * M_write\n",
    "    \n",
    "    "
   ]
  },
  {
   "cell_type": "markdown",
   "metadata": {},
   "source": [
    "# GRU"
   ]
  },
  {
   "cell_type": "code",
   "execution_count": 10,
   "metadata": {
    "collapsed": true
   },
   "outputs": [],
   "source": [
    "class ECMGRU(nn.Module):\n",
    "    def __init__(self,hidden_size,static_emo_size,emo_size,n_layers = 1):\n",
    "        '''\n",
    "        Single layer GRU.\n",
    "        '''\n",
    "        super(ECMGRU,self).__init__()\n",
    "        # first layer of special GRU\n",
    "        self.hidden_size = hidden_size\n",
    "        # these three linear layer compute output from emotion/internal memory \n",
    "        self.emotion_u = nn.Linear(static_emo_size + emo_size, hidden_size)\n",
    "        self.emotion_r = nn.Linear(static_emo_size + emo_size, hidden_size)\n",
    "        self.emotion_c = nn.Linear(static_emo_size + emo_size, hidden_size)\n",
    "        # these two are generic GRU output that takes [step_input, last_hidden]\n",
    "        self.generic_u = nn.Linear(hidden_size + hidden_size + hidden_size + emo_size, hidden_size)\n",
    "        self.generic_r = nn.Linear(hidden_size + hidden_size + hidden_size + emo_size, hidden_size)\n",
    "        \n",
    "        # gate value computation\n",
    "        self.generic_c = nn.Linear(hidden_size + hidden_size + hidden_size + emo_size, hidden_size)\n",
    "        self.n_layers = n_layers\n",
    "        # starting from second layer, using the normal GRU\n",
    "        self._cell = nn.GRU(hidden_size, hidden_size,num_layers = n_layers - 1)\n",
    "    def forward(self,step_input,last_hidden,emotion,internal_memory):\n",
    "        '''\n",
    "        step_input: X\n",
    "        last_hidden: Hidden value from GRU\n",
    "        emotion: static emotion embedding vector\n",
    "        internal_memory: decayed emotion embedding vector\n",
    "        '''\n",
    "        # compute based on the first layer\n",
    "        hidden_0 = last_hidden[0].unsqueeze(dim = 0)\n",
    "        internal_memory = internal_memory.squeeze(dim = 0)\n",
    "        emotion_input = torch.cat([emotion,internal_memory],dim=-1)\n",
    "        # compute emotion gate value\n",
    "        _u = self.emotion_u(emotion_input) # update gate\n",
    "        _r = self.emotion_r(emotion_input) # reset gate\n",
    "        _c = self.emotion_c(emotion_input) # reset gate vector\n",
    "        \n",
    "        # generic GRU gate value\n",
    "        X = torch.cat([step_input,hidden_0],dim = -1)\n",
    "        u = self.generic_u(X)\n",
    "        r = self.generic_r(X)\n",
    "        \n",
    "        # gate for this time stamp\n",
    "        rt = torch.sigmoid(r + _r)\n",
    "        ut = torch.sigmoid(u + _u)\n",
    "        \n",
    "        # gate vector\n",
    "        Xc = torch.cat([step_input, hidden_0 * rt],dim = -1)\n",
    "        ct = _c + self.generic_c(Xc)\n",
    "        ct = torch.tanh(ct)\n",
    "        # compute new hidden\n",
    "        hidden = ut * hidden_0 + (1 - ut) * ct\n",
    "        \n",
    "        # if it has second layer\n",
    "        if self.n_layers > 1:\n",
    "            gru_hidden = last_hidden[1:] # skip the first layer of input\n",
    "            gru_input = hidden\n",
    "            rnn_output, gru_hidden = self._cell(gru_input, gru_hidden)\n",
    "        hidden = torch.cat([hidden,gru_hidden],dim = 0)\n",
    "        return rnn_output, hidden\n",
    "        "
   ]
  },
  {
   "cell_type": "markdown",
   "metadata": {},
   "source": [
    "# Decoder part"
   ]
  },
  {
   "cell_type": "code",
   "execution_count": 11,
   "metadata": {
    "ExecuteTime": {
     "end_time": "2019-04-03T00:20:22.410809Z",
     "start_time": "2019-04-03T00:20:22.396793Z"
    },
    "collapsed": true
   },
   "outputs": [],
   "source": [
    "class LuongAttnDecoderRNN(nn.Module):\n",
    "    def __init__(self,embedding,static_emotion_embedding,emotion_embedding, hidden_size, output_size,device,ememory=None, n_layers=1, dropout=0.1,num_emotions = 7,batch_size = 64):\n",
    "        super(LuongAttnDecoderRNN, self).__init__()\n",
    "        # Keep for reference\n",
    "        self.attn_model = attn_model\n",
    "        self.hidden_size = hidden_size\n",
    "        self.output_size = output_size\n",
    "        self.n_layers = n_layers\n",
    "        self.batch_size = batch_size\n",
    "        self.dropout = dropout\n",
    "        self.num_emotions = num_emotions\n",
    "        self.device = device\n",
    "        # Define layers\n",
    "        self.embedding = embedding\n",
    "        # define emotion embedding\n",
    "        self.emotion_cat_embedding = static_emotion_embedding\n",
    "        self.emotion_embedding = emotion_embedding # for internal memory\n",
    "        self.embedding_dropout = nn.Dropout(dropout)\n",
    "        #self.emotion_embedding_dropout = nn.Dropout(dropout)\n",
    "        # dimension\n",
    "        #self.gru = nn.GRU(hidden_size + hidden_size + hidden_size, hidden_size, n_layers, dropout=(0 if n_layers == 1 else dropout))\n",
    "        self.gru = ECMGRU(emo_size=hidden_size,hidden_size=hidden_size,static_emo_size=hidden_size,n_layers = n_layers)\n",
    "        # using in Luong et al. attention mechanism.\n",
    "        self.internal_memory = ECMWrapper(hidden_size,hidden_size,\n",
    "                                          hidden_size,self.num_emotions,\n",
    "                                          self.embedding,self.emotion_embedding,self.gru,device)\n",
    "        # read external from outside\n",
    "        self.external_memory = ememory\n",
    "        # generic output linear layer\n",
    "        self.generic_word_output_layer = nn.Linear(self.hidden_size,output_size)\n",
    "        # emotional output linear layer \n",
    "        self.emotion_word_output_layer = nn.Linear(self.hidden_size,output_size)\n",
    "        # emotional gate/ choice layer\n",
    "        self.alpha_layer = nn.Linear(hidden_size,1)\n",
    "        # Luong eq 5 layer\n",
    "        self.concat = nn.Linear(hidden_size * 2, hidden_size)\n",
    "    def forward(self, input_step, input_static_emotion, input_step_emotion, last_hidden\n",
    "                ,input_context, encoder_outputs,last_rnn_output = None):\n",
    "        '''\n",
    "        Decoder with external memory.\n",
    "        \n",
    "        '''\n",
    "        if not torch.is_floating_point(input_step_emotion):\n",
    "            input_step_emotion = self.emotion_embedding(input_step_emotion) # float number for internal memory\n",
    "        input_static_emotion = self.emotion_cat_embedding(input_static_emotion)\n",
    "        rnn_output, hidden, new_M_emo,context = self.internal_memory(input_step,last_rnn_output,\n",
    "                                                                     input_static_emotion,\n",
    "                                                                     input_step_emotion,\n",
    "                                                                     input_context,last_hidden,\n",
    "                                                                     encoder_outputs)\n",
    "        # Concatenate weighted context vector and GRU output using Luong eq. 5\n",
    "        concat_input = torch.cat((rnn_output, context), -1)\n",
    "        concat_output = self.concat(concat_input)\n",
    "        # concat_output = rnn_output\n",
    "        # this part is not using inside ECM (?)\n",
    "        if self.external_memory is not None:\n",
    "            # Project hidden output to distribution.\n",
    "            generic_output = self.generic_word_output_layer(concat_output)\n",
    "            emotion_output = self.emotion_word_output_layer(concat_output)\n",
    "            generic_output = generic_output.squeeze(0)\n",
    "            emotion_output = emotion_output.squeeze(0)\n",
    "            # external memory gate\n",
    "            g = torch.sigmoid(self.alpha_layer(concat_output))\n",
    "            output_g = torch.softmax(generic_output,dim = 1) * (1 - g)\n",
    "            output_e = torch.softmax(emotion_output,dim = 1) * g\n",
    "            output = output_g + output_e # output distribution\n",
    "            output = output.squeeze(0)\n",
    "            g = torch.cat([(1 - g),g],dim = -1) # gate distribution\n",
    "            g = g.squeeze(0)\n",
    "        else:\n",
    "            # Predict next word using Luong eq. 6\n",
    "            output = self.out(concat_output).squeeze(0)\n",
    "            # generic output\n",
    "            output = F.softmax(output, dim=1)\n",
    "            output = output.squeeze(0)\n",
    "            g = None\n",
    "        # Return output and final hidden state\n",
    "        return output, hidden, new_M_emo, context,concat_output,g"
   ]
  },
  {
   "cell_type": "code",
   "execution_count": 12,
   "metadata": {
    "collapsed": true
   },
   "outputs": [],
   "source": [
    "gru = ECMGRU(emo_size=500,hidden_size=500,static_emo_size=500,n_layers=2)"
   ]
  },
  {
   "cell_type": "code",
   "execution_count": 13,
   "metadata": {
    "collapsed": true
   },
   "outputs": [],
   "source": [
    "inp = torch.zeros((1,64,1500))\n",
    "last_hidden = torch.ones((2,64,500))\n",
    "static_emo = torch.randn((64,500))\n",
    "internal_memory = torch.randn((1,64,500))"
   ]
  },
  {
   "cell_type": "code",
   "execution_count": 14,
   "metadata": {
    "collapsed": true
   },
   "outputs": [],
   "source": [
    "rnn_output, hidden = gru(inp,last_hidden,static_emo,internal_memory)"
   ]
  },
  {
   "cell_type": "code",
   "execution_count": 15,
   "metadata": {},
   "outputs": [
    {
     "data": {
      "text/plain": [
       "(torch.Size([1, 64, 500]), torch.Size([2, 64, 500]))"
      ]
     },
     "execution_count": 15,
     "metadata": {},
     "output_type": "execute_result"
    }
   ],
   "source": [
    "rnn_output.shape,hidden.shape"
   ]
  },
  {
   "cell_type": "markdown",
   "metadata": {},
   "source": [
    "# NLL Loss + Internal Memory Loss"
   ]
  },
  {
   "cell_type": "code",
   "execution_count": 16,
   "metadata": {
    "ExecuteTime": {
     "end_time": "2019-04-03T00:20:22.417398Z",
     "start_time": "2019-04-03T00:20:22.413116Z"
    },
    "collapsed": true
   },
   "outputs": [],
   "source": [
    "def maskNLLLoss_IMemory(inp, target, mask,M_emo,external_memory,alpha):\n",
    "    '''\n",
    "    When external memory input will be a tuple with 4 elements\n",
    "    '''\n",
    "    nTotal = mask.sum()\n",
    "    \n",
    "    # cross entropy loss\n",
    "    crossEntropy = -torch.log(torch.gather(inp, 1, target.view(-1, 1)).squeeze(1) + 1e-12)\n",
    "    # internal emotional loss\n",
    "    eos_mask = (target == 2) # 2 is EOS token\n",
    "    eos_mask = eos_mask.type_as(M_emo)\n",
    "    internal_memory_loss = torch.norm(M_emo,dim = 2) * eos_mask\n",
    "    internal_memory_loss = internal_memory_loss.squeeze(0)\n",
    "    # external\n",
    "    # find 1,0\n",
    "    if external_memory is not None:\n",
    "        qt = torch.gather(external_memory.view(-1,1),0,target.view(-1,1)).type(torch.LongTensor)\n",
    "        qt = qt.to(device)\n",
    "        alpha_prob = torch.gather(alpha,1,qt) # if it select emotion word or generic word\n",
    "        external_memory_loss = (-torch.log(alpha_prob + 1e-12)).reshape(-1) \n",
    "    else:\n",
    "        external_memory_loss = torch.zeros(crossEntropy.shape,dtype=torch.float,device=device)\n",
    "    #print(crossEntropy.masked_select(mask).mean(),internal_memory_loss.masked_select(mask).mean())\n",
    "    loss = crossEntropy.masked_select(mask).mean() + external_memory_loss.mean() + internal_memory_loss.mean()\n",
    "    loss = loss.to(device)\n",
    "    return loss, nTotal.item(),crossEntropy.masked_select(mask).mean().item()\n",
    "\n"
   ]
  },
  {
   "cell_type": "markdown",
   "metadata": {},
   "source": [
    "# Single Train"
   ]
  },
  {
   "cell_type": "code",
   "execution_count": 17,
   "metadata": {
    "ExecuteTime": {
     "end_time": "2019-04-03T00:20:22.432980Z",
     "start_time": "2019-04-03T00:20:22.419994Z"
    },
    "collapsed": true
   },
   "outputs": [],
   "source": [
    "def compute_perplexity(loss):\n",
    "    return np.exp(loss)\n",
    "def train(input_variable, lengths, target_variable,target_variable_emotion,\n",
    "          mask, max_target_len, encoder, decoder, embedding,emotion_embedding,\n",
    "          encoder_optimizer, decoder_optimizer, batch_size, clip, max_length=MAX_LENGTH):\n",
    "    # Zero gradients\n",
    "    encoder_optimizer.zero_grad()\n",
    "    decoder_optimizer.zero_grad()\n",
    "    # num_samples in this batch\n",
    "    num_samples = input_variable.shape[1]\n",
    "    # Set device options\n",
    "    input_variable = input_variable.to(device)\n",
    "    lengths = lengths.to(device)\n",
    "    target_variable = target_variable.to(device)\n",
    "    mask = mask.to(device)\n",
    "    target_variable_emotion = target_variable_emotion.to(device)\n",
    "    # Initialize variables\n",
    "    loss = 0\n",
    "    print_losses = []\n",
    "    n_totals = 0\n",
    "    totalCrossEntropy = 0\n",
    "\n",
    "    # Forward pass through encoder\n",
    "    encoder_outputs, encoder_hidden = encoder(input_variable, lengths)\n",
    "\n",
    "    # Create initial decoder input (start with SOS tokens for each sentence)\n",
    "    decoder_input = torch.LongTensor([[SOS_token for _ in range(num_samples)]])\n",
    "    decoder_input = decoder_input.to(device)\n",
    "    \n",
    "    # Set initial decoder hidden state to the encoder's final hidden state\n",
    "    decoder_hidden = encoder_hidden[:decoder.n_layers]\n",
    "    \n",
    "    # Set initial context value,last_rnn_output, internal_memory\n",
    "    context_input = torch.zeros(num_samples,hidden_size,dtype=torch.float,device=device) #torch.FloatTensor(batch_size,hidden_size)\n",
    "    # Determine if we are using teacher forcing this iteration\n",
    "    if random.random() < teacher_forcing_ratio:\n",
    "        use_teacher_forcing = True  \n",
    "    else:\n",
    "        use_teacher_forcing = False\n",
    "    use_teacher_forcing = False\n",
    "    # initialize value for rnn_output\n",
    "    rnn_output = None\n",
    "    # keep a copy of emotional category for static emotion embedding\n",
    "    static_emotion = target_variable_emotion\n",
    "    static_emotion = static_emotion.to(device)\n",
    "    # Forward batch of sequences through decoder one time step at a time\n",
    "    if use_teacher_forcing:\n",
    "        for t in range(max_target_len):\n",
    "            decoder_output, decoder_hidden,target_variable_emotion,context_input,rnn_output,g = decoder(\n",
    "                decoder_input,static_emotion,target_variable_emotion, decoder_hidden,\n",
    "                context_input, encoder_outputs,rnn_output\n",
    "            )\n",
    "            # Teacher forcing: next input is current target\n",
    "            decoder_input = target_variable[t].view(1, -1)\n",
    "            # Calculate and accumulate loss\n",
    "            mask_loss, nTotal,crossEntropy = maskNLLLoss_IMemory(decoder_output, target_variable[t], mask[t],target_variable_emotion,decoder.external_memory,g)\n",
    "            loss += mask_loss\n",
    "            totalCrossEntropy += crossEntropy * nTotal\n",
    "            print_losses.append(mask_loss.item() * nTotal) # print average loss\n",
    "            n_totals += nTotal\n",
    "    else:\n",
    "        for t in range(max_target_len):\n",
    "            decoder_output, decoder_hidden,target_variable_emotion,context_input,rnn_output,g = decoder(\n",
    "                decoder_input,static_emotion,target_variable_emotion, decoder_hidden,\n",
    "                context_input,encoder_outputs,rnn_output\n",
    "            )\n",
    "            # No teacher forcing: next input is decoder's own current output\n",
    "            _, topi = decoder_output.topk(1)\n",
    "            topi = topi.squeeze(0)\n",
    "            decoder_input = torch.LongTensor([[topi[i][0] for i in range(num_samples)]])\n",
    "            decoder_input = decoder_input.to(device)\n",
    "            # Calculate and accumulate loss\n",
    "            mask_loss, nTotal,crossEntropy = maskNLLLoss_IMemory(decoder_output, target_variable[t], mask[t],target_variable_emotion,decoder.external_memory,g)\n",
    "            loss += mask_loss\n",
    "            totalCrossEntropy += crossEntropy * nTotal\n",
    "            print_losses.append(mask_loss.item() * nTotal) # print average loss\n",
    "            n_totals += nTotal\n",
    "\n",
    "    # Perform backpropatation\n",
    "    try:\n",
    "        loss.backward()\n",
    "    except Exception:\n",
    "        print(input_variable)\n",
    "        print(target_variable)\n",
    "\n",
    "    # Clip gradients: gradients are modified in place\n",
    "    _ = torch.nn.utils.clip_grad_norm_(encoder.parameters(), clip)\n",
    "    _ = torch.nn.utils.clip_grad_norm_(decoder.parameters(), clip)\n",
    "\n",
    "    # Adjust model weights\n",
    "    encoder_optimizer.step()\n",
    "    decoder_optimizer.step()\n",
    "    #print('Total Loss {}; Cross Entropy: {}'.format(sum(print_losses) / n_totals, totalCrossEntropy / n_totals))\n",
    "    return sum(print_losses) / n_totals,totalCrossEntropy / n_totals\n",
    "def evaluate_performance(input_variable, lengths, target_variable,target_variable_emotion,\n",
    "          mask, max_target_len, encoder, decoder):\n",
    "    # test mode\n",
    "    \n",
    "    encoder.eval()\n",
    "    decoder.eval()\n",
    "    # num_samples in this batch\n",
    "    num_samples = input_variable.shape[1]\n",
    "    # Set device options\n",
    "    input_variable = input_variable.to(device)\n",
    "    lengths = lengths.to(device)\n",
    "    target_variable = target_variable.to(device)\n",
    "    mask = mask.to(device)\n",
    "    target_variable_emotion = target_variable_emotion.to(device)\n",
    "    # Initialize variables\n",
    "    loss = 0\n",
    "    print_losses = []\n",
    "    n_totals = 0\n",
    "    totalCrossEntropy = 0\n",
    "    # Forward pass through encoder\n",
    "    encoder_outputs, encoder_hidden = encoder(input_variable, lengths)\n",
    "\n",
    "    # Create initial decoder input (start with SOS tokens for each sentence)\n",
    "    decoder_input = torch.LongTensor([[SOS_token for _ in range(num_samples)]])\n",
    "    decoder_input = decoder_input.to(device)\n",
    "    \n",
    "    # Set initial decoder hidden state to the encoder's final hidden state\n",
    "    decoder_hidden = encoder_hidden[:decoder.n_layers]\n",
    "    # Set initial context value,last_rnn_output, internal_memory\n",
    "    context_input = torch.zeros(num_samples,hidden_size,dtype=torch.float,device=device) #torch.FloatTensor(batch_size,hidden_size)\n",
    "    # initial value for rnn output\n",
    "    rnn_output = None\n",
    "    # keep a copy of emotional category for static emotion embedding\n",
    "    static_emotion = target_variable_emotion\n",
    "    static_emotion = static_emotion.to(device)\n",
    "    # forward pass to generate all sentences\n",
    "    for t in range(max_target_len):\n",
    "        decoder_output, decoder_hidden,target_variable_emotion,context_input,rnn_output,g = decoder(\n",
    "            decoder_input,static_emotion,target_variable_emotion, decoder_hidden,\n",
    "            context_input,encoder_outputs,rnn_output\n",
    "        )\n",
    "        # No teacher forcing: next input is decoder's own current output\n",
    "        _, topi = decoder_output.topk(1)\n",
    "        topi = topi.squeeze(0)\n",
    "        decoder_input = torch.LongTensor([[topi[i][0] for i in range(num_samples)]])\n",
    "        decoder_input = decoder_input.to(device)\n",
    "        # Calculate and accumulate loss\n",
    "        mask_loss, nTotal,crossEntropy = maskNLLLoss_IMemory(decoder_output, target_variable[t], mask[t],target_variable_emotion,decoder.external_memory,g)\n",
    "        loss += mask_loss\n",
    "        totalCrossEntropy += (crossEntropy * nTotal)\n",
    "        print_losses.append(mask_loss.item() * nTotal) # print average loss\n",
    "        n_totals += nTotal\n",
    "    # back to train mode\n",
    "    encoder.train()\n",
    "    decoder.train()\n",
    "    return sum(print_losses) / n_totals, totalCrossEntropy / n_totals"
   ]
  },
  {
   "cell_type": "markdown",
   "metadata": {},
   "source": [
    "# Train Iteration"
   ]
  },
  {
   "cell_type": "code",
   "execution_count": 18,
   "metadata": {
    "ExecuteTime": {
     "end_time": "2019-04-03T00:20:22.448790Z",
     "start_time": "2019-04-03T00:20:22.435338Z"
    },
    "collapsed": true
   },
   "outputs": [],
   "source": [
    "def trainIters(model_name, voc, pairs,pairs_emotion, \n",
    "               encoder, decoder, encoder_optimizer,\n",
    "               decoder_optimizer, embedding,emotion_embedding, \n",
    "               encoder_n_layers, decoder_n_layers, save_dir, \n",
    "               n_iteration, batch_size, print_every, save_every, \n",
    "               clip,corpus_name,external_memory,test_pairs,test_pairs_emotion):\n",
    "    loadFilename=None\n",
    "    # Load batches for each iteration\n",
    "    #training_batches = [batch2TrainData(voc, [random.choice(pairs) for _ in range(batch_size)])\n",
    "                      #for _ in range(n_iteration)]\n",
    "    print('Loading Training data ...')\n",
    "    length_pairs = len(pairs)\n",
    "    #training_batches = [batch2TrainData(voc, [random.choice(range(length_pairs)) for _ in range(batch_size)],\n",
    "    #                                   pairs,pairs_emotion) for _ in range(n_iteration)]\n",
    "    # Initializations\n",
    "    print('Initializing ...')\n",
    "    start_iteration = 1\n",
    "    print_loss = 0\n",
    "    totalCrossEntropy = 0\n",
    "    if loadFilename:\n",
    "        start_iteration = checkpoint['iteration'] + 1\n",
    "    min_test_loss = 1000\n",
    "    # Training loop\n",
    "    print(\"Training...\")\n",
    "    for iteration in range(start_iteration, n_iteration + 1):\n",
    "        training_batch = batch2TrainData(voc, [random.choice(range(length_pairs)) for _ in range(batch_size)],\n",
    "                                       pairs,pairs_emotion)\n",
    "        # to save the data that causes error\n",
    "        #with open('wrong_data.pickle','rb') as f:\n",
    "        #    training_batch = pickle.load(f)\n",
    "        \n",
    "        # Extract fields from batch\n",
    "        input_variable,input_variable_emotion, lengths, target_variable,target_variable_emotion, mask, max_target_len = training_batch\n",
    "\n",
    "        # Run a training iteration with batch\n",
    "        loss,crossEntropy = train(input_variable, lengths, target_variable,target_variable_emotion,\n",
    "                     mask, max_target_len, encoder,\n",
    "                     decoder, embedding,emotion_embedding,\n",
    "                     encoder_optimizer, decoder_optimizer, \n",
    "                     batch_size, clip)\n",
    "        \n",
    "        print_loss += loss\n",
    "        totalCrossEntropy += crossEntropy\n",
    "        # Print progress\n",
    "        if iteration % print_every == 0 or iteration == 1:\n",
    "            directory = os.path.join(save_dir, model_name, corpus_name, '{}-{}_{}'.format(encoder_n_layers, decoder_n_layers, hidden_size))\n",
    "            if not os.path.exists(directory):\n",
    "                os.makedirs(directory)\n",
    "            if iteration == 1:\n",
    "                print_loss_avg = print_loss / 1\n",
    "                print_cross_entropy = totalCrossEntropy / 1\n",
    "            else:\n",
    "                print_loss_avg = print_loss / print_every\n",
    "                print_cross_entropy = totalCrossEntropy / print_every\n",
    "            if print_cross_entropy > 300:\n",
    "                perplexity = compute_perplexity(300)\n",
    "            else:\n",
    "                perplexity = compute_perplexity(print_cross_entropy)\n",
    "            output1 = \"Iteration: {}; Percent complete: {:.1f}%; Average loss: {:.4f}; Perplexity: {:.2f}\".format(iteration, iteration / n_iteration * 100, print_loss_avg,perplexity)\n",
    "            print(output1)\n",
    "            test_length_pairs = len(test_pairs) \n",
    "            test_batch = batch2TrainData(voc, [idx for idx in range(1000)],\n",
    "                                       test_pairs,test_pairs_emotion)\n",
    "            input_variable,input_emotion, lengths, target_variable,target_emotion, mask, max_target_len = test_batch\n",
    "            test_loss,testCrossEntropy = evaluate_performance(input_variable,lengths, target_variable,target_emotion,mask,max_target_len,encoder,decoder)\n",
    "            \n",
    "            if testCrossEntropy > 300:\n",
    "                perplexity = compute_perplexity(300)\n",
    "            else:\n",
    "                perplexity = compute_perplexity(testCrossEntropy)\n",
    "            output2 = 'Loss on validation set {:.4f}; Perplexity:{:.2f}'.format(test_loss,perplexity)\n",
    "            print(output2)\n",
    "            with open(os.path.join(directory,'log.txt'),'a+') as f:\n",
    "                f.write(output1 + '\\n')\n",
    "                f.write(output2 + '\\n')\n",
    "            print_loss = 0\n",
    "            totalCrossEntropy = 0\n",
    "\n",
    "        # Save checkpoint and only save the better perform one,\n",
    "        if (iteration % save_every == 0) and (testCrossEntropy < min_test_loss):\n",
    "            min_test_loss = testCrossEntropy\n",
    "            print('Save the model at checkpoint {}, and test loss is {}'.format(iteration,min_test_loss))\n",
    "            directory = os.path.join(save_dir, model_name, corpus_name, '{}-{}_{}'.format(encoder_n_layers, decoder_n_layers, hidden_size))\n",
    "            if not os.path.exists(directory):\n",
    "                os.makedirs(directory)\n",
    "            torch.save({\n",
    "                'iteration': iteration,\n",
    "                'en': encoder.state_dict(),\n",
    "                'de': decoder.state_dict(),\n",
    "                'en_opt': encoder_optimizer.state_dict(),\n",
    "                'de_opt': decoder_optimizer.state_dict(),\n",
    "                'loss': loss,\n",
    "                'voc_dict': voc.__dict__,\n",
    "                'embedding': embedding.state_dict(),\n",
    "                'external_memory':external_memory\n",
    "            }, os.path.join(directory, '{}_{}.tar'.format(iteration, 'checkpoint')))\n",
    "            \n",
    "            "
   ]
  },
  {
   "cell_type": "markdown",
   "metadata": {},
   "source": [
    "# Greedy Search"
   ]
  },
  {
   "cell_type": "code",
   "execution_count": 19,
   "metadata": {
    "collapsed": true
   },
   "outputs": [],
   "source": [
    "def print_param(model):\n",
    "    for name,param in model.named_parameters():\n",
    "        print(param)\n",
    "        print(name,param.grad)"
   ]
  },
  {
   "cell_type": "code",
   "execution_count": 20,
   "metadata": {
    "ExecuteTime": {
     "end_time": "2019-04-03T00:20:22.459565Z",
     "start_time": "2019-04-03T00:20:22.451396Z"
    },
    "collapsed": true
   },
   "outputs": [],
   "source": [
    "class GreedySearchDecoder(nn.Module):\n",
    "    def __init__(self, encoder, decoder,num_word = None):\n",
    "        super(GreedySearchDecoder, self).__init__()\n",
    "        self.encoder = encoder\n",
    "        self.decoder = decoder\n",
    "\n",
    "    def forward(self, input_seq,target_emotions,input_length, max_length):\n",
    "        # Forward input through encoder model\n",
    "        encoder_outputs, encoder_hidden = self.encoder(input_seq, input_length)\n",
    "        # Prepare encoder's final hidden layer to be first hidden input to the decoder\n",
    "        decoder_hidden = encoder_hidden[:decoder.n_layers]\n",
    "        # Initialize decoder input with SOS_token\n",
    "        decoder_input = torch.ones(1, 1, device=device, dtype=torch.long) * SOS_token\n",
    "        # Initialize tensors to append decoded words to\n",
    "        all_tokens = torch.zeros([0], device=device, dtype=torch.long)\n",
    "        all_scores = torch.zeros([0], device=device)\n",
    "        # Set initial context value,last_rnn_output, internal_memory\n",
    "        context_input = torch.zeros((1,hidden_size),dtype=torch.float,device=self.decoder.device)\n",
    "        context_input = context_input.to(device)\n",
    "        rnn_output = None\n",
    "        # keep a copy of emotional category for static emotion embedding\n",
    "        static_emotion = target_emotions\n",
    "        static_emotion = static_emotion.to(device)\n",
    "        # Iteratively decode one word token at a time\n",
    "        for _ in range(max_length):\n",
    "            # Forward pass through decoder\n",
    "            decoder_output, decoder_hidden,target_emotions,context_input,rnn_output,g = decoder(\n",
    "                decoder_input,static_emotion,target_emotions, decoder_hidden,\n",
    "                context_input, encoder_outputs,rnn_output\n",
    "            )\n",
    "            # Obtain most likely word token and its softmax score\n",
    "            decoder_scores, decoder_input = torch.max(decoder_output, dim=1)\n",
    "            # Record token and score\n",
    "            all_tokens = torch.cat((all_tokens, decoder_input), dim=0)\n",
    "            all_scores = torch.cat((all_scores, decoder_scores), dim=0)\n",
    "            # Prepare current token to be next decoder input (add a dimension)\n",
    "            decoder_input = torch.unsqueeze(decoder_input, 0)\n",
    "        # Return collections of word tokens and scores\n",
    "        return all_tokens, all_scores"
   ]
  },
  {
   "cell_type": "markdown",
   "metadata": {},
   "source": [
    "# Beam Search"
   ]
  },
  {
   "cell_type": "code",
   "execution_count": 21,
   "metadata": {
    "ExecuteTime": {
     "end_time": "2019-04-03T00:20:22.474049Z",
     "start_time": "2019-04-03T00:20:22.461944Z"
    },
    "collapsed": true
   },
   "outputs": [],
   "source": [
    "class BeamSearchDecoder(nn.Module):\n",
    "    def __init__(self, encoder, decoder,num_word):\n",
    "        super(BeamSearchDecoder, self).__init__()\n",
    "        self.encoder = encoder\n",
    "        self.decoder = decoder\n",
    "        self.num_word = num_word\n",
    "\n",
    "    def forward(self, input_seq,target_emotions,input_length, max_length):\n",
    "        # Forward input through encoder model\n",
    "        encoder_outputs, encoder_hidden = self.encoder(input_seq, input_length)\n",
    "        # Prepare encoder's final hidden layer to be first hidden input to the decoder\n",
    "        decoder_hidden = encoder_hidden[:decoder.n_layers]\n",
    "        # Initialize decoder input with SOS_token\n",
    "        decoder_input = torch.ones(1, 1, device=device, dtype=torch.long) * SOS_token\n",
    "        # Initialize tensors to append decoded words to\n",
    "        all_tokens = torch.zeros([0], device=device, dtype=torch.long)\n",
    "        all_words_order = torch.zeros((1,self.num_word),device=decoder.device,dtype=torch.long)\n",
    "        all_scores = torch.zeros([0], device=device)\n",
    "        all_scores_array = torch.zeros((1,self.num_word),device=decoder.device,dtype=torch.float)\n",
    "        # Set initial context value,last_rnn_output, internal_memory\n",
    "        context_input = torch.zeros(1,hidden_size,dtype=torch.float)\n",
    "        context_input = context_input.to(decoder.device)\n",
    "        rnn_output = None\n",
    "        # keep a copy of emotional category for static emotion embedding\n",
    "        static_emotion = target_emotion\n",
    "        static_emotion = static_emotion.to(device)\n",
    "        # Iteratively decode one word token at a time\n",
    "        for _ in range(max_length):\n",
    "            # Forward pass through decoder\n",
    "            decoder_output, decoder_hidden,target_emotions,context_input,rnn_output,g = decoder(\n",
    "                decoder_input,static_emotion,target_emotions, decoder_hidden,\n",
    "                context_input, encoder_outputs,rnn_output\n",
    "            )\n",
    "            # Obtain most likely word token and its softmax score\n",
    "            decoder_scores, decoder_input = torch.max(decoder_output, dim=1)\n",
    "            decoder_input_order = torch.argsort(decoder_output,dim=1,descending=True)\n",
    "            # Record token and score\n",
    "            all_tokens = torch.cat((all_tokens, decoder_input), dim=0)\n",
    "            all_scores = torch.cat((all_scores, decoder_scores), dim=0)\n",
    "            all_scores_array = torch.cat((all_scores_array,decoder_output),dim = 0)\n",
    "            all_words_order = torch.cat((all_words_order,decoder_input_order), dim=0)\n",
    "            # Prepare current token to be next decoder input (add a dimension)\n",
    "            decoder_input = torch.unsqueeze(decoder_input, 0)\n",
    "        # Return collections of word tokens and scores\n",
    "        sequences = self.beam_search(all_scores_array,3)\n",
    "        return sequences\n",
    "    def beam_search(self,array,k):\n",
    "        array = array.tolist()\n",
    "        sequences = [[list(), 1.0]]\n",
    "        # walk over each step in sequence\n",
    "        for row in array:\n",
    "            all_candidates = list()\n",
    "            # expand each current candidate\n",
    "            for i in range(len(sequences)):\n",
    "                seq, score = sequences[i]\n",
    "                for j in range(len(row)):\n",
    "                    candidate = [seq + [j], score - np.log(row[j] + 1e-8)]\n",
    "                    all_candidates.append(candidate)\n",
    "            # order all candidates by score\n",
    "            ordered = sorted(all_candidates, key=lambda tup:tup[1])\n",
    "            # select k best\n",
    "            sequences = ordered[:k]\n",
    "        return sequences"
   ]
  },
  {
   "cell_type": "markdown",
   "metadata": {},
   "source": [
    "# Build Model"
   ]
  },
  {
   "cell_type": "code",
   "execution_count": 23,
   "metadata": {
    "ExecuteTime": {
     "end_time": "2019-04-03T00:20:22.688663Z",
     "start_time": "2019-04-03T00:20:22.476414Z"
    }
   },
   "outputs": [
    {
     "name": "stdout",
     "output_type": "stream",
     "text": [
      "Emotion word counts: 611\n",
      "Building encoder and decoder ...\n",
      "Models built and ready to go!\n"
     ]
    }
   ],
   "source": [
    "try:\n",
    "    voc\n",
    "except NameError:\n",
    "    voc = Voc('a',max_length=MAX_LENGTH,min_count=MIN_COUNT)\n",
    "# Configure models\n",
    "model_name = 'emotion_model'\n",
    "corpus_name = 'ECM10_words_Ememory_concat_large_dataset'\n",
    "attn_model = 'concat'\n",
    "#attn_model = 'general'\n",
    "#attn_model = 'concat'\n",
    "hidden_size = 500\n",
    "encoder_n_layers = 2\n",
    "decoder_n_layers = 2\n",
    "dropout = 0.2\n",
    "batch_size = 64\n",
    "# number of emotion\n",
    "num_emotions = 5\n",
    "# load external memory based vocab.\n",
    "emotion_words = get_ememory('ememory2.txt',voc)\n",
    "# Set checkpoint to load from; set to None if starting from scratch\n",
    "loadFilename = 'data/save/emotion_model/ECM10_words_Ememory_concat_large_dataset/2-2_500/2600_checkpoint.tar'\n",
    "checkpoint_iter = 120\n",
    "training = True\n",
    "if loadFilename:\n",
    "    training = False\n",
    "#loadFilename = os.path.join(save_dir, model_name, corpus_name,\n",
    "#                            '{}-{}_{}'.format(encoder_n_layers, decoder_n_layers, hidden_size),\n",
    "#                            '{}_checkpoint.tar'.format(checkpoint_iter))\n",
    "\n",
    "\n",
    "# Load model if a loadFilename is provided\n",
    "if loadFilename:\n",
    "    # If loading on same machine the model was trained on\n",
    "    checkpoint = torch.load(loadFilename)\n",
    "    # If loading a model trained on GPU to CPU\n",
    "    #checkpoint = torch.load(loadFilename, map_location=torch.device('cpu'))\n",
    "    encoder_sd = checkpoint['en']\n",
    "    decoder_sd = checkpoint['de']\n",
    "    encoder_optimizer_sd = checkpoint['en_opt']\n",
    "    decoder_optimizer_sd = checkpoint['de_opt']\n",
    "    embedding_sd = checkpoint['embedding']\n",
    "    voc.__dict__ = checkpoint['voc_dict']\n",
    "    emotion_words = checkpoint['external_memory']\n",
    "    \n",
    "\n",
    "\n",
    "print('Building encoder and decoder ...')\n",
    "# Initialize word embeddings\n",
    "if emotion_words is not None:\n",
    "    emotion_words = emotion_words.to(device)\n",
    "\n",
    "embedding = nn.Embedding(voc.num_words, hidden_size)\n",
    "emotion_embedding = nn.Embedding(num_emotions, hidden_size)\n",
    "emotion_embedding_static = nn.Embedding(num_emotions,hidden_size)\n",
    "\n",
    "if loadFilename:\n",
    "    embedding.load_state_dict(embedding_sd)\n",
    "# Initialize encoder & decoder models\n",
    "encoder = EncoderRNN(hidden_size, embedding, encoder_n_layers, dropout)\n",
    "decoder = LuongAttnDecoderRNN(embedding,emotion_embedding_static,emotion_embedding, hidden_size, \n",
    "                              voc.num_words,device, emotion_words,decoder_n_layers, dropout,num_emotions=num_emotions,batch_size = batch_size)\n",
    "if loadFilename:\n",
    "    encoder.load_state_dict(encoder_sd)\n",
    "    decoder.load_state_dict(decoder_sd)\n",
    "    \n",
    "# Use appropriate device\n",
    "encoder = encoder.to(device)\n",
    "decoder = decoder.to(device)\n",
    "print('Models built and ready to go!')"
   ]
  },
  {
   "cell_type": "code",
   "execution_count": 24,
   "metadata": {},
   "outputs": [
    {
     "data": {
      "text/plain": [
       "3216"
      ]
     },
     "execution_count": 24,
     "metadata": {},
     "output_type": "execute_result"
    }
   ],
   "source": [
    "voc.num_words"
   ]
  },
  {
   "cell_type": "code",
   "execution_count": 25,
   "metadata": {},
   "outputs": [
    {
     "data": {
      "text/plain": [
       "tensor(536, device='cuda:0')"
      ]
     },
     "execution_count": 25,
     "metadata": {},
     "output_type": "execute_result"
    }
   ],
   "source": [
    "emotion_words.sum()"
   ]
  },
  {
   "cell_type": "markdown",
   "metadata": {},
   "source": [
    "# Run training"
   ]
  },
  {
   "cell_type": "code",
   "execution_count": null,
   "metadata": {
    "ExecuteTime": {
     "end_time": "2019-04-03T00:20:45.601591Z",
     "start_time": "2019-04-03T00:20:22.690677Z"
    }
   },
   "outputs": [
    {
     "name": "stdout",
     "output_type": "stream",
     "text": [
      "Building optimizers ...\n",
      "Starting Training!\n",
      "Loading Training data ...\n",
      "Initializing ...\n",
      "Training...\n",
      "Iteration: 1; Percent complete: 0.0%; Average loss: 2.2583; Perplexity: 8.26\n",
      "Loss on validation set 2.6733; Perplexity:12.14\n",
      "Iteration: 20; Percent complete: 0.0%; Average loss: 2.4857; Perplexity: 10.11\n",
      "Loss on validation set 2.5929; Perplexity:11.18\n",
      "Iteration: 40; Percent complete: 0.0%; Average loss: 2.5413; Perplexity: 10.67\n",
      "Loss on validation set 2.5363; Perplexity:10.52\n",
      "Iteration: 60; Percent complete: 0.0%; Average loss: 2.4980; Perplexity: 10.11\n",
      "Loss on validation set 2.4691; Perplexity:9.86\n",
      "Iteration: 80; Percent complete: 0.0%; Average loss: 2.4390; Perplexity: 9.59\n",
      "Loss on validation set 2.5124; Perplexity:10.30\n",
      "Iteration: 100; Percent complete: 0.0%; Average loss: 2.4467; Perplexity: 9.74\n",
      "Loss on validation set 2.5171; Perplexity:10.42\n",
      "Save the model at checkpoint 100, and test loss is 2.3432743892468797\n",
      "Iteration: 120; Percent complete: 0.0%; Average loss: 2.4544; Perplexity: 9.81\n",
      "Loss on validation set 2.5299; Perplexity:10.54\n",
      "Iteration: 140; Percent complete: 0.0%; Average loss: 2.3946; Perplexity: 9.29\n",
      "Loss on validation set 2.5426; Perplexity:10.73\n",
      "Iteration: 160; Percent complete: 0.0%; Average loss: 2.5069; Perplexity: 10.25\n"
     ]
    }
   ],
   "source": [
    "# Configure training/optimization\n",
    "clip = 50\n",
    "teacher_forcing_ratio = 0.1\n",
    "learning_rate = 0.001\n",
    "decoder_learning_ratio = 5.0\n",
    "n_iteration = 2000000\n",
    "print_every = 20\n",
    "save_every = 100\n",
    "\n",
    "\n",
    "# Ensure dropout layers are in train mode\n",
    "encoder.train()\n",
    "decoder.train()\n",
    "\n",
    "# Initialize optimizers\n",
    "print('Building optimizers ...')\n",
    "encoder_optimizer = optim.Adam(encoder.parameters(), lr=learning_rate)\n",
    "decoder_optimizer = optim.Adam(decoder.parameters(), lr=learning_rate * decoder_learning_ratio)\n",
    "if loadFilename:\n",
    "    encoder_optimizer.load_state_dict(encoder_optimizer_sd)\n",
    "    decoder_optimizer.load_state_dict(decoder_optimizer_sd)\n",
    "\n",
    "# Run training iterations\n",
    "\n",
    "\n",
    "print(\"Starting Training!\")\n",
    "trainIters(model_name, voc, pairs,pairs_emotion, encoder, decoder, encoder_optimizer, decoder_optimizer,\n",
    "           embedding,emotion_embedding, encoder_n_layers, decoder_n_layers, save_dir, n_iteration, batch_size,\n",
    "           print_every, save_every, clip,corpus_name,emotion_words,test_pairs,test_pairs_emotion)\n",
    "    \n",
    "    "
   ]
  },
  {
   "cell_type": "code",
   "execution_count": 26,
   "metadata": {
    "ExecuteTime": {
     "end_time": "2019-04-03T00:20:45.602651Z",
     "start_time": "2019-04-03T00:20:12.272Z"
    },
    "collapsed": true
   },
   "outputs": [],
   "source": [
    "def evaluate(encoder, decoder, searcher, voc, sentence, emotions,max_length=MAX_LENGTH,beam_search = False):\n",
    "    emotions = int(emotions)\n",
    "    emotions = torch.LongTensor([emotions])\n",
    "    ### Format input sentence as a batch\n",
    "    # words -> indexes\n",
    "    indexes_batch = [indexesFromSentence(voc, sentence)]\n",
    "    # Create lengths tensor\n",
    "    lengths = torch.tensor([len(indexes) for indexes in indexes_batch])\n",
    "    # Transpose dimensions of batch to match models' expectations\n",
    "    input_batch = torch.LongTensor(indexes_batch).transpose(0, 1)\n",
    "    # Use appropriate device\n",
    "    input_batch = input_batch.to(device)\n",
    "    lengths = lengths.to(device)\n",
    "    emotions = emotions.to(device)\n",
    "\n",
    "    # indexes -> words\n",
    "    if beam_search:\n",
    "        sequences = searcher(input_batch, emotions, lengths, max_length)\n",
    "        decoded_words = beam_decode(sequences,voc)\n",
    "    else:\n",
    "        # Decode sentence with searcher\n",
    "        tokens, scores = searcher(input_batch, emotions, lengths, max_length)\n",
    "        decoded_words = [voc.index2word[token.item()] for token in tokens]\n",
    "    return decoded_words\n",
    "\n",
    "def beam_decode(sequences,voc):\n",
    "    for each in sequences:\n",
    "        for idxs in each:\n",
    "            return [voc.index2word[idx] for idx in idxs[:-1]]\n",
    "    \n",
    "def evaluateInput(encoder, decoder, searcher, voc,emotion_dict,beam_search):\n",
    "    input_sentence = ''\n",
    "    while(1):\n",
    "        try:\n",
    "            # Get input sentence\n",
    "            input_sentence = input('> ')\n",
    "            for emotion in range(len(emotion_dict)):\n",
    "                # Check if it is quit case\n",
    "                if input_sentence == 'q' or input_sentence == 'quit': break\n",
    "                # Normalize sentence\n",
    "                input_sentence = normalizeString(input_sentence)\n",
    "                # Evaluate sentence\n",
    "                output_words = evaluate(encoder, decoder, searcher, voc, input_sentence,emotion,beam_search=beam_search)\n",
    "                # Format and print response sentence\n",
    "                output=[]\n",
    "                for word in output_words:\n",
    "                    if word == 'PAD':\n",
    "                        continue\n",
    "                    elif word == 'EOS':\n",
    "                        break\n",
    "                    else:\n",
    "                        output.append(word)\n",
    "                print('Bot({}):'.format(emotion_dict[emotion]), ' '.join(output))\n",
    "\n",
    "        except KeyError:\n",
    "            print(\"Error: Encountered unknown word.\")\n",
    "            "
   ]
  },
  {
   "cell_type": "markdown",
   "metadata": {},
   "source": [
    "# Beam Search Decode"
   ]
  },
  {
   "cell_type": "code",
   "execution_count": 32,
   "metadata": {
    "collapsed": true
   },
   "outputs": [],
   "source": [
    "def sentenceFromIdx(idx,voc):\n",
    "    return ' '.join([voc.index2word[i] for i in idx])\n",
    "\n",
    "class BeamSearchNode(object):\n",
    "    def __init__(self, hiddenstate, previousNode, decoder_input, \n",
    "                 logProb, length,static_emotion,emotions_emb,\n",
    "                 last_rnn_output,context_input,g):\n",
    "        '''\n",
    "        :param hiddenstate:\n",
    "        :param previousNode:\n",
    "        :param wordId:\n",
    "        :param logProb:\n",
    "        :param length:\n",
    "        '''\n",
    "        \n",
    "        self.hidden_state = hiddenstate\n",
    "        self.prevNode = previousNode\n",
    "        self.decoder_input = decoder_input\n",
    "        self.logp = logProb\n",
    "        self.leng = length\n",
    "        self.emotions = emotions_emb\n",
    "        self.rnn_output = last_rnn_output\n",
    "        self.context_input = context_input\n",
    "        self.alpha = g\n",
    "        self.static_emotion = static_emotion\n",
    "    def eval(self, alpha=1.0):\n",
    "        reward = 0\n",
    "        # Add here a function for shaping a reward\n",
    "        return self.logp / float(self.leng - 1 + 1e-6) + alpha * reward\n"
   ]
  },
  {
   "cell_type": "code",
   "execution_count": 34,
   "metadata": {
    "scrolled": true
   },
   "outputs": [
    {
     "name": "stdout",
     "output_type": "stream",
     "text": [
      "Post(neutral):where are you going\n",
      "the the the the the the the . . EOS 1.1037953915228684\n",
      "the the the the the the the . EOS EOS 2.5624886674447676\n",
      "the the the the the the the EOS . EOS 2.7064628114081577\n",
      "the the the the the the . . . EOS 2.7446666231539596\n",
      "the the the the the the the . . . 2.8189647078413107\n",
      "the the the the the a the . . EOS 2.8473754399037636\n",
      "you the the the the the the . . EOS 3.425047572022413\n",
      "the the the the a the the . . EOS 3.4920875091778965\n",
      "i the the the the the the . . EOS 3.9800404130220253\n",
      "the the the the the the the . EOS . 3.9995666195232458\n",
      "Post(joy):where are you going\n",
      "the the the the the the the . . EOS 1.4628921438828266\n",
      "the the the the the the the . . . 2.9732142091434635\n",
      "the the the the the the the EOS . EOS 3.017827056547841\n",
      "the the the the the the the . EOS EOS 3.034104193468518\n",
      "the the the the the the a . . EOS 3.0631483838433216\n",
      "the the the the the a the . . EOS 3.1357313278334065\n",
      "you the the the the the the . . EOS 3.751879935248847\n",
      "the the the the of the the . . EOS 3.817473410112358\n",
      "a the the the the the the . . EOS 4.104971626751846\n",
      "i the the the the the the . . EOS 4.264011119682592\n",
      "Post(anger):where are you going\n"
     ]
    },
    {
     "ename": "KeyboardInterrupt",
     "evalue": "",
     "output_type": "error",
     "traceback": [
      "\u001b[0;31m---------------------------------------------------------------------------\u001b[0m",
      "\u001b[0;31mFileNotFoundError\u001b[0m                         Traceback (most recent call last)",
      "\u001b[0;32m~/anaconda3/lib/python3.6/linecache.py\u001b[0m in \u001b[0;36mcheckcache\u001b[0;34m(filename)\u001b[0m\n\u001b[1;32m     73\u001b[0m         \u001b[0;32mtry\u001b[0m\u001b[0;34m:\u001b[0m\u001b[0;34m\u001b[0m\u001b[0m\n\u001b[0;32m---> 74\u001b[0;31m             \u001b[0mstat\u001b[0m \u001b[0;34m=\u001b[0m \u001b[0mos\u001b[0m\u001b[0;34m.\u001b[0m\u001b[0mstat\u001b[0m\u001b[0;34m(\u001b[0m\u001b[0mfullname\u001b[0m\u001b[0;34m)\u001b[0m\u001b[0;34m\u001b[0m\u001b[0m\n\u001b[0m\u001b[1;32m     75\u001b[0m         \u001b[0;32mexcept\u001b[0m \u001b[0mOSError\u001b[0m\u001b[0;34m:\u001b[0m\u001b[0;34m\u001b[0m\u001b[0m\n",
      "\u001b[0;31mFileNotFoundError\u001b[0m: [Errno 2] No such file or directory: '<ipython-input-34-7c1d15e1d89e>'",
      "\nDuring handling of the above exception, another exception occurred:\n",
      "\u001b[0;31mKeyboardInterrupt\u001b[0m                         Traceback (most recent call last)",
      "\u001b[0;32m<ipython-input-34-7c1d15e1d89e>\u001b[0m in \u001b[0;36m<module>\u001b[0;34m()\u001b[0m\n\u001b[1;32m     55\u001b[0m             decoder_output, decoder_hidden,emotions,context_input,rnn_output,g = decoder(\n\u001b[1;32m     56\u001b[0m                 \u001b[0mnode\u001b[0m\u001b[0;34m.\u001b[0m\u001b[0mdecoder_input\u001b[0m\u001b[0;34m,\u001b[0m\u001b[0mnode\u001b[0m\u001b[0;34m.\u001b[0m\u001b[0mstatic_emotion\u001b[0m\u001b[0;34m,\u001b[0m\u001b[0mnode\u001b[0m\u001b[0;34m.\u001b[0m\u001b[0memotions\u001b[0m\u001b[0;34m,\u001b[0m \u001b[0mnode\u001b[0m\u001b[0;34m.\u001b[0m\u001b[0mhidden_state\u001b[0m\u001b[0;34m,\u001b[0m\u001b[0;34m\u001b[0m\u001b[0m\n\u001b[0;32m---> 57\u001b[0;31m                 \u001b[0mnode\u001b[0m\u001b[0;34m.\u001b[0m\u001b[0mcontext_input\u001b[0m\u001b[0;34m,\u001b[0m\u001b[0mencoder_outputs\u001b[0m\u001b[0;34m,\u001b[0m\u001b[0mnode\u001b[0m\u001b[0;34m.\u001b[0m\u001b[0mrnn_output\u001b[0m\u001b[0;34m\u001b[0m\u001b[0m\n\u001b[0m\u001b[1;32m     58\u001b[0m             )\n\u001b[1;32m     59\u001b[0m             \u001b[0;31m#print(g)\u001b[0m\u001b[0;34m\u001b[0m\u001b[0;34m\u001b[0m\u001b[0m\n",
      "\u001b[0;32m~/anaconda3/lib/python3.6/site-packages/torch/nn/modules/module.py\u001b[0m in \u001b[0;36m__call__\u001b[0;34m(self, *input, **kwargs)\u001b[0m\n\u001b[1;32m    487\u001b[0m             \u001b[0mresult\u001b[0m \u001b[0;34m=\u001b[0m \u001b[0mself\u001b[0m\u001b[0;34m.\u001b[0m\u001b[0m_slow_forward\u001b[0m\u001b[0;34m(\u001b[0m\u001b[0;34m*\u001b[0m\u001b[0minput\u001b[0m\u001b[0;34m,\u001b[0m \u001b[0;34m**\u001b[0m\u001b[0mkwargs\u001b[0m\u001b[0;34m)\u001b[0m\u001b[0;34m\u001b[0m\u001b[0m\n\u001b[1;32m    488\u001b[0m         \u001b[0;32melse\u001b[0m\u001b[0;34m:\u001b[0m\u001b[0;34m\u001b[0m\u001b[0m\n\u001b[0;32m--> 489\u001b[0;31m             \u001b[0mresult\u001b[0m \u001b[0;34m=\u001b[0m \u001b[0mself\u001b[0m\u001b[0;34m.\u001b[0m\u001b[0mforward\u001b[0m\u001b[0;34m(\u001b[0m\u001b[0;34m*\u001b[0m\u001b[0minput\u001b[0m\u001b[0;34m,\u001b[0m \u001b[0;34m**\u001b[0m\u001b[0mkwargs\u001b[0m\u001b[0;34m)\u001b[0m\u001b[0;34m\u001b[0m\u001b[0m\n\u001b[0m\u001b[1;32m    490\u001b[0m         \u001b[0;32mfor\u001b[0m \u001b[0mhook\u001b[0m \u001b[0;32min\u001b[0m \u001b[0mself\u001b[0m\u001b[0;34m.\u001b[0m\u001b[0m_forward_hooks\u001b[0m\u001b[0;34m.\u001b[0m\u001b[0mvalues\u001b[0m\u001b[0;34m(\u001b[0m\u001b[0;34m)\u001b[0m\u001b[0;34m:\u001b[0m\u001b[0;34m\u001b[0m\u001b[0m\n\u001b[1;32m    491\u001b[0m             \u001b[0mhook_result\u001b[0m \u001b[0;34m=\u001b[0m \u001b[0mhook\u001b[0m\u001b[0;34m(\u001b[0m\u001b[0mself\u001b[0m\u001b[0;34m,\u001b[0m \u001b[0minput\u001b[0m\u001b[0;34m,\u001b[0m \u001b[0mresult\u001b[0m\u001b[0;34m)\u001b[0m\u001b[0;34m\u001b[0m\u001b[0m\n",
      "\u001b[0;32m<ipython-input-11-f67c0d8486e0>\u001b[0m in \u001b[0;36mforward\u001b[0;34m(self, input_step, input_static_emotion, input_step_emotion, last_hidden, input_context, encoder_outputs, last_rnn_output)\u001b[0m\n\u001b[1;32m     48\u001b[0m                                                                      \u001b[0minput_step_emotion\u001b[0m\u001b[0;34m,\u001b[0m\u001b[0;34m\u001b[0m\u001b[0m\n\u001b[1;32m     49\u001b[0m                                                                      \u001b[0minput_context\u001b[0m\u001b[0;34m,\u001b[0m\u001b[0mlast_hidden\u001b[0m\u001b[0;34m,\u001b[0m\u001b[0;34m\u001b[0m\u001b[0m\n\u001b[0;32m---> 50\u001b[0;31m                                                                      encoder_outputs)\n\u001b[0m\u001b[1;32m     51\u001b[0m         \u001b[0;31m# Concatenate weighted context vector and GRU output using Luong eq. 5\u001b[0m\u001b[0;34m\u001b[0m\u001b[0;34m\u001b[0m\u001b[0m\n\u001b[1;32m     52\u001b[0m         \u001b[0mconcat_input\u001b[0m \u001b[0;34m=\u001b[0m \u001b[0mtorch\u001b[0m\u001b[0;34m.\u001b[0m\u001b[0mcat\u001b[0m\u001b[0;34m(\u001b[0m\u001b[0;34m(\u001b[0m\u001b[0mrnn_output\u001b[0m\u001b[0;34m,\u001b[0m \u001b[0mcontext\u001b[0m\u001b[0;34m)\u001b[0m\u001b[0;34m,\u001b[0m \u001b[0;34m-\u001b[0m\u001b[0;36m1\u001b[0m\u001b[0;34m)\u001b[0m\u001b[0;34m\u001b[0m\u001b[0m\n",
      "\u001b[0;32m~/anaconda3/lib/python3.6/site-packages/torch/nn/modules/module.py\u001b[0m in \u001b[0;36m__call__\u001b[0;34m(self, *input, **kwargs)\u001b[0m\n\u001b[1;32m    487\u001b[0m             \u001b[0mresult\u001b[0m \u001b[0;34m=\u001b[0m \u001b[0mself\u001b[0m\u001b[0;34m.\u001b[0m\u001b[0m_slow_forward\u001b[0m\u001b[0;34m(\u001b[0m\u001b[0;34m*\u001b[0m\u001b[0minput\u001b[0m\u001b[0;34m,\u001b[0m \u001b[0;34m**\u001b[0m\u001b[0mkwargs\u001b[0m\u001b[0;34m)\u001b[0m\u001b[0;34m\u001b[0m\u001b[0m\n\u001b[1;32m    488\u001b[0m         \u001b[0;32melse\u001b[0m\u001b[0;34m:\u001b[0m\u001b[0;34m\u001b[0m\u001b[0m\n\u001b[0;32m--> 489\u001b[0;31m             \u001b[0mresult\u001b[0m \u001b[0;34m=\u001b[0m \u001b[0mself\u001b[0m\u001b[0;34m.\u001b[0m\u001b[0mforward\u001b[0m\u001b[0;34m(\u001b[0m\u001b[0;34m*\u001b[0m\u001b[0minput\u001b[0m\u001b[0;34m,\u001b[0m \u001b[0;34m**\u001b[0m\u001b[0mkwargs\u001b[0m\u001b[0;34m)\u001b[0m\u001b[0;34m\u001b[0m\u001b[0m\n\u001b[0m\u001b[1;32m    490\u001b[0m         \u001b[0;32mfor\u001b[0m \u001b[0mhook\u001b[0m \u001b[0;32min\u001b[0m \u001b[0mself\u001b[0m\u001b[0;34m.\u001b[0m\u001b[0m_forward_hooks\u001b[0m\u001b[0;34m.\u001b[0m\u001b[0mvalues\u001b[0m\u001b[0;34m(\u001b[0m\u001b[0;34m)\u001b[0m\u001b[0;34m:\u001b[0m\u001b[0;34m\u001b[0m\u001b[0m\n\u001b[1;32m    491\u001b[0m             \u001b[0mhook_result\u001b[0m \u001b[0;34m=\u001b[0m \u001b[0mhook\u001b[0m\u001b[0;34m(\u001b[0m\u001b[0mself\u001b[0m\u001b[0;34m,\u001b[0m \u001b[0minput\u001b[0m\u001b[0;34m,\u001b[0m \u001b[0mresult\u001b[0m\u001b[0;34m)\u001b[0m\u001b[0;34m\u001b[0m\u001b[0m\n",
      "\u001b[0;32m<ipython-input-9-9e02a371401a>\u001b[0m in \u001b[0;36mforward\u001b[0;34m(self, word_input, decoder_output, static_emotion_input, emotion_input, context_input, last_hidden, memory)\u001b[0m\n\u001b[1;32m     55\u001b[0m         \u001b[0;31m# update states\u001b[0m\u001b[0;34m\u001b[0m\u001b[0;34m\u001b[0m\u001b[0m\n\u001b[1;32m     56\u001b[0m         \u001b[0;31m# write to emotion embedding\u001b[0m\u001b[0;34m\u001b[0m\u001b[0;34m\u001b[0m\u001b[0m\n\u001b[0;32m---> 57\u001b[0;31m         \u001b[0mnew_M_emo\u001b[0m \u001b[0;34m=\u001b[0m \u001b[0mself\u001b[0m\u001b[0;34m.\u001b[0m\u001b[0m_write_internal_memory\u001b[0m\u001b[0;34m(\u001b[0m\u001b[0memotion_input\u001b[0m\u001b[0;34m,\u001b[0m\u001b[0mrnn_output\u001b[0m\u001b[0;34m)\u001b[0m \u001b[0;31m# new emotion_input\u001b[0m\u001b[0;34m\u001b[0m\u001b[0m\n\u001b[0m\u001b[1;32m     58\u001b[0m         \u001b[0mnew_context\u001b[0m \u001b[0;34m=\u001b[0m \u001b[0mself\u001b[0m\u001b[0;34m.\u001b[0m\u001b[0m_compute_context\u001b[0m\u001b[0;34m(\u001b[0m\u001b[0mrnn_output\u001b[0m\u001b[0;34m,\u001b[0m\u001b[0mmemory\u001b[0m\u001b[0;34m)\u001b[0m\u001b[0;34m\u001b[0m\u001b[0m\n\u001b[1;32m     59\u001b[0m         \u001b[0;32mreturn\u001b[0m \u001b[0mrnn_output\u001b[0m\u001b[0;34m,\u001b[0m \u001b[0mhidden\u001b[0m\u001b[0;34m,\u001b[0m \u001b[0mnew_M_emo\u001b[0m\u001b[0;34m,\u001b[0m \u001b[0mnew_context\u001b[0m\u001b[0;34m\u001b[0m\u001b[0m\n",
      "\u001b[0;32m<ipython-input-9-9e02a371401a>\u001b[0m in \u001b[0;36m_write_internal_memory\u001b[0;34m(self, emotion_input, rnn_output)\u001b[0m\n\u001b[1;32m     91\u001b[0m         \"\"\"\n\u001b[1;32m     92\u001b[0m         \u001b[0mM_write\u001b[0m \u001b[0;34m=\u001b[0m \u001b[0mtorch\u001b[0m\u001b[0;34m.\u001b[0m\u001b[0msigmoid\u001b[0m\u001b[0;34m(\u001b[0m\u001b[0mself\u001b[0m\u001b[0;34m.\u001b[0m\u001b[0mwrite_g\u001b[0m\u001b[0;34m(\u001b[0m\u001b[0mrnn_output\u001b[0m\u001b[0;34m)\u001b[0m\u001b[0;34m)\u001b[0m\u001b[0;34m\u001b[0m\u001b[0m\n\u001b[0;32m---> 93\u001b[0;31m         \u001b[0;32mreturn\u001b[0m \u001b[0memotion_input\u001b[0m \u001b[0;34m*\u001b[0m \u001b[0mM_write\u001b[0m\u001b[0;34m\u001b[0m\u001b[0m\n\u001b[0m\u001b[1;32m     94\u001b[0m \u001b[0;34m\u001b[0m\u001b[0m\n\u001b[1;32m     95\u001b[0m \u001b[0;34m\u001b[0m\u001b[0m\n",
      "\u001b[0;32m~/anaconda3/lib/python3.6/traceback.py\u001b[0m in \u001b[0;36mformat_stack\u001b[0;34m(f, limit)\u001b[0m\n\u001b[1;32m    191\u001b[0m     \u001b[0;32mif\u001b[0m \u001b[0mf\u001b[0m \u001b[0;32mis\u001b[0m \u001b[0;32mNone\u001b[0m\u001b[0;34m:\u001b[0m\u001b[0;34m\u001b[0m\u001b[0m\n\u001b[1;32m    192\u001b[0m         \u001b[0mf\u001b[0m \u001b[0;34m=\u001b[0m \u001b[0msys\u001b[0m\u001b[0;34m.\u001b[0m\u001b[0m_getframe\u001b[0m\u001b[0;34m(\u001b[0m\u001b[0;34m)\u001b[0m\u001b[0;34m.\u001b[0m\u001b[0mf_back\u001b[0m\u001b[0;34m\u001b[0m\u001b[0m\n\u001b[0;32m--> 193\u001b[0;31m     \u001b[0;32mreturn\u001b[0m \u001b[0mformat_list\u001b[0m\u001b[0;34m(\u001b[0m\u001b[0mextract_stack\u001b[0m\u001b[0;34m(\u001b[0m\u001b[0mf\u001b[0m\u001b[0;34m,\u001b[0m \u001b[0mlimit\u001b[0m\u001b[0;34m=\u001b[0m\u001b[0mlimit\u001b[0m\u001b[0;34m)\u001b[0m\u001b[0;34m)\u001b[0m\u001b[0;34m\u001b[0m\u001b[0m\n\u001b[0m\u001b[1;32m    194\u001b[0m \u001b[0;34m\u001b[0m\u001b[0m\n\u001b[1;32m    195\u001b[0m \u001b[0;34m\u001b[0m\u001b[0m\n",
      "\u001b[0;32m~/anaconda3/lib/python3.6/traceback.py\u001b[0m in \u001b[0;36mextract_stack\u001b[0;34m(f, limit)\u001b[0m\n\u001b[1;32m    205\u001b[0m     \u001b[0;32mif\u001b[0m \u001b[0mf\u001b[0m \u001b[0;32mis\u001b[0m \u001b[0;32mNone\u001b[0m\u001b[0;34m:\u001b[0m\u001b[0;34m\u001b[0m\u001b[0m\n\u001b[1;32m    206\u001b[0m         \u001b[0mf\u001b[0m \u001b[0;34m=\u001b[0m \u001b[0msys\u001b[0m\u001b[0;34m.\u001b[0m\u001b[0m_getframe\u001b[0m\u001b[0;34m(\u001b[0m\u001b[0;34m)\u001b[0m\u001b[0;34m.\u001b[0m\u001b[0mf_back\u001b[0m\u001b[0;34m\u001b[0m\u001b[0m\n\u001b[0;32m--> 207\u001b[0;31m     \u001b[0mstack\u001b[0m \u001b[0;34m=\u001b[0m \u001b[0mStackSummary\u001b[0m\u001b[0;34m.\u001b[0m\u001b[0mextract\u001b[0m\u001b[0;34m(\u001b[0m\u001b[0mwalk_stack\u001b[0m\u001b[0;34m(\u001b[0m\u001b[0mf\u001b[0m\u001b[0;34m)\u001b[0m\u001b[0;34m,\u001b[0m \u001b[0mlimit\u001b[0m\u001b[0;34m=\u001b[0m\u001b[0mlimit\u001b[0m\u001b[0;34m)\u001b[0m\u001b[0;34m\u001b[0m\u001b[0m\n\u001b[0m\u001b[1;32m    208\u001b[0m     \u001b[0mstack\u001b[0m\u001b[0;34m.\u001b[0m\u001b[0mreverse\u001b[0m\u001b[0;34m(\u001b[0m\u001b[0;34m)\u001b[0m\u001b[0;34m\u001b[0m\u001b[0m\n\u001b[1;32m    209\u001b[0m     \u001b[0;32mreturn\u001b[0m \u001b[0mstack\u001b[0m\u001b[0;34m\u001b[0m\u001b[0m\n",
      "\u001b[0;32m~/anaconda3/lib/python3.6/traceback.py\u001b[0m in \u001b[0;36mextract\u001b[0;34m(klass, frame_gen, limit, lookup_lines, capture_locals)\u001b[0m\n\u001b[1;32m    352\u001b[0m                 filename, lineno, name, lookup_line=False, locals=f_locals))\n\u001b[1;32m    353\u001b[0m         \u001b[0;32mfor\u001b[0m \u001b[0mfilename\u001b[0m \u001b[0;32min\u001b[0m \u001b[0mfnames\u001b[0m\u001b[0;34m:\u001b[0m\u001b[0;34m\u001b[0m\u001b[0m\n\u001b[0;32m--> 354\u001b[0;31m             \u001b[0mlinecache\u001b[0m\u001b[0;34m.\u001b[0m\u001b[0mcheckcache\u001b[0m\u001b[0;34m(\u001b[0m\u001b[0mfilename\u001b[0m\u001b[0;34m)\u001b[0m\u001b[0;34m\u001b[0m\u001b[0m\n\u001b[0m\u001b[1;32m    355\u001b[0m         \u001b[0;31m# If immediate lookup was desired, trigger lookups now.\u001b[0m\u001b[0;34m\u001b[0m\u001b[0;34m\u001b[0m\u001b[0m\n\u001b[1;32m    356\u001b[0m         \u001b[0;32mif\u001b[0m \u001b[0mlookup_lines\u001b[0m\u001b[0;34m:\u001b[0m\u001b[0;34m\u001b[0m\u001b[0m\n",
      "\u001b[0;32m~/anaconda3/lib/python3.6/site-packages/IPython/core/compilerop.py\u001b[0m in \u001b[0;36mcheck_linecache_ipython\u001b[0;34m(*args)\u001b[0m\n\u001b[1;32m    138\u001b[0m     \"\"\"\n\u001b[1;32m    139\u001b[0m     \u001b[0;31m# First call the orignal checkcache as intended\u001b[0m\u001b[0;34m\u001b[0m\u001b[0;34m\u001b[0m\u001b[0m\n\u001b[0;32m--> 140\u001b[0;31m     \u001b[0mlinecache\u001b[0m\u001b[0;34m.\u001b[0m\u001b[0m_checkcache_ori\u001b[0m\u001b[0;34m(\u001b[0m\u001b[0;34m*\u001b[0m\u001b[0margs\u001b[0m\u001b[0;34m)\u001b[0m\u001b[0;34m\u001b[0m\u001b[0m\n\u001b[0m\u001b[1;32m    141\u001b[0m     \u001b[0;31m# Then, update back the cache with our data, so that tracebacks related\u001b[0m\u001b[0;34m\u001b[0m\u001b[0;34m\u001b[0m\u001b[0m\n\u001b[1;32m    142\u001b[0m     \u001b[0;31m# to our compiled codes can be produced.\u001b[0m\u001b[0;34m\u001b[0m\u001b[0;34m\u001b[0m\u001b[0m\n",
      "\u001b[0;32m~/anaconda3/lib/python3.6/linecache.py\u001b[0m in \u001b[0;36mcheckcache\u001b[0;34m(filename)\u001b[0m\n\u001b[1;32m     72\u001b[0m             \u001b[0;32mcontinue\u001b[0m   \u001b[0;31m# no-op for files loaded via a __loader__\u001b[0m\u001b[0;34m\u001b[0m\u001b[0m\n\u001b[1;32m     73\u001b[0m         \u001b[0;32mtry\u001b[0m\u001b[0;34m:\u001b[0m\u001b[0;34m\u001b[0m\u001b[0m\n\u001b[0;32m---> 74\u001b[0;31m             \u001b[0mstat\u001b[0m \u001b[0;34m=\u001b[0m \u001b[0mos\u001b[0m\u001b[0;34m.\u001b[0m\u001b[0mstat\u001b[0m\u001b[0;34m(\u001b[0m\u001b[0mfullname\u001b[0m\u001b[0;34m)\u001b[0m\u001b[0;34m\u001b[0m\u001b[0m\n\u001b[0m\u001b[1;32m     75\u001b[0m         \u001b[0;32mexcept\u001b[0m \u001b[0mOSError\u001b[0m\u001b[0;34m:\u001b[0m\u001b[0;34m\u001b[0m\u001b[0m\n\u001b[1;32m     76\u001b[0m             \u001b[0;32mdel\u001b[0m \u001b[0mcache\u001b[0m\u001b[0;34m[\u001b[0m\u001b[0mfilename\u001b[0m\u001b[0;34m]\u001b[0m\u001b[0;34m\u001b[0m\u001b[0m\n",
      "\u001b[0;31mKeyboardInterrupt\u001b[0m: "
     ]
    }
   ],
   "source": [
    "for emotions in [0,1,2,3,4]:\n",
    "    diversity_penality = True\n",
    "    emotions = emotions\n",
    "    sentence = 'where are you going'\n",
    "    print('Post({}):{}'.format(emo_dict[emotions],sentence))\n",
    "    emotions = int(emotions)\n",
    "    emotions = torch.LongTensor([emotions])\n",
    "    ### Format input sentence as a batch\n",
    "    # words -> indexes\n",
    "    indexes_batch = [indexesFromSentence(voc, sentence)]\n",
    "    # Create lengths tensor\n",
    "    lengths = torch.tensor([len(indexes) for indexes in indexes_batch])\n",
    "    # Transpose dimensions of batch to match models' expectations\n",
    "    input_batch = torch.LongTensor(indexes_batch).transpose(0, 1)\n",
    "    # Use appropriate device\n",
    "    input_batch = input_batch.to(device)\n",
    "    lengths = lengths.to(device)\n",
    "    emotions = emotions.to(device)\n",
    "    # Forward input through encoder model\n",
    "    encoder_outputs, encoder_hidden = encoder(input_batch, lengths)\n",
    "    # Prepare encoder's final hidden layer to be first hidden input to the decoder\n",
    "    decoder_hidden = encoder_hidden[:decoder.n_layers]\n",
    "    # Initialize decoder input with SOS_token\n",
    "    decoder_input = torch.ones((1,1), device=device, dtype=torch.long) * SOS_token\n",
    "    # Set initial context value,last_rnn_output, internal_memory\n",
    "    context_input = torch.zeros(1,hidden_size,dtype=torch.float)\n",
    "    context_input = context_input.to(decoder.device)\n",
    "    rnn_output = None\n",
    "    #\n",
    "    static_emotion = emotions\n",
    "    static_emotion = static_emotion.to(device)\n",
    "    node = BeamSearchNode(hiddenstate=decoder_hidden,decoder_input=decoder_input,\n",
    "                           context_input=context_input,static_emotion = static_emotion,\n",
    "                          emotions_emb=emotions,\n",
    "                           length=1,logProb=0,last_rnn_output = rnn_output,\n",
    "                           previousNode=None,g = 0\n",
    "                          )\n",
    "    sent_leng = 0\n",
    "    # beam search\n",
    "    K = 10\n",
    "    # Iteratively decode one word token at a time\n",
    "    # Forward pass through decoder\n",
    "    nodes = PriorityQueue(maxsize=K)\n",
    "    nodes.put((0,node))\n",
    "    # diversity rate\n",
    "    gamma = 10\n",
    "    # choice\n",
    "    g_losses = []\n",
    "    for i in range(10):\n",
    "        #print('Decoder {} word'.format(i + 1))\n",
    "        choices = []\n",
    "        while not nodes.empty():\n",
    "            score,node = nodes.get()\n",
    "            #print('Last word at position {}'.format(node.leng))\n",
    "            decoder_output, decoder_hidden,emotions,context_input,rnn_output,g = decoder(\n",
    "                node.decoder_input,node.static_emotion,node.emotions, node.hidden_state,\n",
    "                node.context_input,encoder_outputs,node.rnn_output\n",
    "            )\n",
    "            #print(g)\n",
    "            # Obtain most likely word token and its softmax score\n",
    "            # decoder_output = decoder_output.unsqueeze(0)\n",
    "            decoder_scores, decoder_input = torch.topk(decoder_output,k= K, dim=1)\n",
    "            decoder_scores = torch.log(decoder_scores)\n",
    "            if diversity_penality and i >= 1:\n",
    "                # apply based on rank\n",
    "                penalties = torch.pow(torch.arange(0,K,dtype=torch.float,device=device),3) * gamma\n",
    "                # apply penalties on the output\n",
    "                decoder_scores = decoder_scores - penalties\n",
    "            token_choices = [decoder_input[0,i].item() for i in range(K)] \n",
    "            token_scores = [decoder_scores[0,i].item() for i in range(K)] \n",
    "            #print(voc.index2word[token_choices[0]])\n",
    "            # for each candidate token, compute loss\n",
    "            for token,decoder_score in zip(token_choices,token_scores):\n",
    "                next_decoder_input = torch.ones((1,1),dtype=torch.long,device=device) * token\n",
    "                #current_score = score + decoder_score\n",
    "                next_node = BeamSearchNode(decoder_hidden,node,next_decoder_input,\n",
    "                                      decoder_score,node.leng + 1,static_emotion,emotions,rnn_output,context_input,g)\n",
    "                #print('This is {} words'.format(next_node.leng))\n",
    "                #current_score = (score * node.leng - next_node.eval()) / next_node.leng\n",
    "                current_score = score - next_node.eval()\n",
    "                choices.append((current_score,next_node))\n",
    "        choices = sorted(choices,key=lambda x:x[0])\n",
    "        # choices = choices[:K]\n",
    "        for choice in choices:\n",
    "            if not nodes.full():\n",
    "                nodes.put(choice)\n",
    "\n",
    "    #print(nodes.qsize())\n",
    "    #print('Decode')        \n",
    "    # decoder    \n",
    "    sentences = []\n",
    "    i = 0\n",
    "    while not nodes.empty():\n",
    "        #print('Decode {}:'.format(i))\n",
    "        i += 1 \n",
    "        sentence = []\n",
    "        score,node = nodes.get()\n",
    "        while(node.prevNode is not None):\n",
    "            sentence.append(node.decoder_input.item())\n",
    "            node = node.prevNode\n",
    "        sentence = sentence[::-1]\n",
    "        #print(sentence,score)\n",
    "        sentences.append((score,sentence))\n",
    "    #print(sentences)\n",
    "    for sent in sentences[:40]:\n",
    "        print(sentenceFromIdx(sent[1],voc),sent[0])  \n",
    "    \n"
   ]
  },
  {
   "cell_type": "code",
   "execution_count": 47,
   "metadata": {},
   "outputs": [
    {
     "name": "stdout",
     "output_type": "stream",
     "text": [
      "Post(joy):do you love me ?\n"
     ]
    }
   ],
   "source": [
    "diversity_penality = True\n",
    "emotions = 1\n",
    "sentence = 'do you love me ?'\n",
    "print('Post({}):{}'.format(emo_dict[emotions],sentence))\n",
    "emotions = int(emotions)\n",
    "emotions = torch.LongTensor([emotions])\n",
    "### Format input sentence as a batch\n",
    "# words -> indexes\n",
    "indexes_batch = [indexesFromSentence(voc, sentence)]\n",
    "# Create lengths tensor\n",
    "lengths = torch.tensor([len(indexes) for indexes in indexes_batch])\n",
    "# Transpose dimensions of batch to match models' expectations\n",
    "input_batch = torch.LongTensor(indexes_batch).transpose(0, 1)\n",
    "# Use appropriate device\n",
    "input_batch = input_batch.to(device)\n",
    "lengths = lengths.to(device)\n",
    "emotions = emotions.to(device)\n",
    "# Forward input through encoder model\n",
    "encoder_outputs, encoder_hidden = encoder(input_batch, lengths)\n",
    "# Prepare encoder's final hidden layer to be first hidden input to the decoder\n",
    "decoder_hidden = encoder_hidden[:decoder.n_layers]\n",
    "# Initialize decoder input with SOS_token\n",
    "decoder_input = torch.ones((1,1), device=device, dtype=torch.long) * SOS_token\n",
    "# Set initial context value,last_rnn_output, internal_memory\n",
    "context_input = torch.zeros(1,hidden_size,dtype=torch.float)\n",
    "context_input = context_input.to(decoder.device)\n",
    "rnn_output = None\n",
    "\n",
    "node = BeamSearchNode(hiddenstate=decoder_hidden,decoder_input=decoder_input,\n",
    "                           context_input=context_input,static_emotion = static_emotion,\n",
    "                          emotions_emb=emotions,\n",
    "                           length=1,logProb=0,last_rnn_output = rnn_output,\n",
    "                           previousNode=None,g = 0\n",
    "                          )\n",
    "sent_leng = 0\n",
    "# beam search\n",
    "K = 10\n",
    "# Iteratively decode one word token at a time\n",
    "# Forward pass through decoder\n",
    "nodes = PriorityQueue(maxsize=K)\n",
    "nodes.put((0,node))\n",
    "# diversity rate\n",
    "gamma = 2\n",
    "\n",
    "choices = []"
   ]
  },
  {
   "cell_type": "code",
   "execution_count": 51,
   "metadata": {},
   "outputs": [],
   "source": [
    "diversity_penality = False\n",
    "score,node = nodes.get()\n",
    "#print('Last word at position {}'.format(node.leng))\n",
    "decoder_output, decoder_hidden,emotions,context_input,rnn_output,g = decoder(\n",
    "                node.decoder_input,node.static_emotion,node.emotions, node.hidden_state,\n",
    "                node.context_input,encoder_outputs,node.rnn_output\n",
    "            )\n",
    "# Obtain most likely word token and its softmax score\n",
    "#decoder_output = decoder_output.unsqueeze(0)\n",
    "decoder_scores, decoder_input = torch.topk(decoder_output,k= K, dim=1)\n",
    "decoder_scores = torch.log(decoder_scores)\n",
    "if diversity_penality:\n",
    "    # apply based on rank\n",
    "    penalties = torch.arange(0,K,dtype=torch.float,device=device) * gamma\n",
    "    # apply penalties on the output\n",
    "    decoder_scores = decoder_scores - penalties\n",
    "token_choices = [decoder_input[0,i].item() for i in range(K)] \n",
    "token_scores = [decoder_scores[0,i].item() for i in range(K)] \n",
    "# for each candidate token, compute loss\n",
    "choices=[]\n",
    "for token,decoder_score in zip(token_choices,token_scores):\n",
    "    next_decoder_input = torch.ones((1,1),dtype=torch.long,device=device) * token\n",
    "    next_node = BeamSearchNode(decoder_hidden,node,next_decoder_input,\n",
    "                              decoder_score,node.leng + 1,static_emotion,emotions,rnn_output,context_input,g)\n",
    "    #print('This is {} words'.format(next_node.leng))\n",
    "    current_score = score - next_node.eval()\n",
    "    choices.append((current_score,next_node))\n",
    "\n",
    "choices = sorted(choices,key=lambda x:x[0])\n"
   ]
  },
  {
   "cell_type": "code",
   "execution_count": 53,
   "metadata": {
    "collapsed": true
   },
   "outputs": [],
   "source": [
    "nodes.put(choices[0])\n"
   ]
  },
  {
   "cell_type": "code",
   "execution_count": null,
   "metadata": {
    "collapsed": true
   },
   "outputs": [],
   "source": [
    "scroe,node = nodes.get()\n"
   ]
  },
  {
   "cell_type": "code",
   "execution_count": 52,
   "metadata": {},
   "outputs": [
    {
     "name": "stdout",
     "output_type": "stream",
     "text": [
      "m 3.0404552355911827\n",
      "? 3.8991549028485575\n",
      "fond 3.9902292048074393\n",
      "of 4.014843884234414\n",
      "son 4.453438840680038\n",
      "course 4.470008566014865\n",
      ". 4.5616976299725795\n",
      "i 4.776220838140663\n",
      "d 5.140949583388595\n",
      "couldn 5.592683900368116\n"
     ]
    }
   ],
   "source": [
    "for each in choices:\n",
    "    print(voc.index2word[each[1].decoder_input.item()],each[0])\n",
    "    \n",
    "    "
   ]
  },
  {
   "cell_type": "markdown",
   "metadata": {},
   "source": [
    "# Chat with bot"
   ]
  },
  {
   "cell_type": "code",
   "execution_count": 29,
   "metadata": {
    "ExecuteTime": {
     "end_time": "2019-04-03T00:20:45.603674Z",
     "start_time": "2019-04-03T00:20:12.276Z"
    }
   },
   "outputs": [
    {
     "name": "stdout",
     "output_type": "stream",
     "text": [
      "> hi .\n",
      "Bot(neutral): all ? .\n",
      "Bot(joy): ross . .\n",
      "Bot(anger): ross !\n",
      "Bot(sadness): ross ! .\n",
      "Bot(fear): joey ? .\n",
      "> how are you doing ?\n",
      "Bot(neutral): great doesn great . .\n",
      "Bot(joy): great . great . . you\n",
      "Bot(anger): great . t .\n",
      "Bot(sadness): great . t . . for .\n",
      "Bot(fear): great . . . . .\n",
      "> where are you from ?\n",
      "Bot(neutral): i am from the . you .\n",
      "Bot(joy): i am from buy . you you .\n",
      "Bot(anger): i am t buy . the .\n",
      "Bot(sadness): i am t a . a .\n",
      "Bot(fear): i m\n",
      "> what the meaning of life \n",
      "Error: Encountered unknown word.\n",
      "> hi\n",
      "Bot(neutral): ross ? ? ? ? ? ?\n",
      "Bot(joy): ross ! .\n",
      "Bot(anger): ross !\n",
      "Bot(sadness): ross ! mom\n",
      "Bot(fear): ross ? . ? ? ? ? ? ?\n"
     ]
    },
    {
     "ename": "KeyboardInterrupt",
     "evalue": "",
     "output_type": "error",
     "traceback": [
      "\u001b[0;31m---------------------------------------------------------------------------\u001b[0m",
      "\u001b[0;31mKeyboardInterrupt\u001b[0m                         Traceback (most recent call last)",
      "\u001b[0;32m~/anaconda3/lib/python3.6/site-packages/ipykernel/kernelbase.py\u001b[0m in \u001b[0;36m_input_request\u001b[0;34m(self, prompt, ident, parent, password)\u001b[0m\n\u001b[1;32m    729\u001b[0m             \u001b[0;32mtry\u001b[0m\u001b[0;34m:\u001b[0m\u001b[0;34m\u001b[0m\u001b[0m\n\u001b[0;32m--> 730\u001b[0;31m                 \u001b[0mident\u001b[0m\u001b[0;34m,\u001b[0m \u001b[0mreply\u001b[0m \u001b[0;34m=\u001b[0m \u001b[0mself\u001b[0m\u001b[0;34m.\u001b[0m\u001b[0msession\u001b[0m\u001b[0;34m.\u001b[0m\u001b[0mrecv\u001b[0m\u001b[0;34m(\u001b[0m\u001b[0mself\u001b[0m\u001b[0;34m.\u001b[0m\u001b[0mstdin_socket\u001b[0m\u001b[0;34m,\u001b[0m \u001b[0;36m0\u001b[0m\u001b[0;34m)\u001b[0m\u001b[0;34m\u001b[0m\u001b[0m\n\u001b[0m\u001b[1;32m    731\u001b[0m             \u001b[0;32mexcept\u001b[0m \u001b[0mException\u001b[0m\u001b[0;34m:\u001b[0m\u001b[0;34m\u001b[0m\u001b[0m\n",
      "\u001b[0;32m~/anaconda3/lib/python3.6/site-packages/jupyter_client/session.py\u001b[0m in \u001b[0;36mrecv\u001b[0;34m(self, socket, mode, content, copy)\u001b[0m\n\u001b[1;32m    795\u001b[0m         \u001b[0;32mtry\u001b[0m\u001b[0;34m:\u001b[0m\u001b[0;34m\u001b[0m\u001b[0m\n\u001b[0;32m--> 796\u001b[0;31m             \u001b[0mmsg_list\u001b[0m \u001b[0;34m=\u001b[0m \u001b[0msocket\u001b[0m\u001b[0;34m.\u001b[0m\u001b[0mrecv_multipart\u001b[0m\u001b[0;34m(\u001b[0m\u001b[0mmode\u001b[0m\u001b[0;34m,\u001b[0m \u001b[0mcopy\u001b[0m\u001b[0;34m=\u001b[0m\u001b[0mcopy\u001b[0m\u001b[0;34m)\u001b[0m\u001b[0;34m\u001b[0m\u001b[0m\n\u001b[0m\u001b[1;32m    797\u001b[0m         \u001b[0;32mexcept\u001b[0m \u001b[0mzmq\u001b[0m\u001b[0;34m.\u001b[0m\u001b[0mZMQError\u001b[0m \u001b[0;32mas\u001b[0m \u001b[0me\u001b[0m\u001b[0;34m:\u001b[0m\u001b[0;34m\u001b[0m\u001b[0m\n",
      "\u001b[0;32m~/anaconda3/lib/python3.6/site-packages/zmq/sugar/socket.py\u001b[0m in \u001b[0;36mrecv_multipart\u001b[0;34m(self, flags, copy, track)\u001b[0m\n\u001b[1;32m    394\u001b[0m         \"\"\"\n\u001b[0;32m--> 395\u001b[0;31m         \u001b[0mparts\u001b[0m \u001b[0;34m=\u001b[0m \u001b[0;34m[\u001b[0m\u001b[0mself\u001b[0m\u001b[0;34m.\u001b[0m\u001b[0mrecv\u001b[0m\u001b[0;34m(\u001b[0m\u001b[0mflags\u001b[0m\u001b[0;34m,\u001b[0m \u001b[0mcopy\u001b[0m\u001b[0;34m=\u001b[0m\u001b[0mcopy\u001b[0m\u001b[0;34m,\u001b[0m \u001b[0mtrack\u001b[0m\u001b[0;34m=\u001b[0m\u001b[0mtrack\u001b[0m\u001b[0;34m)\u001b[0m\u001b[0;34m]\u001b[0m\u001b[0;34m\u001b[0m\u001b[0m\n\u001b[0m\u001b[1;32m    396\u001b[0m         \u001b[0;31m# have first part already, only loop while more to receive\u001b[0m\u001b[0;34m\u001b[0m\u001b[0;34m\u001b[0m\u001b[0m\n",
      "\u001b[0;32mzmq/backend/cython/socket.pyx\u001b[0m in \u001b[0;36mzmq.backend.cython.socket.Socket.recv (zmq/backend/cython/socket.c:7683)\u001b[0;34m()\u001b[0m\n",
      "\u001b[0;32mzmq/backend/cython/socket.pyx\u001b[0m in \u001b[0;36mzmq.backend.cython.socket.Socket.recv (zmq/backend/cython/socket.c:7460)\u001b[0;34m()\u001b[0m\n",
      "\u001b[0;32mzmq/backend/cython/socket.pyx\u001b[0m in \u001b[0;36mzmq.backend.cython.socket._recv_copy (zmq/backend/cython/socket.c:2344)\u001b[0;34m()\u001b[0m\n",
      "\u001b[0;32m~/anaconda3/lib/python3.6/site-packages/zmq/backend/cython/checkrc.pxd\u001b[0m in \u001b[0;36mzmq.backend.cython.checkrc._check_rc (zmq/backend/cython/socket.c:9621)\u001b[0;34m()\u001b[0m\n",
      "\u001b[0;31mKeyboardInterrupt\u001b[0m: ",
      "\nDuring handling of the above exception, another exception occurred:\n",
      "\u001b[0;31mKeyboardInterrupt\u001b[0m                         Traceback (most recent call last)",
      "\u001b[0;32m<ipython-input-29-6f88e3d882fe>\u001b[0m in \u001b[0;36m<module>\u001b[0;34m()\u001b[0m\n\u001b[1;32m      8\u001b[0m \u001b[0msearcher2\u001b[0m \u001b[0;34m=\u001b[0m \u001b[0mBeamSearchDecoder\u001b[0m\u001b[0;34m(\u001b[0m\u001b[0mencoder\u001b[0m\u001b[0;34m,\u001b[0m\u001b[0mdecoder\u001b[0m\u001b[0;34m,\u001b[0m\u001b[0mvoc\u001b[0m\u001b[0;34m.\u001b[0m\u001b[0mnum_words\u001b[0m\u001b[0;34m)\u001b[0m\u001b[0;34m\u001b[0m\u001b[0m\n\u001b[1;32m      9\u001b[0m \u001b[0;31m# Begin chatting (uncomment and run the following line to begin)\u001b[0m\u001b[0;34m\u001b[0m\u001b[0;34m\u001b[0m\u001b[0m\n\u001b[0;32m---> 10\u001b[0;31m \u001b[0mevaluateInput\u001b[0m\u001b[0;34m(\u001b[0m\u001b[0mencoder\u001b[0m\u001b[0;34m,\u001b[0m \u001b[0mdecoder\u001b[0m\u001b[0;34m,\u001b[0m \u001b[0msearcher\u001b[0m\u001b[0;34m,\u001b[0m \u001b[0mvoc\u001b[0m\u001b[0;34m,\u001b[0m\u001b[0memo_dict\u001b[0m\u001b[0;34m,\u001b[0m\u001b[0;32mFalse\u001b[0m\u001b[0;34m)\u001b[0m\u001b[0;34m\u001b[0m\u001b[0m\n\u001b[0m",
      "\u001b[0;32m<ipython-input-26-d7e14d615d46>\u001b[0m in \u001b[0;36mevaluateInput\u001b[0;34m(encoder, decoder, searcher, voc, emotion_dict, beam_search)\u001b[0m\n\u001b[1;32m     34\u001b[0m         \u001b[0;32mtry\u001b[0m\u001b[0;34m:\u001b[0m\u001b[0;34m\u001b[0m\u001b[0m\n\u001b[1;32m     35\u001b[0m             \u001b[0;31m# Get input sentence\u001b[0m\u001b[0;34m\u001b[0m\u001b[0;34m\u001b[0m\u001b[0m\n\u001b[0;32m---> 36\u001b[0;31m             \u001b[0minput_sentence\u001b[0m \u001b[0;34m=\u001b[0m \u001b[0minput\u001b[0m\u001b[0;34m(\u001b[0m\u001b[0;34m'> '\u001b[0m\u001b[0;34m)\u001b[0m\u001b[0;34m\u001b[0m\u001b[0m\n\u001b[0m\u001b[1;32m     37\u001b[0m             \u001b[0;32mfor\u001b[0m \u001b[0memotion\u001b[0m \u001b[0;32min\u001b[0m \u001b[0mrange\u001b[0m\u001b[0;34m(\u001b[0m\u001b[0mlen\u001b[0m\u001b[0;34m(\u001b[0m\u001b[0memotion_dict\u001b[0m\u001b[0;34m)\u001b[0m\u001b[0;34m)\u001b[0m\u001b[0;34m:\u001b[0m\u001b[0;34m\u001b[0m\u001b[0m\n\u001b[1;32m     38\u001b[0m                 \u001b[0;31m# Check if it is quit case\u001b[0m\u001b[0;34m\u001b[0m\u001b[0;34m\u001b[0m\u001b[0m\n",
      "\u001b[0;32m~/anaconda3/lib/python3.6/site-packages/ipykernel/kernelbase.py\u001b[0m in \u001b[0;36mraw_input\u001b[0;34m(self, prompt)\u001b[0m\n\u001b[1;32m    703\u001b[0m             \u001b[0mself\u001b[0m\u001b[0;34m.\u001b[0m\u001b[0m_parent_ident\u001b[0m\u001b[0;34m,\u001b[0m\u001b[0;34m\u001b[0m\u001b[0m\n\u001b[1;32m    704\u001b[0m             \u001b[0mself\u001b[0m\u001b[0;34m.\u001b[0m\u001b[0m_parent_header\u001b[0m\u001b[0;34m,\u001b[0m\u001b[0;34m\u001b[0m\u001b[0m\n\u001b[0;32m--> 705\u001b[0;31m             \u001b[0mpassword\u001b[0m\u001b[0;34m=\u001b[0m\u001b[0;32mFalse\u001b[0m\u001b[0;34m,\u001b[0m\u001b[0;34m\u001b[0m\u001b[0m\n\u001b[0m\u001b[1;32m    706\u001b[0m         )\n\u001b[1;32m    707\u001b[0m \u001b[0;34m\u001b[0m\u001b[0m\n",
      "\u001b[0;32m~/anaconda3/lib/python3.6/site-packages/ipykernel/kernelbase.py\u001b[0m in \u001b[0;36m_input_request\u001b[0;34m(self, prompt, ident, parent, password)\u001b[0m\n\u001b[1;32m    733\u001b[0m             \u001b[0;32mexcept\u001b[0m \u001b[0mKeyboardInterrupt\u001b[0m\u001b[0;34m:\u001b[0m\u001b[0;34m\u001b[0m\u001b[0m\n\u001b[1;32m    734\u001b[0m                 \u001b[0;31m# re-raise KeyboardInterrupt, to truncate traceback\u001b[0m\u001b[0;34m\u001b[0m\u001b[0;34m\u001b[0m\u001b[0m\n\u001b[0;32m--> 735\u001b[0;31m                 \u001b[0;32mraise\u001b[0m \u001b[0mKeyboardInterrupt\u001b[0m\u001b[0;34m\u001b[0m\u001b[0m\n\u001b[0m\u001b[1;32m    736\u001b[0m             \u001b[0;32melse\u001b[0m\u001b[0;34m:\u001b[0m\u001b[0;34m\u001b[0m\u001b[0m\n\u001b[1;32m    737\u001b[0m                 \u001b[0;32mbreak\u001b[0m\u001b[0;34m\u001b[0m\u001b[0m\n",
      "\u001b[0;31mKeyboardInterrupt\u001b[0m: "
     ]
    }
   ],
   "source": [
    "# Set dropout layers to eval mode\n",
    "\n",
    "encoder.eval()\n",
    "decoder.eval()\n",
    "\n",
    "# Initialize search module\n",
    "searcher = GreedySearchDecoder(encoder, decoder)\n",
    "searcher2 = BeamSearchDecoder(encoder,decoder,voc.num_words)\n",
    "# Begin chatting (uncomment and run the following line to begin)\n",
    "evaluateInput(encoder, decoder, searcher, voc,emo_dict,False)"
   ]
  }
 ],
 "metadata": {
  "kernelspec": {
   "display_name": "Python 3",
   "language": "python",
   "name": "python3"
  },
  "language_info": {
   "codemirror_mode": {
    "name": "ipython",
    "version": 3
   },
   "file_extension": ".py",
   "mimetype": "text/x-python",
   "name": "python",
   "nbconvert_exporter": "python",
   "pygments_lexer": "ipython3",
   "version": "3.6.3"
  },
  "toc": {
   "base_numbering": 1,
   "nav_menu": {},
   "number_sections": true,
   "sideBar": true,
   "skip_h1_title": false,
   "title_cell": "Table of Contents",
   "title_sidebar": "Contents",
   "toc_cell": false,
   "toc_position": {
    "height": "calc(100% - 180px)",
    "left": "10px",
    "top": "150px",
    "width": "165px"
   },
   "toc_section_display": true,
   "toc_window_display": true
  },
  "varInspector": {
   "cols": {
    "lenName": 16,
    "lenType": 16,
    "lenVar": 40
   },
   "kernels_config": {
    "python": {
     "delete_cmd_postfix": "",
     "delete_cmd_prefix": "del ",
     "library": "var_list.py",
     "varRefreshCmd": "print(var_dic_list())"
    },
    "r": {
     "delete_cmd_postfix": ") ",
     "delete_cmd_prefix": "rm(",
     "library": "var_list.r",
     "varRefreshCmd": "cat(var_dic_list()) "
    }
   },
   "types_to_exclude": [
    "module",
    "function",
    "builtin_function_or_method",
    "instance",
    "_Feature"
   ],
   "window_display": false
  }
 },
 "nbformat": 4,
 "nbformat_minor": 2
}
